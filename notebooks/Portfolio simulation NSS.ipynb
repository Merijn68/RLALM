{
 "cells": [
  {
   "attachments": {},
   "cell_type": "markdown",
   "id": "502f6109",
   "metadata": {},
   "source": [
    "# Nelson Siegel Svensson (NSS) Interest Rate Model\n",
    "\n",
    "A more advanced model to simulate interest rates. "
   ]
  },
  {
   "cell_type": "code",
   "execution_count": 5,
   "id": "31b87f68",
   "metadata": {},
   "outputs": [],
   "source": [
    "import scipy.optimize as optimize\n",
    "from src.data import dataset\n",
    "import matplotlib.pyplot as plt\n",
    "import numpy as np"
   ]
  },
  {
   "cell_type": "code",
   "execution_count": 4,
   "id": "7b1bb8d1",
   "metadata": {},
   "outputs": [],
   "source": [
    "zerocurve = dataset.Zerocurve()\n",
    "zerocurve.load_data()\n",
    "df_z = zerocurve.df\n",
    "start_date = df_z.index.min()\n",
    "end_date = df_z.index.max()\n",
    "yield_data = df_z.pivot(columns = 'tenor', values = 'rate')"
   ]
  },
  {
   "cell_type": "code",
   "execution_count": null,
   "id": "049f1f3e",
   "metadata": {},
   "outputs": [],
   "source": [
    "# yield columns must be in year fractions"
   ]
  },
  {
   "cell_type": "code",
   "execution_count": 7,
   "id": "2f7d2d89",
   "metadata": {},
   "outputs": [
    {
     "ename": "ValueError",
     "evalue": "could not convert string to float: '1 Year'",
     "output_type": "error",
     "traceback": [
      "\u001b[1;31m---------------------------------------------------------------------------\u001b[0m",
      "\u001b[1;31mValueError\u001b[0m                                Traceback (most recent call last)",
      "Cell \u001b[1;32mIn[7], line 10\u001b[0m\n\u001b[0;32m      7\u001b[0m     \u001b[39mreturn\u001b[39;00m np\u001b[39m.\u001b[39msum((nss(t, \u001b[39m*\u001b[39mx) \u001b[39m-\u001b[39m y)\u001b[39m*\u001b[39m\u001b[39m*\u001b[39m\u001b[39m2\u001b[39m)\n\u001b[0;32m      9\u001b[0m \u001b[39m# Fit the NSS model to the historical yield data\u001b[39;00m\n\u001b[1;32m---> 10\u001b[0m t \u001b[39m=\u001b[39m np\u001b[39m.\u001b[39;49marray(yield_data\u001b[39m.\u001b[39;49mcolumns\u001b[39m.\u001b[39;49mvalues, dtype\u001b[39m=\u001b[39;49mnp\u001b[39m.\u001b[39;49mfloat64)\n\u001b[0;32m     11\u001b[0m y \u001b[39m=\u001b[39m yield_data\u001b[39m.\u001b[39miloc[\u001b[39m-\u001b[39m\u001b[39m1\u001b[39m]\u001b[39m.\u001b[39mvalues\n\u001b[0;32m     12\u001b[0m x0 \u001b[39m=\u001b[39m [\u001b[39m1\u001b[39m, \u001b[39m-\u001b[39m\u001b[39m0.01\u001b[39m, \u001b[39m-\u001b[39m\u001b[39m0.01\u001b[39m, \u001b[39m-\u001b[39m\u001b[39m0.01\u001b[39m, \u001b[39m1\u001b[39m, \u001b[39m1\u001b[39m]\n",
      "\u001b[1;31mValueError\u001b[0m: could not convert string to float: '1 Year'"
     ]
    }
   ],
   "source": [
    "# Define the NSS function\n",
    "def nss(t, beta0, beta1, beta2, beta3, tau1, tau2):\n",
    "    return beta0 + beta1 * (1 - np.exp(-t/tau1))/(t/tau1) + beta2 * ((1 - np.exp(-t/tau1))/(t/tau1) - np.exp(-t/tau1)) + beta3 * ((1 - np.exp(-t/tau2))/(t/tau2) - np.exp(-t/tau2))\n",
    "\n",
    "# Define the objective function to minimize the sum of squared errors between the actual and predicted yield curve\n",
    "def nss_obj(x, t, y):\n",
    "    return np.sum((nss(t, *x) - y)**2)\n",
    "\n",
    "# Fit the NSS model to the historical yield data\n",
    "t = np.array(yield_data.columns.values, dtype=np.float64)\n",
    "y = yield_data.iloc[-1].values\n",
    "x0 = [1, -0.01, -0.01, -0.01, 1, 1]\n",
    "res = optimize.minimize(nss_obj, x0, args=(t, y))\n",
    "beta0, beta1, beta2, beta3, tau1, tau2 = res.x\n",
    "\n",
    "# Define a function to simulate the NSS model\n",
    "def nss_simulate(t, beta0, beta1, beta2, beta3, tau1, tau2):\n",
    "    return nss(t, beta0, beta1, beta2, beta3, tau1, tau2)\n",
    "\n",
    "# Define the time horizon and time step\n",
    "T = 1 # time horizon\n",
    "dt = 1/252 # time step\n",
    "\n",
    "# Simulate the NSS model\n",
    "yield_curve = [nss_simulate(t[-1] + dt, beta0, beta1, beta2, beta3, tau1, tau2)]\n",
    "for i in range(int(T/dt)):\n",
    "    t_i = t[-1] + (i+1)*dt\n",
    "    yield_i = nss_simulate(t_i, beta0, beta1, beta2, beta3, tau1, tau2)\n",
    "    yield_curve.append(yield_i)\n",
    "\n",
    "# Plot the simulated yield curve\n",
    "plt.plot(yield_curve)\n",
    "plt.show()"
   ]
  }
 ],
 "metadata": {
  "kernelspec": {
   "display_name": "rlalm",
   "language": "python",
   "name": "rlalm"
  },
  "language_info": {
   "codemirror_mode": {
    "name": "ipython",
    "version": 3
   },
   "file_extension": ".py",
   "mimetype": "text/x-python",
   "name": "python",
   "nbconvert_exporter": "python",
   "pygments_lexer": "ipython3",
   "version": "3.10.9"
  }
 },
 "nbformat": 4,
 "nbformat_minor": 5
}
