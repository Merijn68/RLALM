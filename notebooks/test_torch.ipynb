{
 "cells": [
  {
   "cell_type": "markdown",
   "id": "d58e2cab",
   "metadata": {},
   "source": [
    "# Pytorch test"
   ]
  },
  {
   "cell_type": "code",
   "execution_count": 1,
   "id": "c96c45d1",
   "metadata": {},
   "outputs": [
    {
     "name": "stdout",
     "output_type": "stream",
     "text": [
      "tensor([[0.0960, 0.5934, 0.6734],\n",
      "        [0.2534, 0.1671, 0.8498],\n",
      "        [0.3026, 0.0430, 0.6923],\n",
      "        [0.4924, 0.5752, 0.5348],\n",
      "        [0.9628, 0.8067, 0.6728]])\n"
     ]
    }
   ],
   "source": [
    "import torch\n",
    "x = torch.rand(5, 3)\n",
    "print(x)"
   ]
  },
  {
   "cell_type": "code",
   "execution_count": 2,
   "id": "4560770b",
   "metadata": {},
   "outputs": [
    {
     "data": {
      "text/plain": [
       "True"
      ]
     },
     "execution_count": 2,
     "metadata": {},
     "output_type": "execute_result"
    }
   ],
   "source": [
    "torch.cuda.is_available()"
   ]
  },
  {
   "cell_type": "code",
   "execution_count": null,
   "id": "04aa54bb",
   "metadata": {},
   "outputs": [],
   "source": []
  }
 ],
 "metadata": {
  "kernelspec": {
   "display_name": "rlalm",
   "language": "python",
   "name": "rlalm"
  },
  "language_info": {
   "codemirror_mode": {
    "name": "ipython",
    "version": 3
   },
   "file_extension": ".py",
   "mimetype": "text/x-python",
   "name": "python",
   "nbconvert_exporter": "python",
   "pygments_lexer": "ipython3",
   "version": "3.10.9"
  }
 },
 "nbformat": 4,
 "nbformat_minor": 5
}
