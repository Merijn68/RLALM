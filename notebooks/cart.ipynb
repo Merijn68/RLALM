{
 "cells": [
  {
   "cell_type": "code",
   "execution_count": 1,
   "id": "03bee491",
   "metadata": {},
   "outputs": [],
   "source": [
    "import gymnasium as gym\n",
    "env = gym.make(\"CartPole-v1\")"
   ]
  },
  {
   "cell_type": "code",
   "execution_count": 4,
   "id": "efffbd78",
   "metadata": {},
   "outputs": [
    {
     "data": {
      "text/plain": [
       "Discrete(2)"
      ]
     },
     "execution_count": 4,
     "metadata": {},
     "output_type": "execute_result"
    }
   ],
   "source": [
    "env.action_space"
   ]
  },
  {
   "cell_type": "code",
   "execution_count": 5,
   "id": "5fbb7e81",
   "metadata": {},
   "outputs": [
    {
     "data": {
      "text/plain": [
       "(array([-0.03861868,  0.00684651,  0.04572421, -0.00346667], dtype=float32),\n",
       " {})"
      ]
     },
     "execution_count": 5,
     "metadata": {},
     "output_type": "execute_result"
    }
   ],
   "source": [
    "env.reset()"
   ]
  },
  {
   "cell_type": "code",
   "execution_count": null,
   "id": "966e6d5e",
   "metadata": {},
   "outputs": [],
   "source": [
    "env.step(env.action_space.sample())"
   ]
  },
  {
   "cell_type": "code",
   "execution_count": null,
   "id": "60fe6acb",
   "metadata": {},
   "outputs": [],
   "source": [
    "# returns an initial observation\n",
    "env.reset()\n",
    "for i in range(20):\n",
    "   # env.action_space.sample() produces either 0 (left) or 1 (right).\n",
    "   observation,reward,done,info =env.step(env.action_space.sample())\n",
    "   print(\"step\", i, observation, reward, done, info)\n",
    "env.close()"
   ]
  },
  {
   "cell_type": "markdown",
   "id": "27124a12",
   "metadata": {},
   "source": [
    "For Google Colab: Colab does not have a video mode"
   ]
  },
  {
   "cell_type": "code",
   "execution_count": null,
   "id": "0f059814",
   "metadata": {},
   "outputs": [],
   "source": [
    "# install dependencies needed for recording videos\n",
    "!apt-get install -y xvfb x11-utils\n",
    "!pip install pyvirtualdisplay==0.2.*"
   ]
  },
  {
   "cell_type": "code",
   "execution_count": null,
   "id": "4c5476ac",
   "metadata": {},
   "outputs": [],
   "source": [
    "from pyvirtualdisplay import Display\n",
    "display = Display(visible=False, size=(1400, 900))\n",
    "_ = display.start()"
   ]
  },
  {
   "cell_type": "code",
   "execution_count": null,
   "id": "72585461",
   "metadata": {},
   "outputs": [],
   "source": [
    "from gym.wrappers.monitoring.video_recorder import VideoRecorder\n",
    "before_training = \"before_training.mp4\"\n",
    "video = VideoRecorder(env, before_training)\n",
    "# returns an initial observation\n",
    "env.reset()\n",
    "for i in range(200):\n",
    "   env.render()\n",
    "   video.capture_frame()\n",
    "   # env.action_space.sample() produces either 0 (left) or 1 (right).\n",
    "   observation, reward, done, info = env.step(env.action_space.sample())\n",
    "   # Not printing this time\n",
    "   # print(\"step\", i, observation, reward, done, info)\n",
    "video.close()\n",
    "env.close()"
   ]
  },
  {
   "cell_type": "code",
   "execution_count": null,
   "id": "17317f5e",
   "metadata": {},
   "outputs": [],
   "source": [
    "from base64 import b64encode\n",
    "def render_mp4(videopath: str) -> str:\n",
    "  \"\"\"\n",
    "  Gets a string containing a b4-encoded version of the MP4 video\n",
    "  at the specified path.\n",
    "  \"\"\"\n",
    "  mp4 = open(videopath, 'rb').read()\n",
    "  base64_encoded_mp4 = b64encode(mp4).decode()\n",
    "  return f'<video width=400 controls><source src=\"data:video/mp4;' \\\n",
    "         f'base64,{base64_encoded_mp4}\" type=\"video/mp4\"></video>'"
   ]
  },
  {
   "cell_type": "code",
   "execution_count": null,
   "id": "d064e262",
   "metadata": {},
   "outputs": [],
   "source": [
    "from IPython.display import HTML\n",
    "html = render_mp4(before_training)\n",
    "HTML(html)"
   ]
  },
  {
   "cell_type": "code",
   "execution_count": null,
   "id": "1a937d5b",
   "metadata": {},
   "outputs": [],
   "source": [
    "import ray\n",
    "from ray.rllib.agents.ppo import PPOTrainer\n",
    "config = {\n",
    "   \"env\": \"CartPole-v1\",\n",
    "   \n",
    "   # Change the following line to `“framework”: “tf”` to use tensorflow\n",
    "   # \"framework\": \"torch\",\n",
    "   \"framework\": \"tf2\",\n",
    "   \"model\": {\n",
    "      \"fcnet_hiddens\": [32],\n",
    "      \"fcnet_activation\": \"linear\",\n",
    "   },\n",
    "}\n",
    "stop = {\"episode_reward_mean\": 195}\n",
    "ray.shutdown()\n",
    "ray.init(\n",
    "   num_cpus=3,\n",
    "   include_dashboard=False,\n",
    "   ignore_reinit_error=True,\n",
    "   log_to_driver=False,\n",
    ")\n",
    "# execute training\n",
    "analysis = ray.tune.run(\n",
    "   \"PPO\",\n",
    "   config=config,\n",
    "   stop=stop,\n",
    "   checkpoint_at_end=True,\n",
    ")"
   ]
  },
  {
   "cell_type": "markdown",
   "id": "059f0358",
   "metadata": {},
   "source": [
    "## poetry install tensorflow_probability ? \n"
   ]
  },
  {
   "cell_type": "code",
   "execution_count": null,
   "id": "5aaa4324",
   "metadata": {},
   "outputs": [],
   "source": []
  }
 ],
 "metadata": {
  "kernelspec": {
   "display_name": "rlalm",
   "language": "python",
   "name": "rlalm"
  },
  "language_info": {
   "codemirror_mode": {
    "name": "ipython",
    "version": 3
   },
   "file_extension": ".py",
   "mimetype": "text/x-python",
   "name": "python",
   "nbconvert_exporter": "python",
   "pygments_lexer": "ipython3",
   "version": "3.10.9"
  }
 },
 "nbformat": 4,
 "nbformat_minor": 5
}
