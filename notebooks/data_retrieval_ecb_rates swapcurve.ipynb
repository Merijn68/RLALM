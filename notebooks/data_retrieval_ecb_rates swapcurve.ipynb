{
 "cells": [
  {
   "attachments": {},
   "cell_type": "markdown",
   "id": "16d24c4e",
   "metadata": {},
   "source": [
    "# Data retrieval European Central Bank - rates "
   ]
  },
  {
   "cell_type": "code",
   "execution_count": 1,
   "id": "ffc24cd7",
   "metadata": {},
   "outputs": [],
   "source": [
    "%load_ext autoreload\n",
    "%autoreload 2\n",
    "from  src.data.zerocurve import Zerocurve"
   ]
  },
  {
   "cell_type": "code",
   "execution_count": 2,
   "id": "9cfde246",
   "metadata": {},
   "outputs": [
    {
     "name": "stderr",
     "output_type": "stream",
     "text": [
      "2023-03-17 17:46:21.676 | INFO     | src.data.dataset:read_data:26 - reading zerocurve data from ESW.\n",
      "c:\\Users\\M\\miniconda3\\envs\\rlalm\\lib\\site-packages\\pandas\\core\\internals\\blocks.py:351: RuntimeWarning: invalid value encountered in log1p\n",
      "  result = func(self.values, **kwargs)\n"
     ]
    },
    {
     "data": {
      "text/plain": [
       "<Response [200]>"
      ]
     },
     "execution_count": 2,
     "metadata": {},
     "output_type": "execute_result"
    }
   ],
   "source": [
    "zerocurve = Zerocurve()\n",
    "zerocurve.read_data()"
   ]
  },
  {
   "cell_type": "code",
   "execution_count": 4,
   "id": "c6da02ab",
   "metadata": {},
   "outputs": [
    {
     "name": "stderr",
     "output_type": "stream",
     "text": [
      "2023-03-17 14:55:13.797 | INFO     | src.data.dataset:save_data:54 - saving zerocurve data to file.\n"
     ]
    }
   ],
   "source": [
    "zerocurve.save_data()"
   ]
  },
  {
   "cell_type": "code",
   "execution_count": 5,
   "id": "a34616b3",
   "metadata": {},
   "outputs": [
    {
     "name": "stderr",
     "output_type": "stream",
     "text": [
      "2023-03-17 14:55:15.806 | INFO     | src.data.dataset:load_data:44 - loading zerocurve data from file.\n",
      "c:\\Users\\M\\miniconda3\\envs\\rlalm\\lib\\site-packages\\pandas\\core\\internals\\blocks.py:351: RuntimeWarning: invalid value encountered in log1p\n",
      "  result = func(self.values, **kwargs)\n"
     ]
    }
   ],
   "source": [
    "zerocurve.load_data()"
   ]
  },
  {
   "cell_type": "code",
   "execution_count": 6,
   "id": "9ef7ef3a",
   "metadata": {},
   "outputs": [
    {
     "name": "stderr",
     "output_type": "stream",
     "text": [
      "2023-03-17 14:55:17.935 | DEBUG    | src.data.zerocurve:step:125 - Stepping in zerocurve 2023-03-01 00:00:00.\n"
     ]
    }
   ],
   "source": [
    "zerocurve.step()"
   ]
  },
  {
   "cell_type": "code",
   "execution_count": 7,
   "id": "3fb8ae8c",
   "metadata": {},
   "outputs": [
    {
     "data": {
      "text/html": [
       "<div>\n",
       "<style scoped>\n",
       "    .dataframe tbody tr th:only-of-type {\n",
       "        vertical-align: middle;\n",
       "    }\n",
       "\n",
       "    .dataframe tbody tr th {\n",
       "        vertical-align: top;\n",
       "    }\n",
       "\n",
       "    .dataframe thead th {\n",
       "        text-align: right;\n",
       "    }\n",
       "</style>\n",
       "<table border=\"1\" class=\"dataframe\">\n",
       "  <thead>\n",
       "    <tr style=\"text-align: right;\">\n",
       "      <th>tenor</th>\n",
       "      <th>0</th>\n",
       "      <th>3</th>\n",
       "      <th>6</th>\n",
       "      <th>9</th>\n",
       "      <th>12</th>\n",
       "      <th>15</th>\n",
       "      <th>18</th>\n",
       "      <th>24</th>\n",
       "      <th>36</th>\n",
       "      <th>48</th>\n",
       "      <th>60</th>\n",
       "      <th>84</th>\n",
       "      <th>120</th>\n",
       "      <th>180</th>\n",
       "      <th>360</th>\n",
       "    </tr>\n",
       "    <tr>\n",
       "      <th>rate_dt</th>\n",
       "      <th></th>\n",
       "      <th></th>\n",
       "      <th></th>\n",
       "      <th></th>\n",
       "      <th></th>\n",
       "      <th></th>\n",
       "      <th></th>\n",
       "      <th></th>\n",
       "      <th></th>\n",
       "      <th></th>\n",
       "      <th></th>\n",
       "      <th></th>\n",
       "      <th></th>\n",
       "      <th></th>\n",
       "      <th></th>\n",
       "    </tr>\n",
       "  </thead>\n",
       "  <tbody>\n",
       "    <tr>\n",
       "      <th>2023-02-23</th>\n",
       "      <td>3.049652</td>\n",
       "      <td>3.049652</td>\n",
       "      <td>3.238725</td>\n",
       "      <td>3.117648</td>\n",
       "      <td>2.918201</td>\n",
       "      <td>2.731899</td>\n",
       "      <td>2.586969</td>\n",
       "      <td>2.419994</td>\n",
       "      <td>2.359113</td>\n",
       "      <td>2.402910</td>\n",
       "      <td>2.454270</td>\n",
       "      <td>2.528621</td>\n",
       "      <td>2.571125</td>\n",
       "      <td>2.518990</td>\n",
       "      <td>2.050232</td>\n",
       "    </tr>\n",
       "    <tr>\n",
       "      <th>2023-02-24</th>\n",
       "      <td>3.045115</td>\n",
       "      <td>3.045115</td>\n",
       "      <td>3.279834</td>\n",
       "      <td>3.234152</td>\n",
       "      <td>3.087703</td>\n",
       "      <td>2.924748</td>\n",
       "      <td>2.780437</td>\n",
       "      <td>2.580853</td>\n",
       "      <td>2.444523</td>\n",
       "      <td>2.447321</td>\n",
       "      <td>2.477391</td>\n",
       "      <td>2.529558</td>\n",
       "      <td>2.560305</td>\n",
       "      <td>2.517924</td>\n",
       "      <td>2.115453</td>\n",
       "    </tr>\n",
       "    <tr>\n",
       "      <th>2023-02-27</th>\n",
       "      <td>3.074600</td>\n",
       "      <td>3.074600</td>\n",
       "      <td>3.325308</td>\n",
       "      <td>3.271961</td>\n",
       "      <td>3.111991</td>\n",
       "      <td>2.936755</td>\n",
       "      <td>2.783573</td>\n",
       "      <td>2.576131</td>\n",
       "      <td>2.445001</td>\n",
       "      <td>2.459598</td>\n",
       "      <td>2.500807</td>\n",
       "      <td>2.570856</td>\n",
       "      <td>2.619318</td>\n",
       "      <td>2.589171</td>\n",
       "      <td>2.164195</td>\n",
       "    </tr>\n",
       "    <tr>\n",
       "      <th>2023-02-28</th>\n",
       "      <td>3.052459</td>\n",
       "      <td>3.052459</td>\n",
       "      <td>3.369500</td>\n",
       "      <td>3.390191</td>\n",
       "      <td>3.282758</td>\n",
       "      <td>3.135074</td>\n",
       "      <td>2.989885</td>\n",
       "      <td>2.766859</td>\n",
       "      <td>2.588444</td>\n",
       "      <td>2.586636</td>\n",
       "      <td>2.630026</td>\n",
       "      <td>2.712942</td>\n",
       "      <td>2.767047</td>\n",
       "      <td>2.715403</td>\n",
       "      <td>2.173018</td>\n",
       "    </tr>\n",
       "    <tr>\n",
       "      <th>2023-03-01</th>\n",
       "      <td>3.048670</td>\n",
       "      <td>3.048670</td>\n",
       "      <td>3.366633</td>\n",
       "      <td>3.386959</td>\n",
       "      <td>3.279904</td>\n",
       "      <td>3.132476</td>\n",
       "      <td>2.987416</td>\n",
       "      <td>2.764837</td>\n",
       "      <td>2.585872</td>\n",
       "      <td>2.584007</td>\n",
       "      <td>2.627493</td>\n",
       "      <td>2.710190</td>\n",
       "      <td>2.764244</td>\n",
       "      <td>2.712933</td>\n",
       "      <td>2.171940</td>\n",
       "    </tr>\n",
       "  </tbody>\n",
       "</table>\n",
       "</div>"
      ],
      "text/plain": [
       "tenor            0         3         6         9         12        15   \\\n",
       "rate_dt                                                                  \n",
       "2023-02-23  3.049652  3.049652  3.238725  3.117648  2.918201  2.731899   \n",
       "2023-02-24  3.045115  3.045115  3.279834  3.234152  3.087703  2.924748   \n",
       "2023-02-27  3.074600  3.074600  3.325308  3.271961  3.111991  2.936755   \n",
       "2023-02-28  3.052459  3.052459  3.369500  3.390191  3.282758  3.135074   \n",
       "2023-03-01  3.048670  3.048670  3.366633  3.386959  3.279904  3.132476   \n",
       "\n",
       "tenor            18        24        36        48        60        84   \\\n",
       "rate_dt                                                                  \n",
       "2023-02-23  2.586969  2.419994  2.359113  2.402910  2.454270  2.528621   \n",
       "2023-02-24  2.780437  2.580853  2.444523  2.447321  2.477391  2.529558   \n",
       "2023-02-27  2.783573  2.576131  2.445001  2.459598  2.500807  2.570856   \n",
       "2023-02-28  2.989885  2.766859  2.588444  2.586636  2.630026  2.712942   \n",
       "2023-03-01  2.987416  2.764837  2.585872  2.584007  2.627493  2.710190   \n",
       "\n",
       "tenor            120       180       360  \n",
       "rate_dt                                   \n",
       "2023-02-23  2.571125  2.518990  2.050232  \n",
       "2023-02-24  2.560305  2.517924  2.115453  \n",
       "2023-02-27  2.619318  2.589171  2.164195  \n",
       "2023-02-28  2.767047  2.715403  2.173018  \n",
       "2023-03-01  2.764244  2.712933  2.171940  "
      ]
     },
     "execution_count": 7,
     "metadata": {},
     "output_type": "execute_result"
    }
   ],
   "source": [
    "zerocurve.yield_data.tail()"
   ]
  },
  {
   "cell_type": "code",
   "execution_count": 8,
   "id": "2a799efa",
   "metadata": {},
   "outputs": [
    {
     "name": "stderr",
     "output_type": "stream",
     "text": [
      "c:\\Users\\M\\miniconda3\\envs\\rlalm\\lib\\site-packages\\pandas\\core\\internals\\blocks.py:351: RuntimeWarning: invalid value encountered in log1p\n",
      "  result = func(self.values, **kwargs)\n"
     ]
    }
   ],
   "source": [
    "zerocurve.reset()\n"
   ]
  },
  {
   "cell_type": "code",
   "execution_count": 9,
   "id": "90333c36",
   "metadata": {},
   "outputs": [
    {
     "name": "stderr",
     "output_type": "stream",
     "text": [
      "2023-03-17 14:55:31.086 | DEBUG    | src.data.zerocurve:step:125 - Stepping in zerocurve 2023-03-01 00:00:00.\n"
     ]
    }
   ],
   "source": [
    "zerocurve.step()"
   ]
  },
  {
   "cell_type": "code",
   "execution_count": 10,
   "id": "35797e71",
   "metadata": {},
   "outputs": [
    {
     "data": {
      "text/html": [
       "<div>\n",
       "<style scoped>\n",
       "    .dataframe tbody tr th:only-of-type {\n",
       "        vertical-align: middle;\n",
       "    }\n",
       "\n",
       "    .dataframe tbody tr th {\n",
       "        vertical-align: top;\n",
       "    }\n",
       "\n",
       "    .dataframe thead th {\n",
       "        text-align: right;\n",
       "    }\n",
       "</style>\n",
       "<table border=\"1\" class=\"dataframe\">\n",
       "  <thead>\n",
       "    <tr style=\"text-align: right;\">\n",
       "      <th>tenor</th>\n",
       "      <th>0</th>\n",
       "      <th>3</th>\n",
       "      <th>6</th>\n",
       "      <th>9</th>\n",
       "      <th>12</th>\n",
       "      <th>15</th>\n",
       "      <th>18</th>\n",
       "      <th>24</th>\n",
       "      <th>36</th>\n",
       "      <th>48</th>\n",
       "      <th>60</th>\n",
       "      <th>84</th>\n",
       "      <th>120</th>\n",
       "      <th>180</th>\n",
       "      <th>360</th>\n",
       "    </tr>\n",
       "    <tr>\n",
       "      <th>rate_dt</th>\n",
       "      <th></th>\n",
       "      <th></th>\n",
       "      <th></th>\n",
       "      <th></th>\n",
       "      <th></th>\n",
       "      <th></th>\n",
       "      <th></th>\n",
       "      <th></th>\n",
       "      <th></th>\n",
       "      <th></th>\n",
       "      <th></th>\n",
       "      <th></th>\n",
       "      <th></th>\n",
       "      <th></th>\n",
       "      <th></th>\n",
       "    </tr>\n",
       "  </thead>\n",
       "  <tbody>\n",
       "    <tr>\n",
       "      <th>2023-02-23</th>\n",
       "      <td>3.049652</td>\n",
       "      <td>3.049652</td>\n",
       "      <td>3.238725</td>\n",
       "      <td>3.117648</td>\n",
       "      <td>2.918201</td>\n",
       "      <td>2.731899</td>\n",
       "      <td>2.586969</td>\n",
       "      <td>2.419994</td>\n",
       "      <td>2.359113</td>\n",
       "      <td>2.402910</td>\n",
       "      <td>2.454270</td>\n",
       "      <td>2.528621</td>\n",
       "      <td>2.571125</td>\n",
       "      <td>2.518990</td>\n",
       "      <td>2.050232</td>\n",
       "    </tr>\n",
       "    <tr>\n",
       "      <th>2023-02-24</th>\n",
       "      <td>3.045115</td>\n",
       "      <td>3.045115</td>\n",
       "      <td>3.279834</td>\n",
       "      <td>3.234152</td>\n",
       "      <td>3.087703</td>\n",
       "      <td>2.924748</td>\n",
       "      <td>2.780437</td>\n",
       "      <td>2.580853</td>\n",
       "      <td>2.444523</td>\n",
       "      <td>2.447321</td>\n",
       "      <td>2.477391</td>\n",
       "      <td>2.529558</td>\n",
       "      <td>2.560305</td>\n",
       "      <td>2.517924</td>\n",
       "      <td>2.115453</td>\n",
       "    </tr>\n",
       "    <tr>\n",
       "      <th>2023-02-27</th>\n",
       "      <td>3.074600</td>\n",
       "      <td>3.074600</td>\n",
       "      <td>3.325308</td>\n",
       "      <td>3.271961</td>\n",
       "      <td>3.111991</td>\n",
       "      <td>2.936755</td>\n",
       "      <td>2.783573</td>\n",
       "      <td>2.576131</td>\n",
       "      <td>2.445001</td>\n",
       "      <td>2.459598</td>\n",
       "      <td>2.500807</td>\n",
       "      <td>2.570856</td>\n",
       "      <td>2.619318</td>\n",
       "      <td>2.589171</td>\n",
       "      <td>2.164195</td>\n",
       "    </tr>\n",
       "    <tr>\n",
       "      <th>2023-02-28</th>\n",
       "      <td>3.052459</td>\n",
       "      <td>3.052459</td>\n",
       "      <td>3.369500</td>\n",
       "      <td>3.390191</td>\n",
       "      <td>3.282758</td>\n",
       "      <td>3.135074</td>\n",
       "      <td>2.989885</td>\n",
       "      <td>2.766859</td>\n",
       "      <td>2.588444</td>\n",
       "      <td>2.586636</td>\n",
       "      <td>2.630026</td>\n",
       "      <td>2.712942</td>\n",
       "      <td>2.767047</td>\n",
       "      <td>2.715403</td>\n",
       "      <td>2.173018</td>\n",
       "    </tr>\n",
       "    <tr>\n",
       "      <th>2023-03-01</th>\n",
       "      <td>3.051601</td>\n",
       "      <td>3.051601</td>\n",
       "      <td>3.368873</td>\n",
       "      <td>3.389493</td>\n",
       "      <td>3.282132</td>\n",
       "      <td>3.134499</td>\n",
       "      <td>2.989328</td>\n",
       "      <td>2.766430</td>\n",
       "      <td>2.587877</td>\n",
       "      <td>2.586062</td>\n",
       "      <td>2.629463</td>\n",
       "      <td>2.712326</td>\n",
       "      <td>2.766399</td>\n",
       "      <td>2.714846</td>\n",
       "      <td>2.172772</td>\n",
       "    </tr>\n",
       "  </tbody>\n",
       "</table>\n",
       "</div>"
      ],
      "text/plain": [
       "tenor            0         3         6         9         12        15   \\\n",
       "rate_dt                                                                  \n",
       "2023-02-23  3.049652  3.049652  3.238725  3.117648  2.918201  2.731899   \n",
       "2023-02-24  3.045115  3.045115  3.279834  3.234152  3.087703  2.924748   \n",
       "2023-02-27  3.074600  3.074600  3.325308  3.271961  3.111991  2.936755   \n",
       "2023-02-28  3.052459  3.052459  3.369500  3.390191  3.282758  3.135074   \n",
       "2023-03-01  3.051601  3.051601  3.368873  3.389493  3.282132  3.134499   \n",
       "\n",
       "tenor            18        24        36        48        60        84   \\\n",
       "rate_dt                                                                  \n",
       "2023-02-23  2.586969  2.419994  2.359113  2.402910  2.454270  2.528621   \n",
       "2023-02-24  2.780437  2.580853  2.444523  2.447321  2.477391  2.529558   \n",
       "2023-02-27  2.783573  2.576131  2.445001  2.459598  2.500807  2.570856   \n",
       "2023-02-28  2.989885  2.766859  2.588444  2.586636  2.630026  2.712942   \n",
       "2023-03-01  2.989328  2.766430  2.587877  2.586062  2.629463  2.712326   \n",
       "\n",
       "tenor            120       180       360  \n",
       "rate_dt                                   \n",
       "2023-02-23  2.571125  2.518990  2.050232  \n",
       "2023-02-24  2.560305  2.517924  2.115453  \n",
       "2023-02-27  2.619318  2.589171  2.164195  \n",
       "2023-02-28  2.767047  2.715403  2.173018  \n",
       "2023-03-01  2.766399  2.714846  2.172772  "
      ]
     },
     "execution_count": 10,
     "metadata": {},
     "output_type": "execute_result"
    }
   ],
   "source": [
    "zerocurve.yield_data.tail()"
   ]
  },
  {
   "cell_type": "code",
   "execution_count": 11,
   "id": "bf6beff0",
   "metadata": {},
   "outputs": [
    {
     "data": {
      "text/html": [
       "<div>\n",
       "<style scoped>\n",
       "    .dataframe tbody tr th:only-of-type {\n",
       "        vertical-align: middle;\n",
       "    }\n",
       "\n",
       "    .dataframe tbody tr th {\n",
       "        vertical-align: top;\n",
       "    }\n",
       "\n",
       "    .dataframe thead th {\n",
       "        text-align: right;\n",
       "    }\n",
       "</style>\n",
       "<table border=\"1\" class=\"dataframe\">\n",
       "  <thead>\n",
       "    <tr style=\"text-align: right;\">\n",
       "      <th></th>\n",
       "      <th>tenor</th>\n",
       "      <th>rate</th>\n",
       "      <th>value_dt</th>\n",
       "    </tr>\n",
       "    <tr>\n",
       "      <th>rate_dt</th>\n",
       "      <th></th>\n",
       "      <th></th>\n",
       "      <th></th>\n",
       "    </tr>\n",
       "  </thead>\n",
       "  <tbody>\n",
       "    <tr>\n",
       "      <th>2023-03-01</th>\n",
       "      <td>60</td>\n",
       "      <td>2.629463</td>\n",
       "      <td>2028-02-29</td>\n",
       "    </tr>\n",
       "    <tr>\n",
       "      <th>2023-03-01</th>\n",
       "      <td>84</td>\n",
       "      <td>2.712326</td>\n",
       "      <td>2030-03-01</td>\n",
       "    </tr>\n",
       "    <tr>\n",
       "      <th>2023-03-01</th>\n",
       "      <td>120</td>\n",
       "      <td>2.766399</td>\n",
       "      <td>2033-02-28</td>\n",
       "    </tr>\n",
       "    <tr>\n",
       "      <th>2023-03-01</th>\n",
       "      <td>180</td>\n",
       "      <td>2.714846</td>\n",
       "      <td>2038-03-01</td>\n",
       "    </tr>\n",
       "    <tr>\n",
       "      <th>2023-03-01</th>\n",
       "      <td>360</td>\n",
       "      <td>2.172772</td>\n",
       "      <td>2053-02-28</td>\n",
       "    </tr>\n",
       "  </tbody>\n",
       "</table>\n",
       "</div>"
      ],
      "text/plain": [
       "            tenor      rate   value_dt\n",
       "rate_dt                               \n",
       "2023-03-01     60  2.629463 2028-02-29\n",
       "2023-03-01     84  2.712326 2030-03-01\n",
       "2023-03-01    120  2.766399 2033-02-28\n",
       "2023-03-01    180  2.714846 2038-03-01\n",
       "2023-03-01    360  2.172772 2053-02-28"
      ]
     },
     "execution_count": 11,
     "metadata": {},
     "output_type": "execute_result"
    }
   ],
   "source": [
    "zerocurve.df.tail()"
   ]
  },
  {
   "cell_type": "code",
   "execution_count": 4,
   "id": "aa52a812",
   "metadata": {},
   "outputs": [
    {
     "data": {
      "text/plain": [
       "tenor\n",
       "0      float64\n",
       "3      float64\n",
       "6      float64\n",
       "9      float64\n",
       "12     float64\n",
       "15     float64\n",
       "18     float64\n",
       "24     float64\n",
       "36     float64\n",
       "48     float64\n",
       "60     float64\n",
       "84     float64\n",
       "120    float64\n",
       "180    float64\n",
       "360    float64\n",
       "dtype: object"
      ]
     },
     "execution_count": 4,
     "metadata": {},
     "output_type": "execute_result"
    }
   ],
   "source": [
    "zerocurve.yield_data.dtypes"
   ]
  },
  {
   "cell_type": "code",
   "execution_count": null,
   "id": "5d19b1b3",
   "metadata": {},
   "outputs": [],
   "source": []
  }
 ],
 "metadata": {
  "kernelspec": {
   "display_name": "rlalm",
   "language": "python",
   "name": "rlalm"
  },
  "language_info": {
   "codemirror_mode": {
    "name": "ipython",
    "version": 3
   },
   "file_extension": ".py",
   "mimetype": "text/x-python",
   "name": "python",
   "nbconvert_exporter": "python",
   "pygments_lexer": "ipython3",
   "version": "3.10.9"
  }
 },
 "nbformat": 4,
 "nbformat_minor": 5
}
