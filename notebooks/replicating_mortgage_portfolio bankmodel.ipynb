{
 "cells": [
  {
   "attachments": {},
   "cell_type": "markdown",
   "id": "32d466b6",
   "metadata": {},
   "source": [
    "### Simulating a mortgage portfolio\n",
    "\n",
    "Mortgages typically have a lineair interest rate model - where the monthly prepayment is fixed, or use an annualized schema - in which interest plus prepayment makes a fixed amount per month. To start, we model all mortgages with the lineair interest rate model.\n",
    "\n",
    "See also: https://riskatwork.nl/wp-content/uploads/2019/11/RAW-MortgagePrepayments.pdf\n",
    "\n",
    "Customers normally have the option to re-pay the mortgage earlier then the maturity / repricing data.  In general a bank loan may not be held until maturity because:\n",
    "* Customers repay the loan early (as a percentage of the loan, or fully when moving)\n",
    "* Customers can default on the loan - forcing the bank to write off the loan\n",
    "\n",
    "Growth and new business \n",
    "Customers can choose the fixed interest period they select. Their choice will be influenced by market expectations, and the rates offered by the bank. "
   ]
  },
  {
   "cell_type": "code",
   "execution_count": 1,
   "id": "501e7ee4",
   "metadata": {},
   "outputs": [],
   "source": [
    "%load_ext autoreload\n",
    "%autoreload 2\n",
    "%matplotlib inline\n",
    "\n",
    "import pandas as pd\n",
    "from datetime import timedelta\n",
    "from dateutil.parser import parse\n",
    "\n",
    "from src.data import dataset\n",
    "from src.data import assets"
   ]
  },
  {
   "cell_type": "code",
   "execution_count": 3,
   "id": "0fa965ac",
   "metadata": {},
   "outputs": [],
   "source": [
    "# Create data objects\n",
    "zerocurve = dataset.Zerocurve()\n",
    "interest = dataset.Interest()"
   ]
  },
  {
   "cell_type": "code",
   "execution_count": null,
   "id": "bee79462",
   "metadata": {},
   "outputs": [],
   "source": [
    "# Get zero curve historic rates\n",
    "zerocurve.read_data()\n",
    "# Get mortgage historic rates\n",
    "interest.read_data()"
   ]
  },
  {
   "cell_type": "code",
   "execution_count": null,
   "id": "4612080d",
   "metadata": {},
   "outputs": [],
   "source": [
    "zerocurve.save_data()\n",
    "interest.save_data()"
   ]
  },
  {
   "cell_type": "code",
   "execution_count": 4,
   "id": "607dcf99",
   "metadata": {},
   "outputs": [
    {
     "name": "stderr",
     "output_type": "stream",
     "text": [
      "2023-03-17 11:04:37.096 | INFO     | src.data.dataset:load_data:51 - loading zerocurve data from file.\n",
      "2023-03-17 11:04:37.264 | INFO     | src.data.dataset:load_data:51 - loading interest data from file.\n"
     ]
    }
   ],
   "source": [
    "# Load data from csv file - not directly from ECB\n",
    "zerocurve.load_data()\n",
    "interest.load_data()"
   ]
  },
  {
   "cell_type": "code",
   "execution_count": 5,
   "id": "627f7745",
   "metadata": {},
   "outputs": [
    {
     "name": "stderr",
     "output_type": "stream",
     "text": [
      "2023-03-17 11:04:49.270 | INFO     | src.data.assets:generate_mortgage_contracts:107 - Added 300 mortgages to our portfolio.\n",
      "2023-03-17 11:04:54.785 | INFO     | src.data.assets:generate_mortgage_contracts:111 - Added 53352 cashflows to our model.\n"
     ]
    },
    {
     "data": {
      "text/html": [
       "<div>\n",
       "<style scoped>\n",
       "    .dataframe tbody tr th:only-of-type {\n",
       "        vertical-align: middle;\n",
       "    }\n",
       "\n",
       "    .dataframe tbody tr th {\n",
       "        vertical-align: top;\n",
       "    }\n",
       "\n",
       "    .dataframe thead th {\n",
       "        text-align: right;\n",
       "    }\n",
       "</style>\n",
       "<table border=\"1\" class=\"dataframe\">\n",
       "  <thead>\n",
       "    <tr style=\"text-align: right;\">\n",
       "      <th></th>\n",
       "      <th>category</th>\n",
       "      <th>fixed_period</th>\n",
       "      <th>years</th>\n",
       "      <th>start_date</th>\n",
       "      <th>principal</th>\n",
       "      <th>period</th>\n",
       "      <th>interest</th>\n",
       "      <th>contract</th>\n",
       "    </tr>\n",
       "  </thead>\n",
       "  <tbody>\n",
       "    <tr>\n",
       "      <th>0</th>\n",
       "      <td>3</td>\n",
       "      <td>&gt;10 years</td>\n",
       "      <td>20</td>\n",
       "      <td>2008-02-11</td>\n",
       "      <td>200000</td>\n",
       "      <td>2008-02-01</td>\n",
       "      <td>3.15</td>\n",
       "      <td>0</td>\n",
       "    </tr>\n",
       "    <tr>\n",
       "      <th>1</th>\n",
       "      <td>3</td>\n",
       "      <td>&gt;10 years</td>\n",
       "      <td>20</td>\n",
       "      <td>2013-05-20</td>\n",
       "      <td>200000</td>\n",
       "      <td>2013-05-01</td>\n",
       "      <td>4.92</td>\n",
       "      <td>1</td>\n",
       "    </tr>\n",
       "    <tr>\n",
       "      <th>2</th>\n",
       "      <td>1</td>\n",
       "      <td>1&gt;5 years</td>\n",
       "      <td>5</td>\n",
       "      <td>2023-01-02</td>\n",
       "      <td>200000</td>\n",
       "      <td>2023-01-01</td>\n",
       "      <td>3.99</td>\n",
       "      <td>2</td>\n",
       "    </tr>\n",
       "    <tr>\n",
       "      <th>3</th>\n",
       "      <td>1</td>\n",
       "      <td>1&gt;5 years</td>\n",
       "      <td>5</td>\n",
       "      <td>2022-07-08</td>\n",
       "      <td>200000</td>\n",
       "      <td>2022-07-01</td>\n",
       "      <td>2.52</td>\n",
       "      <td>3</td>\n",
       "    </tr>\n",
       "    <tr>\n",
       "      <th>4</th>\n",
       "      <td>2</td>\n",
       "      <td>5&gt;10 years</td>\n",
       "      <td>10</td>\n",
       "      <td>2022-12-05</td>\n",
       "      <td>200000</td>\n",
       "      <td>2022-12-01</td>\n",
       "      <td>3.42</td>\n",
       "      <td>4</td>\n",
       "    </tr>\n",
       "  </tbody>\n",
       "</table>\n",
       "</div>"
      ],
      "text/plain": [
       "   category fixed_period  years start_date  principal     period  interest  \\\n",
       "0         3    >10 years     20 2008-02-11     200000 2008-02-01      3.15   \n",
       "1         3    >10 years     20 2013-05-20     200000 2013-05-01      4.92   \n",
       "2         1    1>5 years      5 2023-01-02     200000 2023-01-01      3.99   \n",
       "3         1    1>5 years      5 2022-07-08     200000 2022-07-01      2.52   \n",
       "4         2   5>10 years     10 2022-12-05     200000 2022-12-01      3.42   \n",
       "\n",
       "   contract  \n",
       "0         0  \n",
       "1         1  \n",
       "2         2  \n",
       "3         3  \n",
       "4         4  "
      ]
     },
     "execution_count": 5,
     "metadata": {},
     "output_type": "execute_result"
    }
   ],
   "source": [
    "# pos_date = parse('28-02-2023')\n",
    "bankmodel = assets.Bankmodel(pos_date = zerocurve.df.index[-1])\n",
    "bankmodel.generate_mortgage_contracts(n = 300, df_i = interest.df)\n",
    "bankmodel.df_mortgages.head()"
   ]
  },
  {
   "cell_type": "code",
   "execution_count": 6,
   "id": "f35ad3c6",
   "metadata": {},
   "outputs": [
    {
     "data": {
      "image/png": "[encoded data removed]",
      "text/plain": [
       "<Figure size 1000x600 with 1 Axes>"
      ]
     },
     "metadata": {},
     "output_type": "display_data"
    }
   ],
   "source": [
    "bankmodel.plot_contracts();"
   ]
  },
  {
   "cell_type": "code",
   "execution_count": 7,
   "id": "cad040c1",
   "metadata": {},
   "outputs": [
    {
     "data": {
      "image/png": "[encoded data removed]",
      "text/plain": [
       "<Figure size 1000x600 with 1 Axes>"
      ]
     },
     "metadata": {},
     "output_type": "display_data"
    }
   ],
   "source": [
    "bankmodel.plot_cashflows()"
   ]
  },
  {
   "attachments": {},
   "cell_type": "markdown",
   "id": "04cd9606",
   "metadata": {},
   "source": [
    "### npv calculation\n",
    "\n",
    "$$NPV = {{Cashflow} \\over (1+i)^T}.$$\n",
    "$$DF_0^T = [1+R_{zc}]^{-T})$$\n",
    "where:\n",
    "- $DF_0^T$  = a discount factor with maturity T\n",
    "- $R_{zc}$ = A zero coupon interest rate\n",
    "- $T$ = Maturity of the zero rate, in years (calculated as days/365)"
   ]
  },
  {
   "cell_type": "code",
   "execution_count": 8,
   "id": "c3d4abf3",
   "metadata": {},
   "outputs": [
    {
     "data": {
      "text/plain": [
       "45085357.67"
      ]
     },
     "execution_count": 8,
     "metadata": {},
     "output_type": "execute_result"
    }
   ],
   "source": [
    "bankmodel.calculate_returns(zerocurve)"
   ]
  },
  {
   "cell_type": "code",
   "execution_count": 9,
   "id": "578917a5",
   "metadata": {},
   "outputs": [
    {
     "name": "stderr",
     "output_type": "stream",
     "text": [
      "c:\\Users\\M\\miniconda3\\envs\\rlalm\\lib\\site-packages\\pandas\\core\\internals\\blocks.py:351: RuntimeWarning: invalid value encountered in log1p\n",
      "  result = func(self.values, **kwargs)\n"
     ]
    }
   ],
   "source": [
    "bankmodel.reset()\n",
    "zerocurve.reset()"
   ]
  },
  {
   "cell_type": "code",
   "execution_count": 10,
   "id": "14332a2f",
   "metadata": {},
   "outputs": [
    {
     "name": "stderr",
     "output_type": "stream",
     "text": [
      "2023-03-17 11:05:07.595 | DEBUG    | src.data.dataset:step:258 - Stepping in zerocurve 2023-03-01 00:00:00, [3.28843716 2.77249636 3.14022296 2.72025967 2.99473778 2.77093964\n",
      " 3.05989743 2.5935514  2.17512284 2.59187693 2.63503716 3.37521291\n",
      " 2.71837113 3.39666532 3.05989743]\n",
      "2023-03-17 11:05:07.600 | ERROR    | src.data.dataset:interpolate:219 - Interpolation data 2023-03-01 00:00:00 not found in zero curve data.\n"
     ]
    },
    {
     "ename": "AttributeError",
     "evalue": "'NoneType' object has no attribute 'index'",
     "output_type": "error",
     "traceback": [
      "\u001b[1;31m---------------------------------------------------------------------------\u001b[0m",
      "\u001b[1;31mAttributeError\u001b[0m                            Traceback (most recent call last)",
      "Cell \u001b[1;32mIn[10], line 3\u001b[0m\n\u001b[0;32m      1\u001b[0m bankmodel\u001b[39m.\u001b[39mstep()\n\u001b[0;32m      2\u001b[0m zerocurve\u001b[39m.\u001b[39mstep()\n\u001b[1;32m----> 3\u001b[0m bankmodel\u001b[39m.\u001b[39;49mcalculate_returns(zerocurve)\n",
      "File \u001b[1;32mc:\\users\\m\\skydrive\\documents\\github\\rlalm\\src\\data\\assets.py:125\u001b[0m, in \u001b[0;36mBankmodel.calculate_returns\u001b[1;34m(self, zerocurve)\u001b[0m\n\u001b[0;32m    123\u001b[0m df_forward \u001b[39m=\u001b[39m zerocurve\u001b[39m.\u001b[39minterpolate(pos_date)\n\u001b[0;32m    124\u001b[0m df_c \u001b[39m=\u001b[39m \u001b[39mself\u001b[39m\u001b[39m.\u001b[39mdf_cashflows\n\u001b[1;32m--> 125\u001b[0m df_npv \u001b[39m=\u001b[39m df_c\u001b[39m.\u001b[39mmerge(df_forward, left_on\u001b[39m=\u001b[39m\u001b[39m\"\u001b[39m\u001b[39mvalue_dt\u001b[39m\u001b[39m\"\u001b[39m, right_on\u001b[39m=\u001b[39mdf_forward\u001b[39m.\u001b[39;49mindex)\n\u001b[0;32m    126\u001b[0m df_npv[\u001b[39m\"\u001b[39m\u001b[39mpos_dt\u001b[39m\u001b[39m\"\u001b[39m] \u001b[39m=\u001b[39m pos_date\n\u001b[0;32m    127\u001b[0m df_npv[\u001b[39m\"\u001b[39m\u001b[39myear_frac\u001b[39m\u001b[39m\"\u001b[39m] \u001b[39m=\u001b[39m \u001b[39mround\u001b[39m(\n\u001b[0;32m    128\u001b[0m     (df_npv[\u001b[39m\"\u001b[39m\u001b[39mvalue_dt\u001b[39m\u001b[39m\"\u001b[39m] \u001b[39m-\u001b[39m df_npv[\u001b[39m\"\u001b[39m\u001b[39mpos_dt\u001b[39m\u001b[39m\"\u001b[39m]) \u001b[39m/\u001b[39m timedelta(\u001b[39m365\u001b[39m, \u001b[39m0\u001b[39m, \u001b[39m0\u001b[39m, \u001b[39m0\u001b[39m), \u001b[39m5\u001b[39m\n\u001b[0;32m    129\u001b[0m )\n",
      "\u001b[1;31mAttributeError\u001b[0m: 'NoneType' object has no attribute 'index'"
     ]
    }
   ],
   "source": [
    "bankmodel.step()\n",
    "zerocurve.step()\n",
    "bankmodel.calculate_returns(zerocurve)\n",
    "\n"
   ]
  },
  {
   "cell_type": "code",
   "execution_count": 15,
   "id": "ec771fc2",
   "metadata": {},
   "outputs": [
    {
     "data": {
      "text/html": [
       "<div>\n",
       "<style scoped>\n",
       "    .dataframe tbody tr th:only-of-type {\n",
       "        vertical-align: middle;\n",
       "    }\n",
       "\n",
       "    .dataframe tbody tr th {\n",
       "        vertical-align: top;\n",
       "    }\n",
       "\n",
       "    .dataframe thead th {\n",
       "        text-align: right;\n",
       "    }\n",
       "</style>\n",
       "<table border=\"1\" class=\"dataframe\">\n",
       "  <thead>\n",
       "    <tr style=\"text-align: right;\">\n",
       "      <th></th>\n",
       "      <th>tenor</th>\n",
       "      <th>rate</th>\n",
       "      <th>value_dt</th>\n",
       "    </tr>\n",
       "    <tr>\n",
       "      <th>rate_dt</th>\n",
       "      <th></th>\n",
       "      <th></th>\n",
       "      <th></th>\n",
       "    </tr>\n",
       "  </thead>\n",
       "  <tbody>\n",
       "    <tr>\n",
       "      <th>2023-02-28</th>\n",
       "      <td>5 Years</td>\n",
       "      <td>2.630026</td>\n",
       "      <td>2028-02-28</td>\n",
       "    </tr>\n",
       "    <tr>\n",
       "      <th>2023-02-28</th>\n",
       "      <td>7 Years</td>\n",
       "      <td>2.712942</td>\n",
       "      <td>2030-02-28</td>\n",
       "    </tr>\n",
       "    <tr>\n",
       "      <th>2023-02-28</th>\n",
       "      <td>10 Years</td>\n",
       "      <td>2.767047</td>\n",
       "      <td>2033-02-28</td>\n",
       "    </tr>\n",
       "    <tr>\n",
       "      <th>2023-02-28</th>\n",
       "      <td>15 Years</td>\n",
       "      <td>2.715403</td>\n",
       "      <td>2038-02-28</td>\n",
       "    </tr>\n",
       "    <tr>\n",
       "      <th>2023-02-28</th>\n",
       "      <td>30 Years</td>\n",
       "      <td>2.173018</td>\n",
       "      <td>2053-02-28</td>\n",
       "    </tr>\n",
       "  </tbody>\n",
       "</table>\n",
       "</div>"
      ],
      "text/plain": [
       "               tenor      rate   value_dt\n",
       "rate_dt                                  \n",
       "2023-02-28   5 Years  2.630026 2028-02-28\n",
       "2023-02-28   7 Years  2.712942 2030-02-28\n",
       "2023-02-28  10 Years  2.767047 2033-02-28\n",
       "2023-02-28  15 Years  2.715403 2038-02-28\n",
       "2023-02-28  30 Years  2.173018 2053-02-28"
      ]
     },
     "execution_count": 15,
     "metadata": {},
     "output_type": "execute_result"
    }
   ],
   "source": [
    "zerocurve.df.tail()"
   ]
  },
  {
   "cell_type": "code",
   "execution_count": 13,
   "id": "6ad60cb4",
   "metadata": {},
   "outputs": [
    {
     "data": {
      "text/html": [
       "<div>\n",
       "<style scoped>\n",
       "    .dataframe tbody tr th:only-of-type {\n",
       "        vertical-align: middle;\n",
       "    }\n",
       "\n",
       "    .dataframe tbody tr th {\n",
       "        vertical-align: top;\n",
       "    }\n",
       "\n",
       "    .dataframe thead th {\n",
       "        text-align: right;\n",
       "    }\n",
       "</style>\n",
       "<table border=\"1\" class=\"dataframe\">\n",
       "  <thead>\n",
       "    <tr style=\"text-align: right;\">\n",
       "      <th>tenor</th>\n",
       "      <th>1 Year</th>\n",
       "      <th>10 Years</th>\n",
       "      <th>15 Months</th>\n",
       "      <th>15 Years</th>\n",
       "      <th>18 Months</th>\n",
       "      <th>2 Years</th>\n",
       "      <th>3 Months</th>\n",
       "      <th>3 Years</th>\n",
       "      <th>30 Years</th>\n",
       "      <th>4 Years</th>\n",
       "      <th>5 Years</th>\n",
       "      <th>6 Months</th>\n",
       "      <th>7 Years</th>\n",
       "      <th>9 Months</th>\n",
       "      <th>ON</th>\n",
       "    </tr>\n",
       "    <tr>\n",
       "      <th>rate_dt</th>\n",
       "      <th></th>\n",
       "      <th></th>\n",
       "      <th></th>\n",
       "      <th></th>\n",
       "      <th></th>\n",
       "      <th></th>\n",
       "      <th></th>\n",
       "      <th></th>\n",
       "      <th></th>\n",
       "      <th></th>\n",
       "      <th></th>\n",
       "      <th></th>\n",
       "      <th></th>\n",
       "      <th></th>\n",
       "      <th></th>\n",
       "    </tr>\n",
       "  </thead>\n",
       "  <tbody>\n",
       "    <tr>\n",
       "      <th>2023-02-23</th>\n",
       "      <td>2.918201</td>\n",
       "      <td>2.571125</td>\n",
       "      <td>2.731899</td>\n",
       "      <td>2.518990</td>\n",
       "      <td>2.586969</td>\n",
       "      <td>2.419994</td>\n",
       "      <td>3.049652</td>\n",
       "      <td>2.359113</td>\n",
       "      <td>2.050232</td>\n",
       "      <td>2.402910</td>\n",
       "      <td>2.454270</td>\n",
       "      <td>3.238725</td>\n",
       "      <td>2.528621</td>\n",
       "      <td>3.117648</td>\n",
       "      <td>3.049652</td>\n",
       "    </tr>\n",
       "    <tr>\n",
       "      <th>2023-02-24</th>\n",
       "      <td>3.087703</td>\n",
       "      <td>2.560305</td>\n",
       "      <td>2.924748</td>\n",
       "      <td>2.517924</td>\n",
       "      <td>2.780437</td>\n",
       "      <td>2.580853</td>\n",
       "      <td>3.045115</td>\n",
       "      <td>2.444523</td>\n",
       "      <td>2.115453</td>\n",
       "      <td>2.447321</td>\n",
       "      <td>2.477391</td>\n",
       "      <td>3.279834</td>\n",
       "      <td>2.529558</td>\n",
       "      <td>3.234152</td>\n",
       "      <td>3.045115</td>\n",
       "    </tr>\n",
       "    <tr>\n",
       "      <th>2023-02-27</th>\n",
       "      <td>3.111991</td>\n",
       "      <td>2.619318</td>\n",
       "      <td>2.936755</td>\n",
       "      <td>2.589171</td>\n",
       "      <td>2.783573</td>\n",
       "      <td>2.576131</td>\n",
       "      <td>3.074600</td>\n",
       "      <td>2.445001</td>\n",
       "      <td>2.164195</td>\n",
       "      <td>2.459598</td>\n",
       "      <td>2.500807</td>\n",
       "      <td>3.325308</td>\n",
       "      <td>2.570856</td>\n",
       "      <td>3.271961</td>\n",
       "      <td>3.074600</td>\n",
       "    </tr>\n",
       "    <tr>\n",
       "      <th>2023-02-28</th>\n",
       "      <td>3.282758</td>\n",
       "      <td>2.767047</td>\n",
       "      <td>3.135074</td>\n",
       "      <td>2.715403</td>\n",
       "      <td>2.989885</td>\n",
       "      <td>2.766859</td>\n",
       "      <td>3.052459</td>\n",
       "      <td>2.588444</td>\n",
       "      <td>2.173018</td>\n",
       "      <td>2.586636</td>\n",
       "      <td>2.630026</td>\n",
       "      <td>3.369500</td>\n",
       "      <td>2.712942</td>\n",
       "      <td>3.390191</td>\n",
       "      <td>3.052459</td>\n",
       "    </tr>\n",
       "    <tr>\n",
       "      <th>2023-03-01</th>\n",
       "      <td>3.288437</td>\n",
       "      <td>2.772496</td>\n",
       "      <td>3.140223</td>\n",
       "      <td>2.720260</td>\n",
       "      <td>2.994738</td>\n",
       "      <td>2.770940</td>\n",
       "      <td>3.059897</td>\n",
       "      <td>2.593551</td>\n",
       "      <td>2.175123</td>\n",
       "      <td>2.591877</td>\n",
       "      <td>2.635037</td>\n",
       "      <td>3.375213</td>\n",
       "      <td>2.718371</td>\n",
       "      <td>3.396665</td>\n",
       "      <td>3.059897</td>\n",
       "    </tr>\n",
       "  </tbody>\n",
       "</table>\n",
       "</div>"
      ],
      "text/plain": [
       "tenor         1 Year  10 Years  15 Months  15 Years  18 Months   2 Years  \\\n",
       "rate_dt                                                                    \n",
       "2023-02-23  2.918201  2.571125   2.731899  2.518990   2.586969  2.419994   \n",
       "2023-02-24  3.087703  2.560305   2.924748  2.517924   2.780437  2.580853   \n",
       "2023-02-27  3.111991  2.619318   2.936755  2.589171   2.783573  2.576131   \n",
       "2023-02-28  3.282758  2.767047   3.135074  2.715403   2.989885  2.766859   \n",
       "2023-03-01  3.288437  2.772496   3.140223  2.720260   2.994738  2.770940   \n",
       "\n",
       "tenor       3 Months   3 Years  30 Years   4 Years   5 Years  6 Months  \\\n",
       "rate_dt                                                                  \n",
       "2023-02-23  3.049652  2.359113  2.050232  2.402910  2.454270  3.238725   \n",
       "2023-02-24  3.045115  2.444523  2.115453  2.447321  2.477391  3.279834   \n",
       "2023-02-27  3.074600  2.445001  2.164195  2.459598  2.500807  3.325308   \n",
       "2023-02-28  3.052459  2.588444  2.173018  2.586636  2.630026  3.369500   \n",
       "2023-03-01  3.059897  2.593551  2.175123  2.591877  2.635037  3.375213   \n",
       "\n",
       "tenor        7 Years  9 Months        ON  \n",
       "rate_dt                                   \n",
       "2023-02-23  2.528621  3.117648  3.049652  \n",
       "2023-02-24  2.529558  3.234152  3.045115  \n",
       "2023-02-27  2.570856  3.271961  3.074600  \n",
       "2023-02-28  2.712942  3.390191  3.052459  \n",
       "2023-03-01  2.718371  3.396665  3.059897  "
      ]
     },
     "execution_count": 13,
     "metadata": {},
     "output_type": "execute_result"
    }
   ],
   "source": [
    "zerocurve.yield_data.tail()"
   ]
  },
  {
   "cell_type": "code",
   "execution_count": null,
   "id": "2247b46b",
   "metadata": {},
   "outputs": [],
   "source": [
    "pos_date = parse('28-02-2023')\n",
    "zerocurve.df.loc[pos_date]"
   ]
  },
  {
   "cell_type": "code",
   "execution_count": null,
   "id": "2e1cf043",
   "metadata": {},
   "outputs": [],
   "source": [
    "df_forward = zerocurve.interpolate(pos_date)"
   ]
  },
  {
   "cell_type": "code",
   "execution_count": null,
   "id": "596fdca3",
   "metadata": {},
   "outputs": [],
   "source": [
    "df_c = bankmodel.df_cashflows\n",
    "df_npv = df_c.merge(df_forward, left_on = 'value_dt', right_on = df_forward.index)\n",
    "df_npv['pos_dt'] = pos_date\n",
    "df_npv['year_frac'] = round((df_npv['value_dt'] -df_npv['pos_dt'] )/ timedelta(365,0,0,0),5)\n",
    "df_npv['df'] = 1 / (1 + df_npv['rate'] / 100 )**df_npv['year_frac']\n",
    "df_npv['npv'] = round(df_npv['cashflow'] * df_npv['df'] ,2)"
   ]
  },
  {
   "cell_type": "code",
   "execution_count": null,
   "id": "ee399c6e",
   "metadata": {},
   "outputs": [],
   "source": [
    "df_npv['npv'].sum()\n"
   ]
  },
  {
   "cell_type": "code",
   "execution_count": null,
   "id": "af219874",
   "metadata": {},
   "outputs": [],
   "source": [
    "# De Volksbank Annual Report \n",
    "# initialize data of lists.\n",
    "pd.set_option(\"display.precision\", 5)\n",
    "pre_payment_rate = 2\n",
    "pdf = 1\n",
    "\n",
    "data = {'year':  [  2021,  2020,  2019,  2018,  2017,  2016,   2015,  2014,  2013,  2012,  2011 ],\n",
    "        'loans': [ 50727, 50542, 50542, 50461, 50536, 48593,  49217, 52834, 53405, 49341, 51263 ] }\n",
    "  \n",
    "# Create DataFrame\n",
    "df = pd.DataFrame(data)\n",
    "df = df.sort_values(by = ['year'] )\n",
    "df['growth'] = df['loans'].pct_change()\n",
    "df = df.set_index('year')\n",
    "df['prepayments'] =  - round((pre_payment_rate / 100) * df['loans'],4)\n",
    "df['lgd']  = - round((pdf / 100) * df['loans'],0)\n",
    "df['mortgages'] = round(df.loans / 200,0)\n",
    "df['net_in_outflow'] = round((df['loans'].shift(-1) - ( df['loans'] + df['prepayments'] + df['lgd'] )   ) )\n",
    "df.style.format(\n",
    "    na_rep='',\n",
    "    formatter =     \n",
    "    {    \n",
    "        \"loans\"       : \"{:,.0f}\",\n",
    "        \"growth\"      : \"{:0.2%}\",        \n",
    "        \"mortgages\"   : \"{:,.0f}\",\n",
    "        \"prepayments\" : \"{:,.0f}\",    \n",
    "        \"lgd\"         : \"{:,.0f}\", \n",
    "        \"net_in_outflow\"         : \"{:,.0f}\", \n",
    "    }\n",
    "    \n",
    ")"
   ]
  },
  {
   "cell_type": "markdown",
   "id": "4659552a",
   "metadata": {},
   "source": [
    "Non Maturity Deposits"
   ]
  },
  {
   "cell_type": "markdown",
   "id": "beea847c",
   "metadata": {},
   "source": [
    "#### Core vs Non Core balances\n",
    "For saving deposits a cap on the average maturity of the core deposits is set at 4.5 years. \n",
    "In general 70% - 90% of the deposits can be classied as core capital. (See guidelines BCBS)"
   ]
  },
  {
   "cell_type": "code",
   "execution_count": null,
   "id": "c87779ce",
   "metadata": {},
   "outputs": [],
   "source": [
    "\n",
    "\n"
   ]
  }
 ],
 "metadata": {
  "kernelspec": {
   "display_name": "rlalm",
   "language": "python",
   "name": "rlalm"
  },
  "language_info": {
   "codemirror_mode": {
    "name": "ipython",
    "version": 3
   },
   "file_extension": ".py",
   "mimetype": "text/x-python",
   "name": "python",
   "nbconvert_exporter": "python",
   "pygments_lexer": "ipython3",
   "version": "3.10.9"
  }
 },
 "nbformat": 4,
 "nbformat_minor": 5
}
