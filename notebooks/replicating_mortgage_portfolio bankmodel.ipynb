{
 "cells": [
  {
   "attachments": {},
   "cell_type": "markdown",
   "id": "32d466b6",
   "metadata": {},
   "source": [
    "### Simulating a mortgage portfolio (II)\n",
    "\n",
    "Mortgages typically have a lineair interest rate model - where the monthly prepayment is fixed, or use an annualized schema - in which interest plus prepayment makes a fixed amount per month. To start, we model all mortgages with the lineair interest rate model.\n",
    "\n",
    "See also: https://riskatwork.nl/wp-content/uploads/2019/11/RAW-MortgagePrepayments.pdf\n",
    "\n",
    "Customers normally have the option to re-pay the mortgage earlier then the maturity / repricing data.  In general a bank loan may not be held until maturity because:\n",
    "* Customers repay the loan early (as a percentage of the loan, or fully when moving)\n",
    "* Customers can default on the loan - forcing the bank to write off the loan\n",
    "\n",
    "Growth and new business \n",
    "Customers can choose the fixed interest period they select. Their choice will be influenced by market expectations, and the rates offered by the bank. "
   ]
  },
  {
   "cell_type": "code",
   "execution_count": 78,
   "id": "501e7ee4",
   "metadata": {},
   "outputs": [
    {
     "name": "stdout",
     "output_type": "stream",
     "text": [
      "The autoreload extension is already loaded. To reload it, use:\n",
      "  %reload_ext autoreload\n"
     ]
    }
   ],
   "source": [
    "%load_ext autoreload\n",
    "%autoreload 2\n",
    "%matplotlib inline\n",
    "\n",
    "import pandas as pd\n",
    "from datetime import timedelta\n",
    "from dateutil.parser import parse\n",
    "\n",
    "from src.models.bank_model import Bankmodel\n",
    "from src.data.zerocurve import Zerocurve\n",
    "from src.data.interest import Interest\n",
    "import seaborn as sns\n",
    "import matplotlib.pyplot as plt\n"
   ]
  },
  {
   "cell_type": "code",
   "execution_count": 2,
   "id": "0fa965ac",
   "metadata": {},
   "outputs": [],
   "source": [
    "# Create data objects\n",
    "zerocurve = Zerocurve()\n",
    "interest = Interest()"
   ]
  },
  {
   "cell_type": "code",
   "execution_count": 3,
   "id": "bee79462",
   "metadata": {},
   "outputs": [
    {
     "name": "stderr",
     "output_type": "stream",
     "text": [
      "2023-03-20 14:24:37.144 | INFO     | src.data.dataset:read_data:26 - reading zerocurve data from ESW.\n",
      "c:\\Users\\M\\miniconda3\\envs\\rlalm\\lib\\site-packages\\pandas\\core\\internals\\blocks.py:351: RuntimeWarning: invalid value encountered in log1p\n",
      "  result = func(self.values, **kwargs)\n",
      "2023-03-20 14:24:38.137 | INFO     | src.data.dataset:read_data:26 - reading interest data from ESW.\n"
     ]
    },
    {
     "data": {
      "text/plain": [
       "<Response [200]>"
      ]
     },
     "execution_count": 3,
     "metadata": {},
     "output_type": "execute_result"
    }
   ],
   "source": [
    "# Get zero curve historic rates\n",
    "zerocurve.read_data()\n",
    "# Get mortgage historic rates\n",
    "interest.read_data()"
   ]
  },
  {
   "cell_type": "code",
   "execution_count": 4,
   "id": "4612080d",
   "metadata": {},
   "outputs": [
    {
     "name": "stderr",
     "output_type": "stream",
     "text": [
      "2023-03-20 14:24:38.606 | INFO     | src.data.dataset:save_data:55 - saving zerocurve data to file.\n",
      "2023-03-20 14:24:38.956 | INFO     | src.data.dataset:save_data:55 - saving interest data to file.\n"
     ]
    }
   ],
   "source": [
    "zerocurve.save_data()\n",
    "interest.save_data()"
   ]
  },
  {
   "cell_type": "code",
   "execution_count": 5,
   "id": "607dcf99",
   "metadata": {},
   "outputs": [
    {
     "name": "stderr",
     "output_type": "stream",
     "text": [
      "2023-03-20 14:24:39.167 | INFO     | src.data.dataset:load_data:45 - loading zerocurve data from file.\n",
      "c:\\Users\\M\\miniconda3\\envs\\rlalm\\lib\\site-packages\\pandas\\core\\internals\\blocks.py:351: RuntimeWarning: invalid value encountered in log1p\n",
      "  result = func(self.values, **kwargs)\n",
      "2023-03-20 14:24:39.382 | INFO     | src.data.dataset:load_data:45 - loading interest data from file.\n"
     ]
    }
   ],
   "source": [
    "# Load data from csv file - not directly from ECB\n",
    "zerocurve.load_data()\n",
    "interest.load_data()"
   ]
  },
  {
   "cell_type": "code",
   "execution_count": 6,
   "id": "627f7745",
   "metadata": {},
   "outputs": [
    {
     "name": "stderr",
     "output_type": "stream",
     "text": [
      "2023-03-20 14:24:39.663 | INFO     | src.models.bank_model:generate_mortgage_contracts:121 - Added 100 mortgages to our portfolio.\n",
      "2023-03-20 14:24:41.418 | INFO     | src.models.bank_model:generate_mortgage_contracts:125 - Added 17656 cashflows to our model.\n"
     ]
    },
    {
     "data": {
      "text/html": [
       "<div>\n",
       "<style scoped>\n",
       "    .dataframe tbody tr th:only-of-type {\n",
       "        vertical-align: middle;\n",
       "    }\n",
       "\n",
       "    .dataframe tbody tr th {\n",
       "        vertical-align: top;\n",
       "    }\n",
       "\n",
       "    .dataframe thead th {\n",
       "        text-align: right;\n",
       "    }\n",
       "</style>\n",
       "<table border=\"1\" class=\"dataframe\">\n",
       "  <thead>\n",
       "    <tr style=\"text-align: right;\">\n",
       "      <th></th>\n",
       "      <th>category</th>\n",
       "      <th>fixed_period</th>\n",
       "      <th>years</th>\n",
       "      <th>start_date</th>\n",
       "      <th>principal</th>\n",
       "      <th>period</th>\n",
       "      <th>interest</th>\n",
       "      <th>contract</th>\n",
       "    </tr>\n",
       "  </thead>\n",
       "  <tbody>\n",
       "    <tr>\n",
       "      <th>0</th>\n",
       "      <td>3</td>\n",
       "      <td>&gt;10 years</td>\n",
       "      <td>20</td>\n",
       "      <td>2010-02-17</td>\n",
       "      <td>100000</td>\n",
       "      <td>2010-02-01</td>\n",
       "      <td>3.15</td>\n",
       "      <td>0</td>\n",
       "    </tr>\n",
       "    <tr>\n",
       "      <th>1</th>\n",
       "      <td>3</td>\n",
       "      <td>&gt;10 years</td>\n",
       "      <td>20</td>\n",
       "      <td>2006-11-06</td>\n",
       "      <td>100000</td>\n",
       "      <td>2006-11-01</td>\n",
       "      <td>3.15</td>\n",
       "      <td>1</td>\n",
       "    </tr>\n",
       "    <tr>\n",
       "      <th>2</th>\n",
       "      <td>2</td>\n",
       "      <td>5&gt;10 years</td>\n",
       "      <td>10</td>\n",
       "      <td>2018-04-27</td>\n",
       "      <td>100000</td>\n",
       "      <td>2018-04-01</td>\n",
       "      <td>2.33</td>\n",
       "      <td>2</td>\n",
       "    </tr>\n",
       "    <tr>\n",
       "      <th>3</th>\n",
       "      <td>3</td>\n",
       "      <td>&gt;10 years</td>\n",
       "      <td>20</td>\n",
       "      <td>2020-12-02</td>\n",
       "      <td>100000</td>\n",
       "      <td>2020-12-01</td>\n",
       "      <td>1.98</td>\n",
       "      <td>3</td>\n",
       "    </tr>\n",
       "    <tr>\n",
       "      <th>4</th>\n",
       "      <td>1</td>\n",
       "      <td>1&gt;5 years</td>\n",
       "      <td>5</td>\n",
       "      <td>2021-07-23</td>\n",
       "      <td>100000</td>\n",
       "      <td>2021-07-01</td>\n",
       "      <td>1.58</td>\n",
       "      <td>4</td>\n",
       "    </tr>\n",
       "  </tbody>\n",
       "</table>\n",
       "</div>"
      ],
      "text/plain": [
       "   category fixed_period  years start_date  principal     period  interest  \\\n",
       "0         3    >10 years     20 2010-02-17     100000 2010-02-01      3.15   \n",
       "1         3    >10 years     20 2006-11-06     100000 2006-11-01      3.15   \n",
       "2         2   5>10 years     10 2018-04-27     100000 2018-04-01      2.33   \n",
       "3         3    >10 years     20 2020-12-02     100000 2020-12-01      1.98   \n",
       "4         1    1>5 years      5 2021-07-23     100000 2021-07-01      1.58   \n",
       "\n",
       "   contract  \n",
       "0         0  \n",
       "1         1  \n",
       "2         2  \n",
       "3         3  \n",
       "4         4  "
      ]
     },
     "execution_count": 6,
     "metadata": {},
     "output_type": "execute_result"
    }
   ],
   "source": [
    "pos_date = zerocurve.df.index[-1]\n",
    "bankmodel = Bankmodel(pos_date )\n",
    "bankmodel.generate_mortgage_contracts(n = 100, df_i = interest.df,amount = 100000)\n",
    "bankmodel.df_mortgages.head()"
   ]
  },
  {
   "cell_type": "code",
   "execution_count": 7,
   "id": "f35ad3c6",
   "metadata": {},
   "outputs": [
    {
     "data": {
      "image/png": "[encoded data removed]",
      "text/plain": [
       "<Figure size 1000x600 with 1 Axes>"
      ]
     },
     "metadata": {},
     "output_type": "display_data"
    }
   ],
   "source": [
    "bankmodel.plot_contracts();"
   ]
  },
  {
   "attachments": {},
   "cell_type": "markdown",
   "id": "e48dbb0c",
   "metadata": {},
   "source": [
    "### Non Maturity Deposits\n",
    "- Core vs Non Core balances\n",
    "\n",
    "For saving deposits a cap on the average maturity of the core deposits is set at 4.5 years. \n",
    "In general 70% - 90% of the deposits can be classied as core capital. (See guidelines BCBS)"
   ]
  },
  {
   "cell_type": "code",
   "execution_count": 8,
   "id": "35dc28a5",
   "metadata": {},
   "outputs": [
    {
     "data": {
      "text/html": [
       "<div>\n",
       "<style scoped>\n",
       "    .dataframe tbody tr th:only-of-type {\n",
       "        vertical-align: middle;\n",
       "    }\n",
       "\n",
       "    .dataframe tbody tr th {\n",
       "        vertical-align: top;\n",
       "    }\n",
       "\n",
       "    .dataframe thead th {\n",
       "        text-align: right;\n",
       "    }\n",
       "</style>\n",
       "<table border=\"1\" class=\"dataframe\">\n",
       "  <thead>\n",
       "    <tr style=\"text-align: right;\">\n",
       "      <th></th>\n",
       "      <th>period</th>\n",
       "      <th>cashflow</th>\n",
       "      <th>value_dt</th>\n",
       "      <th>type</th>\n",
       "    </tr>\n",
       "  </thead>\n",
       "  <tbody>\n",
       "    <tr>\n",
       "      <th>0</th>\n",
       "      <td>1</td>\n",
       "      <td>-5400000</td>\n",
       "      <td>2023-03-01</td>\n",
       "      <td>deposits</td>\n",
       "    </tr>\n",
       "    <tr>\n",
       "      <th>1</th>\n",
       "      <td>2</td>\n",
       "      <td>-3600000</td>\n",
       "      <td>2027-08-28</td>\n",
       "      <td>deposits</td>\n",
       "    </tr>\n",
       "  </tbody>\n",
       "</table>\n",
       "</div>"
      ],
      "text/plain": [
       "   period  cashflow   value_dt      type\n",
       "0       1  -5400000 2023-03-01  deposits\n",
       "1       2  -3600000 2027-08-28  deposits"
      ]
     },
     "execution_count": 8,
     "metadata": {},
     "output_type": "execute_result"
    }
   ],
   "source": [
    "bankmodel.generate_nonmaturing_deposits(principal = 9000000, core = 0.4, maturity = 54)"
   ]
  },
  {
   "cell_type": "code",
   "execution_count": 9,
   "id": "71d5b312",
   "metadata": {},
   "outputs": [
    {
     "data": {
      "text/html": [
       "<div>\n",
       "<style scoped>\n",
       "    .dataframe tbody tr th:only-of-type {\n",
       "        vertical-align: middle;\n",
       "    }\n",
       "\n",
       "    .dataframe tbody tr th {\n",
       "        vertical-align: top;\n",
       "    }\n",
       "\n",
       "    .dataframe thead th {\n",
       "        text-align: right;\n",
       "    }\n",
       "</style>\n",
       "<table border=\"1\" class=\"dataframe\">\n",
       "  <thead>\n",
       "    <tr style=\"text-align: right;\">\n",
       "      <th></th>\n",
       "      <th>period</th>\n",
       "      <th>cashflow</th>\n",
       "      <th>value_dt</th>\n",
       "      <th>type</th>\n",
       "    </tr>\n",
       "  </thead>\n",
       "  <tbody>\n",
       "    <tr>\n",
       "      <th>0</th>\n",
       "      <td>1</td>\n",
       "      <td>-27670.0</td>\n",
       "      <td>2023-02-28</td>\n",
       "      <td>Funding</td>\n",
       "    </tr>\n",
       "    <tr>\n",
       "      <th>1</th>\n",
       "      <td>2</td>\n",
       "      <td>-27670.0</td>\n",
       "      <td>2024-02-28</td>\n",
       "      <td>Funding</td>\n",
       "    </tr>\n",
       "    <tr>\n",
       "      <th>2</th>\n",
       "      <td>3</td>\n",
       "      <td>-27670.0</td>\n",
       "      <td>2025-02-28</td>\n",
       "      <td>Funding</td>\n",
       "    </tr>\n",
       "    <tr>\n",
       "      <th>3</th>\n",
       "      <td>4</td>\n",
       "      <td>-27670.0</td>\n",
       "      <td>2026-03-02</td>\n",
       "      <td>Funding</td>\n",
       "    </tr>\n",
       "    <tr>\n",
       "      <th>4</th>\n",
       "      <td>5</td>\n",
       "      <td>-27670.0</td>\n",
       "      <td>2027-03-01</td>\n",
       "      <td>Funding</td>\n",
       "    </tr>\n",
       "    <tr>\n",
       "      <th>5</th>\n",
       "      <td>6</td>\n",
       "      <td>-27670.0</td>\n",
       "      <td>2028-02-28</td>\n",
       "      <td>Funding</td>\n",
       "    </tr>\n",
       "    <tr>\n",
       "      <th>6</th>\n",
       "      <td>7</td>\n",
       "      <td>-27670.0</td>\n",
       "      <td>2029-02-28</td>\n",
       "      <td>Funding</td>\n",
       "    </tr>\n",
       "    <tr>\n",
       "      <th>7</th>\n",
       "      <td>8</td>\n",
       "      <td>-27670.0</td>\n",
       "      <td>2030-02-28</td>\n",
       "      <td>Funding</td>\n",
       "    </tr>\n",
       "    <tr>\n",
       "      <th>8</th>\n",
       "      <td>9</td>\n",
       "      <td>-27670.0</td>\n",
       "      <td>2031-02-28</td>\n",
       "      <td>Funding</td>\n",
       "    </tr>\n",
       "    <tr>\n",
       "      <th>9</th>\n",
       "      <td>10</td>\n",
       "      <td>-1027670.0</td>\n",
       "      <td>2032-03-01</td>\n",
       "      <td>Funding</td>\n",
       "    </tr>\n",
       "  </tbody>\n",
       "</table>\n",
       "</div>"
      ],
      "text/plain": [
       "   period   cashflow   value_dt     type\n",
       "0       1   -27670.0 2023-02-28  Funding\n",
       "1       2   -27670.0 2024-02-28  Funding\n",
       "2       3   -27670.0 2025-02-28  Funding\n",
       "3       4   -27670.0 2026-03-02  Funding\n",
       "4       5   -27670.0 2027-03-01  Funding\n",
       "5       6   -27670.0 2028-02-28  Funding\n",
       "6       7   -27670.0 2029-02-28  Funding\n",
       "7       8   -27670.0 2030-02-28  Funding\n",
       "8       9   -27670.0 2031-02-28  Funding\n",
       "9      10 -1027670.0 2032-03-01  Funding"
      ]
     },
     "execution_count": 9,
     "metadata": {},
     "output_type": "execute_result"
    }
   ],
   "source": [
    "pos_date = zerocurve.df.index[-1]\n",
    "rate = zerocurve.df.loc[pos_date].query('tenor == 120')['rate'][0]\n",
    "df_cashflows = bankmodel.generate_funding(principal = 1000000, rate = rate, maturity = 120)\n",
    "df_cashflows"
   ]
  },
  {
   "cell_type": "code",
   "execution_count": 10,
   "id": "07396cd0",
   "metadata": {},
   "outputs": [
    {
     "data": {
      "image/png": "[encoded data removed]",
      "text/plain": [
       "<Figure size 1000x600 with 1 Axes>"
      ]
     },
     "metadata": {},
     "output_type": "display_data"
    }
   ],
   "source": [
    "bankmodel.plot_cashflows()"
   ]
  },
  {
   "attachments": {},
   "cell_type": "markdown",
   "id": "04cd9606",
   "metadata": {},
   "source": [
    "### npv calculation\n",
    "\n",
    "$$NPV = {{Cashflow} \\over (1+i)^T}.$$\n",
    "$$DF_0^T = [1+R_{zc}]^{-T})$$\n",
    "where:\n",
    "- $DF_0^T$  = a discount factor with maturity T\n",
    "- $R_{zc}$ = A zero coupon interest rate\n",
    "- $T$ = Maturity of the zero rate, in years (calculated as days/365)"
   ]
  },
  {
   "cell_type": "code",
   "execution_count": 11,
   "id": "c3d4abf3",
   "metadata": {},
   "outputs": [
    {
     "name": "stdout",
     "output_type": "stream",
     "text": [
      "npv = -1,996,417\n",
      "r1 = -304,311\n"
     ]
    }
   ],
   "source": [
    "result = bankmodel.calculate_npv(zerocurve)\n",
    "print (f\"npv = {result:,.0f}\")\n",
    "r1 = bankmodel.calculate_risk(zerocurve,200,'Parallel')\n",
    "print (f\"r1 = {r1:,.0f}\")"
   ]
  },
  {
   "cell_type": "code",
   "execution_count": 12,
   "id": "14332a2f",
   "metadata": {},
   "outputs": [
    {
     "name": "stderr",
     "output_type": "stream",
     "text": [
      "2023-03-20 14:24:44.683 | DEBUG    | src.data.zerocurve:step:124 - Stepping in zerocurve 2023-03-01 00:00:00.\n"
     ]
    },
    {
     "name": "stdout",
     "output_type": "stream",
     "text": [
      "NPV = -1,992,568\n",
      "r1 = -304,440\n"
     ]
    }
   ],
   "source": [
    "bankmodel.step()\n",
    "zerocurve.step()\n",
    "result = bankmodel.calculate_npv(zerocurve)\n",
    "print (f\"NPV = {result:,.0f}\")\n",
    "r1 = bankmodel.calculate_risk(zerocurve,200,'Parallel')\n",
    "print (f\"r1 = {r1:,.0f}\")"
   ]
  },
  {
   "cell_type": "code",
   "execution_count": 13,
   "id": "e5b95d20",
   "metadata": {},
   "outputs": [
    {
     "data": {
      "image/png": "[encoded data removed]",
      "text/plain": [
       "<Figure size 1000x600 with 1 Axes>"
      ]
     },
     "metadata": {},
     "output_type": "display_data"
    }
   ],
   "source": [
    "bankmodel.plot_cashflows()"
   ]
  },
  {
   "attachments": {},
   "cell_type": "markdown",
   "id": "0ed11cfd",
   "metadata": {},
   "source": [
    "Calculate BPV"
   ]
  },
  {
   "cell_type": "code",
   "execution_count": 105,
   "id": "46049b5e",
   "metadata": {},
   "outputs": [],
   "source": [
    "bpv = bankmodel.calculate_bpv(zerocurve)"
   ]
  },
  {
   "cell_type": "code",
   "execution_count": 113,
   "id": "ad25b0c3",
   "metadata": {},
   "outputs": [
    {
     "data": {
      "text/plain": [
       "<Figure size 1000x600 with 0 Axes>"
      ]
     },
     "metadata": {},
     "output_type": "display_data"
    },
    {
     "data": {
      "image/png": "[encoded data removed]",
      "text/plain": [
       "<Figure size 1000x600 with 1 Axes>"
      ]
     },
     "metadata": {},
     "output_type": "display_data"
    }
   ],
   "source": [
    "from src.data.definitions import DATA_RAW\n",
    "from src.visualization import visualize\n",
    "from pathlib import Path\n",
    "limits = pd.read_excel(Path(DATA_RAW,'limits.xlsx'))\n",
    "visualize.bpvplot(bpv, limits, title = f'BPV Profile {pos_date:%d-%m-%Y}');"
   ]
  },
  {
   "cell_type": "code",
   "execution_count": null,
   "id": "332b1fc3",
   "metadata": {},
   "outputs": [],
   "source": [
    "# run an episode of 100 steps\n",
    "risk = []\n",
    "for i in range(100):\n",
    "    bankmodel.step()\n",
    "    zerocurve.step()\n",
    "    risk.append(bankmodel.calculate_risk(zerocurve,200,'Parallel'))    \n",
    "sns.lineplot(risk)"
   ]
  },
  {
   "cell_type": "code",
   "execution_count": null,
   "id": "42889f17",
   "metadata": {},
   "outputs": [],
   "source": [
    "bankmodel.reset()\n",
    "zerocurve.reset()"
   ]
  }
 ],
 "metadata": {
  "kernelspec": {
   "display_name": "rlalm",
   "language": "python",
   "name": "rlalm"
  },
  "language_info": {
   "codemirror_mode": {
    "name": "ipython",
    "version": 3
   },
   "file_extension": ".py",
   "mimetype": "text/x-python",
   "name": "python",
   "nbconvert_exporter": "python",
   "pygments_lexer": "ipython3",
   "version": "3.10.9"
  }
 },
 "nbformat": 4,
 "nbformat_minor": 5
}
