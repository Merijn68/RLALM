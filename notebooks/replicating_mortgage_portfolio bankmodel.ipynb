{
 "cells": [
  {
   "attachments": {},
   "cell_type": "markdown",
   "id": "32d466b6",
   "metadata": {},
   "source": [
    "### Simulating a mortgage portfolio (II)\n",
    "\n",
    "Mortgages typically have a lineair interest rate model - where the monthly prepayment is fixed, or use an annualized schema - in which interest plus prepayment makes a fixed amount per month. To start, we model all mortgages with the lineair interest rate model.\n",
    "\n",
    "See also: https://riskatwork.nl/wp-content/uploads/2019/11/RAW-MortgagePrepayments.pdf\n",
    "\n",
    "Customers normally have the option to re-pay the mortgage earlier then the maturity / repricing data.  In general a bank loan may not be held until maturity because:\n",
    "* Customers repay the loan early (as a percentage of the loan, or fully when moving)\n",
    "* Customers can default on the loan - forcing the bank to write off the loan\n",
    "\n",
    "Growth and new business \n",
    "Customers can choose the fixed interest period they select. Their choice will be influenced by market expectations, and the rates offered by the bank. "
   ]
  },
  {
   "cell_type": "code",
   "execution_count": 16,
   "id": "501e7ee4",
   "metadata": {},
   "outputs": [
    {
     "name": "stdout",
     "output_type": "stream",
     "text": [
      "The autoreload extension is already loaded. To reload it, use:\n",
      "  %reload_ext autoreload\n"
     ]
    }
   ],
   "source": [
    "%load_ext autoreload\n",
    "%autoreload 2\n",
    "%matplotlib inline\n",
    "\n",
    "import pandas as pd\n",
    "from datetime import timedelta\n",
    "from dateutil.parser import parse\n",
    "\n",
    "from src.models.bank_model import Bankmodel\n",
    "from src.data.zerocurve import Zerocurve\n",
    "from src.data.interest import Interest\n",
    "import seaborn as sns\n"
   ]
  },
  {
   "cell_type": "code",
   "execution_count": 17,
   "id": "0fa965ac",
   "metadata": {},
   "outputs": [],
   "source": [
    "# Create data objects\n",
    "zerocurve = Zerocurve()\n",
    "interest = Interest()"
   ]
  },
  {
   "cell_type": "code",
   "execution_count": 18,
   "id": "bee79462",
   "metadata": {},
   "outputs": [
    {
     "name": "stderr",
     "output_type": "stream",
     "text": [
      "2023-03-19 13:33:24.513 | INFO     | src.data.dataset:read_data:26 - reading zerocurve data from ESW.\n",
      "c:\\Users\\M\\miniconda3\\envs\\rlalm\\lib\\site-packages\\pandas\\core\\internals\\blocks.py:351: RuntimeWarning: invalid value encountered in log1p\n",
      "  result = func(self.values, **kwargs)\n",
      "2023-03-19 13:33:25.667 | INFO     | src.data.dataset:read_data:26 - reading interest data from ESW.\n"
     ]
    },
    {
     "data": {
      "text/plain": [
       "<Response [200]>"
      ]
     },
     "execution_count": 18,
     "metadata": {},
     "output_type": "execute_result"
    }
   ],
   "source": [
    "# Get zero curve historic rates\n",
    "zerocurve.read_data()\n",
    "# Get mortgage historic rates\n",
    "interest.read_data()"
   ]
  },
  {
   "cell_type": "code",
   "execution_count": 19,
   "id": "4612080d",
   "metadata": {},
   "outputs": [
    {
     "name": "stderr",
     "output_type": "stream",
     "text": [
      "2023-03-19 13:33:26.075 | INFO     | src.data.dataset:save_data:55 - saving zerocurve data to file.\n",
      "2023-03-19 13:33:26.442 | INFO     | src.data.dataset:save_data:55 - saving interest data to file.\n"
     ]
    }
   ],
   "source": [
    "zerocurve.save_data()\n",
    "interest.save_data()"
   ]
  },
  {
   "cell_type": "code",
   "execution_count": 20,
   "id": "607dcf99",
   "metadata": {},
   "outputs": [
    {
     "name": "stderr",
     "output_type": "stream",
     "text": [
      "2023-03-19 13:33:26.664 | INFO     | src.data.dataset:load_data:45 - loading zerocurve data from file.\n",
      "c:\\Users\\M\\miniconda3\\envs\\rlalm\\lib\\site-packages\\pandas\\core\\internals\\blocks.py:351: RuntimeWarning: invalid value encountered in log1p\n",
      "  result = func(self.values, **kwargs)\n",
      "2023-03-19 13:33:26.881 | INFO     | src.data.dataset:load_data:45 - loading interest data from file.\n"
     ]
    }
   ],
   "source": [
    "# Load data from csv file - not directly from ECB\n",
    "zerocurve.load_data()\n",
    "interest.load_data()"
   ]
  },
  {
   "cell_type": "code",
   "execution_count": 21,
   "id": "627f7745",
   "metadata": {},
   "outputs": [
    {
     "name": "stderr",
     "output_type": "stream",
     "text": [
      "2023-03-19 13:33:27.160 | INFO     | src.models.bank_model:generate_mortgage_contracts:121 - Added 100 mortgages to our portfolio.\n",
      "2023-03-19 13:33:29.229 | INFO     | src.models.bank_model:generate_mortgage_contracts:125 - Added 18712 cashflows to our model.\n"
     ]
    },
    {
     "data": {
      "text/html": [
       "<div>\n",
       "<style scoped>\n",
       "    .dataframe tbody tr th:only-of-type {\n",
       "        vertical-align: middle;\n",
       "    }\n",
       "\n",
       "    .dataframe tbody tr th {\n",
       "        vertical-align: top;\n",
       "    }\n",
       "\n",
       "    .dataframe thead th {\n",
       "        text-align: right;\n",
       "    }\n",
       "</style>\n",
       "<table border=\"1\" class=\"dataframe\">\n",
       "  <thead>\n",
       "    <tr style=\"text-align: right;\">\n",
       "      <th></th>\n",
       "      <th>category</th>\n",
       "      <th>fixed_period</th>\n",
       "      <th>years</th>\n",
       "      <th>start_date</th>\n",
       "      <th>principal</th>\n",
       "      <th>period</th>\n",
       "      <th>interest</th>\n",
       "      <th>contract</th>\n",
       "    </tr>\n",
       "  </thead>\n",
       "  <tbody>\n",
       "    <tr>\n",
       "      <th>0</th>\n",
       "      <td>3</td>\n",
       "      <td>&gt;10 years</td>\n",
       "      <td>20</td>\n",
       "      <td>2016-10-20</td>\n",
       "      <td>100000</td>\n",
       "      <td>2016-10-01</td>\n",
       "      <td>2.98</td>\n",
       "      <td>0</td>\n",
       "    </tr>\n",
       "    <tr>\n",
       "      <th>1</th>\n",
       "      <td>3</td>\n",
       "      <td>&gt;10 years</td>\n",
       "      <td>20</td>\n",
       "      <td>2006-04-03</td>\n",
       "      <td>100000</td>\n",
       "      <td>2006-04-01</td>\n",
       "      <td>3.15</td>\n",
       "      <td>1</td>\n",
       "    </tr>\n",
       "    <tr>\n",
       "      <th>2</th>\n",
       "      <td>3</td>\n",
       "      <td>&gt;10 years</td>\n",
       "      <td>20</td>\n",
       "      <td>2016-03-10</td>\n",
       "      <td>100000</td>\n",
       "      <td>2016-03-01</td>\n",
       "      <td>3.15</td>\n",
       "      <td>2</td>\n",
       "    </tr>\n",
       "    <tr>\n",
       "      <th>3</th>\n",
       "      <td>1</td>\n",
       "      <td>1&gt;5 years</td>\n",
       "      <td>5</td>\n",
       "      <td>2021-07-19</td>\n",
       "      <td>100000</td>\n",
       "      <td>2021-07-01</td>\n",
       "      <td>1.58</td>\n",
       "      <td>3</td>\n",
       "    </tr>\n",
       "    <tr>\n",
       "      <th>4</th>\n",
       "      <td>3</td>\n",
       "      <td>&gt;10 years</td>\n",
       "      <td>20</td>\n",
       "      <td>2015-04-22</td>\n",
       "      <td>100000</td>\n",
       "      <td>2015-04-01</td>\n",
       "      <td>3.45</td>\n",
       "      <td>4</td>\n",
       "    </tr>\n",
       "  </tbody>\n",
       "</table>\n",
       "</div>"
      ],
      "text/plain": [
       "   category fixed_period  years start_date  principal     period  interest  \\\n",
       "0         3    >10 years     20 2016-10-20     100000 2016-10-01      2.98   \n",
       "1         3    >10 years     20 2006-04-03     100000 2006-04-01      3.15   \n",
       "2         3    >10 years     20 2016-03-10     100000 2016-03-01      3.15   \n",
       "3         1    1>5 years      5 2021-07-19     100000 2021-07-01      1.58   \n",
       "4         3    >10 years     20 2015-04-22     100000 2015-04-01      3.45   \n",
       "\n",
       "   contract  \n",
       "0         0  \n",
       "1         1  \n",
       "2         2  \n",
       "3         3  \n",
       "4         4  "
      ]
     },
     "execution_count": 21,
     "metadata": {},
     "output_type": "execute_result"
    }
   ],
   "source": [
    "pos_date = zerocurve.df.index[-1]\n",
    "bankmodel = Bankmodel(pos_date )\n",
    "bankmodel.generate_mortgage_contracts(n = 100, df_i = interest.df,amount = 100000)\n",
    "bankmodel.df_mortgages.head()"
   ]
  },
  {
   "cell_type": "code",
   "execution_count": 22,
   "id": "f35ad3c6",
   "metadata": {},
   "outputs": [
    {
     "data": {
      "image/png": "[encoded data removed]",
      "text/plain": [
       "<Figure size 1000x600 with 1 Axes>"
      ]
     },
     "metadata": {},
     "output_type": "display_data"
    }
   ],
   "source": [
    "bankmodel.plot_contracts();"
   ]
  },
  {
   "attachments": {},
   "cell_type": "markdown",
   "id": "e48dbb0c",
   "metadata": {},
   "source": [
    "### Non Maturity Deposits\n",
    "- Core vs Non Core balances\n",
    "\n",
    "For saving deposits a cap on the average maturity of the core deposits is set at 4.5 years. \n",
    "In general 70% - 90% of the deposits can be classied as core capital. (See guidelines BCBS)"
   ]
  },
  {
   "cell_type": "code",
   "execution_count": 23,
   "id": "35dc28a5",
   "metadata": {},
   "outputs": [
    {
     "data": {
      "text/html": [
       "<div>\n",
       "<style scoped>\n",
       "    .dataframe tbody tr th:only-of-type {\n",
       "        vertical-align: middle;\n",
       "    }\n",
       "\n",
       "    .dataframe tbody tr th {\n",
       "        vertical-align: top;\n",
       "    }\n",
       "\n",
       "    .dataframe thead th {\n",
       "        text-align: right;\n",
       "    }\n",
       "</style>\n",
       "<table border=\"1\" class=\"dataframe\">\n",
       "  <thead>\n",
       "    <tr style=\"text-align: right;\">\n",
       "      <th></th>\n",
       "      <th>period</th>\n",
       "      <th>cashflow</th>\n",
       "      <th>value_dt</th>\n",
       "      <th>type</th>\n",
       "    </tr>\n",
       "  </thead>\n",
       "  <tbody>\n",
       "    <tr>\n",
       "      <th>0</th>\n",
       "      <td>1</td>\n",
       "      <td>-5400000</td>\n",
       "      <td>2023-03-01</td>\n",
       "      <td>deposits</td>\n",
       "    </tr>\n",
       "    <tr>\n",
       "      <th>1</th>\n",
       "      <td>2</td>\n",
       "      <td>-3600000</td>\n",
       "      <td>2027-08-28</td>\n",
       "      <td>deposits</td>\n",
       "    </tr>\n",
       "  </tbody>\n",
       "</table>\n",
       "</div>"
      ],
      "text/plain": [
       "   period  cashflow   value_dt      type\n",
       "0       1  -5400000 2023-03-01  deposits\n",
       "1       2  -3600000 2027-08-28  deposits"
      ]
     },
     "execution_count": 23,
     "metadata": {},
     "output_type": "execute_result"
    }
   ],
   "source": [
    "bankmodel.generate_nonmaturing_deposits(principal = 9000000, core = 0.4, maturity = 54)"
   ]
  },
  {
   "cell_type": "code",
   "execution_count": 24,
   "id": "71d5b312",
   "metadata": {},
   "outputs": [
    {
     "data": {
      "text/html": [
       "<div>\n",
       "<style scoped>\n",
       "    .dataframe tbody tr th:only-of-type {\n",
       "        vertical-align: middle;\n",
       "    }\n",
       "\n",
       "    .dataframe tbody tr th {\n",
       "        vertical-align: top;\n",
       "    }\n",
       "\n",
       "    .dataframe thead th {\n",
       "        text-align: right;\n",
       "    }\n",
       "</style>\n",
       "<table border=\"1\" class=\"dataframe\">\n",
       "  <thead>\n",
       "    <tr style=\"text-align: right;\">\n",
       "      <th></th>\n",
       "      <th>period</th>\n",
       "      <th>cashflow</th>\n",
       "      <th>value_dt</th>\n",
       "      <th>type</th>\n",
       "    </tr>\n",
       "  </thead>\n",
       "  <tbody>\n",
       "    <tr>\n",
       "      <th>0</th>\n",
       "      <td>1</td>\n",
       "      <td>-27670.0</td>\n",
       "      <td>2023-02-28</td>\n",
       "      <td>Funding</td>\n",
       "    </tr>\n",
       "    <tr>\n",
       "      <th>1</th>\n",
       "      <td>2</td>\n",
       "      <td>-27670.0</td>\n",
       "      <td>2024-02-28</td>\n",
       "      <td>Funding</td>\n",
       "    </tr>\n",
       "    <tr>\n",
       "      <th>2</th>\n",
       "      <td>3</td>\n",
       "      <td>-27670.0</td>\n",
       "      <td>2025-02-28</td>\n",
       "      <td>Funding</td>\n",
       "    </tr>\n",
       "    <tr>\n",
       "      <th>3</th>\n",
       "      <td>4</td>\n",
       "      <td>-27670.0</td>\n",
       "      <td>2026-03-02</td>\n",
       "      <td>Funding</td>\n",
       "    </tr>\n",
       "    <tr>\n",
       "      <th>4</th>\n",
       "      <td>5</td>\n",
       "      <td>-27670.0</td>\n",
       "      <td>2027-03-01</td>\n",
       "      <td>Funding</td>\n",
       "    </tr>\n",
       "    <tr>\n",
       "      <th>5</th>\n",
       "      <td>6</td>\n",
       "      <td>-27670.0</td>\n",
       "      <td>2028-02-28</td>\n",
       "      <td>Funding</td>\n",
       "    </tr>\n",
       "    <tr>\n",
       "      <th>6</th>\n",
       "      <td>7</td>\n",
       "      <td>-27670.0</td>\n",
       "      <td>2029-02-28</td>\n",
       "      <td>Funding</td>\n",
       "    </tr>\n",
       "    <tr>\n",
       "      <th>7</th>\n",
       "      <td>8</td>\n",
       "      <td>-27670.0</td>\n",
       "      <td>2030-02-28</td>\n",
       "      <td>Funding</td>\n",
       "    </tr>\n",
       "    <tr>\n",
       "      <th>8</th>\n",
       "      <td>9</td>\n",
       "      <td>-27670.0</td>\n",
       "      <td>2031-02-28</td>\n",
       "      <td>Funding</td>\n",
       "    </tr>\n",
       "    <tr>\n",
       "      <th>9</th>\n",
       "      <td>10</td>\n",
       "      <td>-1027670.0</td>\n",
       "      <td>2032-03-01</td>\n",
       "      <td>Funding</td>\n",
       "    </tr>\n",
       "  </tbody>\n",
       "</table>\n",
       "</div>"
      ],
      "text/plain": [
       "   period   cashflow   value_dt     type\n",
       "0       1   -27670.0 2023-02-28  Funding\n",
       "1       2   -27670.0 2024-02-28  Funding\n",
       "2       3   -27670.0 2025-02-28  Funding\n",
       "3       4   -27670.0 2026-03-02  Funding\n",
       "4       5   -27670.0 2027-03-01  Funding\n",
       "5       6   -27670.0 2028-02-28  Funding\n",
       "6       7   -27670.0 2029-02-28  Funding\n",
       "7       8   -27670.0 2030-02-28  Funding\n",
       "8       9   -27670.0 2031-02-28  Funding\n",
       "9      10 -1027670.0 2032-03-01  Funding"
      ]
     },
     "execution_count": 24,
     "metadata": {},
     "output_type": "execute_result"
    }
   ],
   "source": [
    "pos_date = zerocurve.df.index[-1]\n",
    "rate = zerocurve.df.loc[pos_date].query('tenor == 120')['rate'][0]\n",
    "df_cashflows = bankmodel.generate_funding(principal = 1000000, rate = rate, maturity = 120)\n",
    "df_cashflows"
   ]
  },
  {
   "cell_type": "code",
   "execution_count": 25,
   "id": "07396cd0",
   "metadata": {},
   "outputs": [
    {
     "data": {
      "image/png": "[encoded data removed]",
      "text/plain": [
       "<Figure size 1000x600 with 1 Axes>"
      ]
     },
     "metadata": {},
     "output_type": "display_data"
    }
   ],
   "source": [
    "bankmodel.plot_cashflows()"
   ]
  },
  {
   "attachments": {},
   "cell_type": "markdown",
   "id": "04cd9606",
   "metadata": {},
   "source": [
    "### npv calculation\n",
    "\n",
    "$$NPV = {{Cashflow} \\over (1+i)^T}.$$\n",
    "$$DF_0^T = [1+R_{zc}]^{-T})$$\n",
    "where:\n",
    "- $DF_0^T$  = a discount factor with maturity T\n",
    "- $R_{zc}$ = A zero coupon interest rate\n",
    "- $T$ = Maturity of the zero rate, in years (calculated as days/365)"
   ]
  },
  {
   "cell_type": "code",
   "execution_count": 27,
   "id": "c3d4abf3",
   "metadata": {},
   "outputs": [
    {
     "name": "stdout",
     "output_type": "stream",
     "text": [
      "npv = -2,143,822\n",
      "r1 = -302,717\n"
     ]
    }
   ],
   "source": [
    "result = bankmodel.calculate_npv(zerocurve)\n",
    "print (f\"npv = {result:,.0f}\")\n",
    "r1 = bankmodel.calculate_risk(zerocurve,200,'Parallel')\n",
    "print (f\"r1 = {r1:,.0f}\")"
   ]
  },
  {
   "cell_type": "code",
   "execution_count": 28,
   "id": "14332a2f",
   "metadata": {},
   "outputs": [
    {
     "name": "stderr",
     "output_type": "stream",
     "text": [
      "2023-03-19 13:33:55.614 | DEBUG    | src.data.zerocurve:step:124 - Stepping in zerocurve 2023-03-01 00:00:00.\n"
     ]
    },
    {
     "name": "stdout",
     "output_type": "stream",
     "text": [
      "NPV = -2,139,550\n",
      "r1 = -302,896\n"
     ]
    }
   ],
   "source": [
    "bankmodel.step()\n",
    "zerocurve.step()\n",
    "result = bankmodel.calculate_npv(zerocurve)\n",
    "print (f\"NPV = {result:,.0f}\")\n",
    "r1 = bankmodel.calculate_risk(zerocurve,200,'Parallel')\n",
    "print (f\"r1 = {r1:,.0f}\")"
   ]
  },
  {
   "cell_type": "code",
   "execution_count": 34,
   "id": "e5b95d20",
   "metadata": {},
   "outputs": [
    {
     "data": {
      "image/png": "[encoded data removed]",
      "text/plain": [
       "<Figure size 1000x600 with 1 Axes>"
      ]
     },
     "metadata": {},
     "output_type": "display_data"
    }
   ],
   "source": [
    "bankmodel.plot_cashflows()"
   ]
  },
  {
   "cell_type": "code",
   "execution_count": 97,
   "id": "7ca39dbd",
   "metadata": {},
   "outputs": [
    {
     "data": {
      "text/html": [
       "<div>\n",
       "<style scoped>\n",
       "    .dataframe tbody tr th:only-of-type {\n",
       "        vertical-align: middle;\n",
       "    }\n",
       "\n",
       "    .dataframe tbody tr th {\n",
       "        vertical-align: top;\n",
       "    }\n",
       "\n",
       "    .dataframe thead th {\n",
       "        text-align: right;\n",
       "    }\n",
       "</style>\n",
       "<table border=\"1\" class=\"dataframe\">\n",
       "  <thead>\n",
       "    <tr style=\"text-align: right;\">\n",
       "      <th></th>\n",
       "      <th>tenor</th>\n",
       "      <th>rate</th>\n",
       "      <th>value_dt</th>\n",
       "    </tr>\n",
       "    <tr>\n",
       "      <th>rate_dt</th>\n",
       "      <th></th>\n",
       "      <th></th>\n",
       "      <th></th>\n",
       "    </tr>\n",
       "  </thead>\n",
       "  <tbody>\n",
       "    <tr>\n",
       "      <th>2023-02-28</th>\n",
       "      <td>0</td>\n",
       "      <td>3.052459</td>\n",
       "      <td>2023-03-01</td>\n",
       "    </tr>\n",
       "    <tr>\n",
       "      <th>2023-02-28</th>\n",
       "      <td>3</td>\n",
       "      <td>3.052459</td>\n",
       "      <td>2023-05-29</td>\n",
       "    </tr>\n",
       "    <tr>\n",
       "      <th>2023-02-28</th>\n",
       "      <td>6</td>\n",
       "      <td>3.369500</td>\n",
       "      <td>2023-08-28</td>\n",
       "    </tr>\n",
       "    <tr>\n",
       "      <th>2023-02-28</th>\n",
       "      <td>9</td>\n",
       "      <td>3.390191</td>\n",
       "      <td>2023-11-28</td>\n",
       "    </tr>\n",
       "    <tr>\n",
       "      <th>2023-02-28</th>\n",
       "      <td>12</td>\n",
       "      <td>3.282758</td>\n",
       "      <td>2024-02-28</td>\n",
       "    </tr>\n",
       "    <tr>\n",
       "      <th>2023-02-28</th>\n",
       "      <td>15</td>\n",
       "      <td>3.135074</td>\n",
       "      <td>2024-05-28</td>\n",
       "    </tr>\n",
       "    <tr>\n",
       "      <th>2023-02-28</th>\n",
       "      <td>18</td>\n",
       "      <td>2.989885</td>\n",
       "      <td>2024-08-27</td>\n",
       "    </tr>\n",
       "    <tr>\n",
       "      <th>2023-02-28</th>\n",
       "      <td>24</td>\n",
       "      <td>2.766859</td>\n",
       "      <td>2025-02-27</td>\n",
       "    </tr>\n",
       "    <tr>\n",
       "      <th>2023-02-28</th>\n",
       "      <td>36</td>\n",
       "      <td>2.588444</td>\n",
       "      <td>2026-02-28</td>\n",
       "    </tr>\n",
       "    <tr>\n",
       "      <th>2023-02-28</th>\n",
       "      <td>48</td>\n",
       "      <td>2.586636</td>\n",
       "      <td>2027-02-28</td>\n",
       "    </tr>\n",
       "    <tr>\n",
       "      <th>2023-02-28</th>\n",
       "      <td>60</td>\n",
       "      <td>2.630026</td>\n",
       "      <td>2028-02-28</td>\n",
       "    </tr>\n",
       "    <tr>\n",
       "      <th>2023-02-28</th>\n",
       "      <td>84</td>\n",
       "      <td>2.712942</td>\n",
       "      <td>2030-02-28</td>\n",
       "    </tr>\n",
       "    <tr>\n",
       "      <th>2023-02-28</th>\n",
       "      <td>120</td>\n",
       "      <td>2.767047</td>\n",
       "      <td>2033-02-27</td>\n",
       "    </tr>\n",
       "    <tr>\n",
       "      <th>2023-02-28</th>\n",
       "      <td>180</td>\n",
       "      <td>2.715403</td>\n",
       "      <td>2038-02-28</td>\n",
       "    </tr>\n",
       "    <tr>\n",
       "      <th>2023-02-28</th>\n",
       "      <td>360</td>\n",
       "      <td>2.173018</td>\n",
       "      <td>2053-02-27</td>\n",
       "    </tr>\n",
       "  </tbody>\n",
       "</table>\n",
       "</div>"
      ],
      "text/plain": [
       "            tenor      rate   value_dt\n",
       "rate_dt                               \n",
       "2023-02-28      0  3.052459 2023-03-01\n",
       "2023-02-28      3  3.052459 2023-05-29\n",
       "2023-02-28      6  3.369500 2023-08-28\n",
       "2023-02-28      9  3.390191 2023-11-28\n",
       "2023-02-28     12  3.282758 2024-02-28\n",
       "2023-02-28     15  3.135074 2024-05-28\n",
       "2023-02-28     18  2.989885 2024-08-27\n",
       "2023-02-28     24  2.766859 2025-02-27\n",
       "2023-02-28     36  2.588444 2026-02-28\n",
       "2023-02-28     48  2.586636 2027-02-28\n",
       "2023-02-28     60  2.630026 2028-02-28\n",
       "2023-02-28     84  2.712942 2030-02-28\n",
       "2023-02-28    120  2.767047 2033-02-27\n",
       "2023-02-28    180  2.715403 2038-02-28\n",
       "2023-02-28    360  2.173018 2053-02-27"
      ]
     },
     "execution_count": 97,
     "metadata": {},
     "output_type": "execute_result"
    }
   ],
   "source": [
    "zerocurve.df.loc[pos_date]"
   ]
  },
  {
   "cell_type": "code",
   "execution_count": 120,
   "id": "f0d566a0",
   "metadata": {},
   "outputs": [
    {
     "ename": "TypeError",
     "evalue": "float() argument must be a string or a real number, not 'Timestamp'",
     "output_type": "error",
     "traceback": [
      "\u001b[1;31m---------------------------------------------------------------------------\u001b[0m",
      "\u001b[1;31mTypeError\u001b[0m                                 Traceback (most recent call last)",
      "Cell \u001b[1;32mIn[120], line 2\u001b[0m\n\u001b[0;32m      1\u001b[0m bins \u001b[39m=\u001b[39m  [ pos_date \u001b[39m+\u001b[39m pd\u001b[39m.\u001b[39moffsets\u001b[39m.\u001b[39mDateOffset(months\u001b[39m=\u001b[39mitem) \u001b[39mfor\u001b[39;00m item \u001b[39min\u001b[39;00m zerocurve\u001b[39m.\u001b[39mdf\u001b[39m.\u001b[39mloc[pos_date]\u001b[39m.\u001b[39mtenor\u001b[39m.\u001b[39mto_list()]\n\u001b[1;32m----> 2\u001b[0m pd\u001b[39m.\u001b[39;49mcut(df_c[\u001b[39m'\u001b[39;49m\u001b[39mcashflow\u001b[39;49m\u001b[39m'\u001b[39;49m], bins)\n",
      "File \u001b[1;32mc:\\Users\\M\\miniconda3\\envs\\rlalm\\lib\\site-packages\\pandas\\core\\reshape\\tile.py:290\u001b[0m, in \u001b[0;36mcut\u001b[1;34m(x, bins, right, labels, retbins, precision, include_lowest, duplicates, ordered)\u001b[0m\n\u001b[0;32m    287\u001b[0m     bins \u001b[39m=\u001b[39m _convert_bin_to_numeric_type(bins, dtype)\n\u001b[0;32m    289\u001b[0m     \u001b[39m# GH 26045: cast to float64 to avoid an overflow\u001b[39;00m\n\u001b[1;32m--> 290\u001b[0m     \u001b[39mif\u001b[39;00m (np\u001b[39m.\u001b[39mdiff(bins\u001b[39m.\u001b[39;49mastype(\u001b[39m\"\u001b[39;49m\u001b[39mfloat64\u001b[39;49m\u001b[39m\"\u001b[39;49m)) \u001b[39m<\u001b[39m \u001b[39m0\u001b[39m)\u001b[39m.\u001b[39many():\n\u001b[0;32m    291\u001b[0m         \u001b[39mraise\u001b[39;00m \u001b[39mValueError\u001b[39;00m(\u001b[39m\"\u001b[39m\u001b[39mbins must increase monotonically.\u001b[39m\u001b[39m\"\u001b[39m)\n\u001b[0;32m    293\u001b[0m fac, bins \u001b[39m=\u001b[39m _bins_to_cuts(\n\u001b[0;32m    294\u001b[0m     x,\n\u001b[0;32m    295\u001b[0m     bins,\n\u001b[1;32m   (...)\u001b[0m\n\u001b[0;32m    302\u001b[0m     ordered\u001b[39m=\u001b[39mordered,\n\u001b[0;32m    303\u001b[0m )\n",
      "\u001b[1;31mTypeError\u001b[0m: float() argument must be a string or a real number, not 'Timestamp'"
     ]
    }
   ],
   "source": [
    "bins =  [ pos_date + pd.offsets.DateOffset(months=item) for item in zerocurve.df.loc[pos_date].tenor.to_list()]\n",
    "pd.cut(df_c['cashflow'], bins)"
   ]
  },
  {
   "cell_type": "code",
   "execution_count": 118,
   "id": "05632211",
   "metadata": {},
   "outputs": [
    {
     "ename": "ValueError",
     "evalue": "Invalid frequency: [<DateOffset: months=0>, <DateOffset: months=3>, <DateOffset: months=6>, <DateOffset: months=9>, <DateOffset: months=12>, <DateOffset: months=15>, <DateOffset: months=18>, <DateOffset: months=24>, <DateOffset: months=36>, <DateOffset: months=48>, <DateOffset: months=60>, <DateOffset: months=84>, <DateOffset: months=120>, <DateOffset: months=180>, <DateOffset: months=360>]",
     "output_type": "error",
     "traceback": [
      "\u001b[1;31m---------------------------------------------------------------------------\u001b[0m",
      "\u001b[1;31mValueError\u001b[0m                                Traceback (most recent call last)",
      "Cell \u001b[1;32mIn[118], line 11\u001b[0m\n\u001b[0;32m      7\u001b[0m offsets \u001b[39m=\u001b[39m [ pd\u001b[39m.\u001b[39moffsets\u001b[39m.\u001b[39mDateOffset(months\u001b[39m=\u001b[39mitem) \u001b[39mfor\u001b[39;00m item \u001b[39min\u001b[39;00m zerocurve\u001b[39m.\u001b[39mdf\u001b[39m.\u001b[39mloc[pos_date]\u001b[39m.\u001b[39mtenor\u001b[39m.\u001b[39mto_list()]\n\u001b[0;32m      8\u001b[0m \u001b[39m# grouped = df_c.groupby(pd.Grouper(freq=pd.offsets.MonthBegin(), offset=pd.offsets.DateOffset(0), closed='left',\u001b[39;00m\n\u001b[0;32m      9\u001b[0m \u001b[39m#                                label='left', convention='start')).apply(lambda x: x.groupby(pd.Grouper(key='Value Date', freq=offsets)).sum())\u001b[39;00m\n\u001b[1;32m---> 11\u001b[0m grouped \u001b[39m=\u001b[39m df\u001b[39m.\u001b[39;49mgroupby(pd\u001b[39m.\u001b[39;49mGrouper(key\u001b[39m=\u001b[39;49m\u001b[39m'\u001b[39;49m\u001b[39mvalue_dt\u001b[39;49m\u001b[39m'\u001b[39;49m, freq\u001b[39m=\u001b[39;49mpd\u001b[39m.\u001b[39;49moffsets\u001b[39m.\u001b[39;49mMonthBegin()))\u001b[39m.\u001b[39;49mapply(\u001b[39mlambda\u001b[39;49;00m x: x\u001b[39m.\u001b[39;49mgroupby(pd\u001b[39m.\u001b[39;49mGrouper(key\u001b[39m=\u001b[39;49m\u001b[39m'\u001b[39;49m\u001b[39mvalue_dt\u001b[39;49m\u001b[39m'\u001b[39;49m, freq\u001b[39m=\u001b[39;49moffsets))\u001b[39m.\u001b[39;49msum())\n\u001b[0;32m     13\u001b[0m \u001b[39mprint\u001b[39m(grouped)\n",
      "File \u001b[1;32mc:\\Users\\M\\miniconda3\\envs\\rlalm\\lib\\site-packages\\pandas\\core\\groupby\\groupby.py:1549\u001b[0m, in \u001b[0;36mGroupBy.apply\u001b[1;34m(self, func, *args, **kwargs)\u001b[0m\n\u001b[0;32m   1547\u001b[0m \u001b[39mwith\u001b[39;00m option_context(\u001b[39m\"\u001b[39m\u001b[39mmode.chained_assignment\u001b[39m\u001b[39m\"\u001b[39m, \u001b[39mNone\u001b[39;00m):\n\u001b[0;32m   1548\u001b[0m     \u001b[39mtry\u001b[39;00m:\n\u001b[1;32m-> 1549\u001b[0m         result \u001b[39m=\u001b[39m \u001b[39mself\u001b[39;49m\u001b[39m.\u001b[39;49m_python_apply_general(f, \u001b[39mself\u001b[39;49m\u001b[39m.\u001b[39;49m_selected_obj)\n\u001b[0;32m   1550\u001b[0m     \u001b[39mexcept\u001b[39;00m \u001b[39mTypeError\u001b[39;00m:\n\u001b[0;32m   1551\u001b[0m         \u001b[39m# gh-20949\u001b[39;00m\n\u001b[0;32m   1552\u001b[0m         \u001b[39m# try again, with .apply acting as a filtering\u001b[39;00m\n\u001b[1;32m   (...)\u001b[0m\n\u001b[0;32m   1556\u001b[0m         \u001b[39m# fails on *some* columns, e.g. a numeric operation\u001b[39;00m\n\u001b[0;32m   1557\u001b[0m         \u001b[39m# on a string grouper column\u001b[39;00m\n\u001b[0;32m   1559\u001b[0m         \u001b[39mwith\u001b[39;00m \u001b[39mself\u001b[39m\u001b[39m.\u001b[39m_group_selection_context():\n",
      "File \u001b[1;32mc:\\Users\\M\\miniconda3\\envs\\rlalm\\lib\\site-packages\\pandas\\core\\groupby\\groupby.py:1601\u001b[0m, in \u001b[0;36mGroupBy._python_apply_general\u001b[1;34m(self, f, data, not_indexed_same, is_transform, is_agg)\u001b[0m\n\u001b[0;32m   1564\u001b[0m \u001b[39m@final\u001b[39m\n\u001b[0;32m   1565\u001b[0m \u001b[39mdef\u001b[39;00m \u001b[39m_python_apply_general\u001b[39m(\n\u001b[0;32m   1566\u001b[0m     \u001b[39mself\u001b[39m,\n\u001b[1;32m   (...)\u001b[0m\n\u001b[0;32m   1571\u001b[0m     is_agg: \u001b[39mbool\u001b[39m \u001b[39m=\u001b[39m \u001b[39mFalse\u001b[39;00m,\n\u001b[0;32m   1572\u001b[0m ) \u001b[39m-\u001b[39m\u001b[39m>\u001b[39m NDFrameT:\n\u001b[0;32m   1573\u001b[0m     \u001b[39m\"\"\"\u001b[39;00m\n\u001b[0;32m   1574\u001b[0m \u001b[39m    Apply function f in python space\u001b[39;00m\n\u001b[0;32m   1575\u001b[0m \n\u001b[1;32m   (...)\u001b[0m\n\u001b[0;32m   1599\u001b[0m \u001b[39m        data after applying f\u001b[39;00m\n\u001b[0;32m   1600\u001b[0m \u001b[39m    \"\"\"\u001b[39;00m\n\u001b[1;32m-> 1601\u001b[0m     values, mutated \u001b[39m=\u001b[39m \u001b[39mself\u001b[39;49m\u001b[39m.\u001b[39;49mgrouper\u001b[39m.\u001b[39;49mapply(f, data, \u001b[39mself\u001b[39;49m\u001b[39m.\u001b[39;49maxis)\n\u001b[0;32m   1602\u001b[0m     \u001b[39mif\u001b[39;00m not_indexed_same \u001b[39mis\u001b[39;00m \u001b[39mNone\u001b[39;00m:\n\u001b[0;32m   1603\u001b[0m         not_indexed_same \u001b[39m=\u001b[39m mutated \u001b[39mor\u001b[39;00m \u001b[39mself\u001b[39m\u001b[39m.\u001b[39mmutated\n",
      "File \u001b[1;32mc:\\Users\\M\\miniconda3\\envs\\rlalm\\lib\\site-packages\\pandas\\core\\groupby\\ops.py:839\u001b[0m, in \u001b[0;36mBaseGrouper.apply\u001b[1;34m(self, f, data, axis)\u001b[0m\n\u001b[0;32m    837\u001b[0m \u001b[39m# group might be modified\u001b[39;00m\n\u001b[0;32m    838\u001b[0m group_axes \u001b[39m=\u001b[39m group\u001b[39m.\u001b[39maxes\n\u001b[1;32m--> 839\u001b[0m res \u001b[39m=\u001b[39m f(group)\n\u001b[0;32m    840\u001b[0m \u001b[39mif\u001b[39;00m \u001b[39mnot\u001b[39;00m mutated \u001b[39mand\u001b[39;00m \u001b[39mnot\u001b[39;00m _is_indexed_like(res, group_axes, axis):\n\u001b[0;32m    841\u001b[0m     mutated \u001b[39m=\u001b[39m \u001b[39mTrue\u001b[39;00m\n",
      "Cell \u001b[1;32mIn[118], line 11\u001b[0m, in \u001b[0;36m<lambda>\u001b[1;34m(x)\u001b[0m\n\u001b[0;32m      7\u001b[0m offsets \u001b[39m=\u001b[39m [ pd\u001b[39m.\u001b[39moffsets\u001b[39m.\u001b[39mDateOffset(months\u001b[39m=\u001b[39mitem) \u001b[39mfor\u001b[39;00m item \u001b[39min\u001b[39;00m zerocurve\u001b[39m.\u001b[39mdf\u001b[39m.\u001b[39mloc[pos_date]\u001b[39m.\u001b[39mtenor\u001b[39m.\u001b[39mto_list()]\n\u001b[0;32m      8\u001b[0m \u001b[39m# grouped = df_c.groupby(pd.Grouper(freq=pd.offsets.MonthBegin(), offset=pd.offsets.DateOffset(0), closed='left',\u001b[39;00m\n\u001b[0;32m      9\u001b[0m \u001b[39m#                                label='left', convention='start')).apply(lambda x: x.groupby(pd.Grouper(key='Value Date', freq=offsets)).sum())\u001b[39;00m\n\u001b[1;32m---> 11\u001b[0m grouped \u001b[39m=\u001b[39m df\u001b[39m.\u001b[39mgroupby(pd\u001b[39m.\u001b[39mGrouper(key\u001b[39m=\u001b[39m\u001b[39m'\u001b[39m\u001b[39mvalue_dt\u001b[39m\u001b[39m'\u001b[39m, freq\u001b[39m=\u001b[39mpd\u001b[39m.\u001b[39moffsets\u001b[39m.\u001b[39mMonthBegin()))\u001b[39m.\u001b[39mapply(\u001b[39mlambda\u001b[39;00m x: x\u001b[39m.\u001b[39mgroupby(pd\u001b[39m.\u001b[39;49mGrouper(key\u001b[39m=\u001b[39;49m\u001b[39m'\u001b[39;49m\u001b[39mvalue_dt\u001b[39;49m\u001b[39m'\u001b[39;49m, freq\u001b[39m=\u001b[39;49moffsets))\u001b[39m.\u001b[39msum())\n\u001b[0;32m     13\u001b[0m \u001b[39mprint\u001b[39m(grouped)\n",
      "File \u001b[1;32mc:\\Users\\M\\miniconda3\\envs\\rlalm\\lib\\site-packages\\pandas\\core\\resample.py:1613\u001b[0m, in \u001b[0;36mTimeGrouper.__init__\u001b[1;34m(self, freq, closed, label, how, axis, fill_method, limit, loffset, kind, convention, base, origin, offset, group_keys, **kwargs)\u001b[0m\n\u001b[0;32m   1610\u001b[0m \u001b[39mif\u001b[39;00m convention \u001b[39mnot\u001b[39;00m \u001b[39min\u001b[39;00m {\u001b[39mNone\u001b[39;00m, \u001b[39m\"\u001b[39m\u001b[39mstart\u001b[39m\u001b[39m\"\u001b[39m, \u001b[39m\"\u001b[39m\u001b[39mend\u001b[39m\u001b[39m\"\u001b[39m, \u001b[39m\"\u001b[39m\u001b[39me\u001b[39m\u001b[39m\"\u001b[39m, \u001b[39m\"\u001b[39m\u001b[39ms\u001b[39m\u001b[39m\"\u001b[39m}:\n\u001b[0;32m   1611\u001b[0m     \u001b[39mraise\u001b[39;00m \u001b[39mValueError\u001b[39;00m(\u001b[39mf\u001b[39m\u001b[39m\"\u001b[39m\u001b[39mUnsupported value \u001b[39m\u001b[39m{\u001b[39;00mconvention\u001b[39m}\u001b[39;00m\u001b[39m for `convention`\u001b[39m\u001b[39m\"\u001b[39m)\n\u001b[1;32m-> 1613\u001b[0m freq \u001b[39m=\u001b[39m to_offset(freq)\n\u001b[0;32m   1615\u001b[0m end_types \u001b[39m=\u001b[39m {\u001b[39m\"\u001b[39m\u001b[39mM\u001b[39m\u001b[39m\"\u001b[39m, \u001b[39m\"\u001b[39m\u001b[39mA\u001b[39m\u001b[39m\"\u001b[39m, \u001b[39m\"\u001b[39m\u001b[39mQ\u001b[39m\u001b[39m\"\u001b[39m, \u001b[39m\"\u001b[39m\u001b[39mBM\u001b[39m\u001b[39m\"\u001b[39m, \u001b[39m\"\u001b[39m\u001b[39mBA\u001b[39m\u001b[39m\"\u001b[39m, \u001b[39m\"\u001b[39m\u001b[39mBQ\u001b[39m\u001b[39m\"\u001b[39m, \u001b[39m\"\u001b[39m\u001b[39mW\u001b[39m\u001b[39m\"\u001b[39m}\n\u001b[0;32m   1616\u001b[0m rule \u001b[39m=\u001b[39m freq\u001b[39m.\u001b[39mrule_code\n",
      "File \u001b[1;32mc:\\Users\\M\\miniconda3\\envs\\rlalm\\lib\\site-packages\\pandas\\_libs\\tslibs\\offsets.pyx:3891\u001b[0m, in \u001b[0;36mpandas._libs.tslibs.offsets.to_offset\u001b[1;34m()\u001b[0m\n",
      "File \u001b[1;32mc:\\Users\\M\\miniconda3\\envs\\rlalm\\lib\\site-packages\\pandas\\_libs\\tslibs\\offsets.pyx:3992\u001b[0m, in \u001b[0;36mpandas._libs.tslibs.offsets.to_offset\u001b[1;34m()\u001b[0m\n",
      "\u001b[1;31mValueError\u001b[0m: Invalid frequency: [<DateOffset: months=0>, <DateOffset: months=3>, <DateOffset: months=6>, <DateOffset: months=9>, <DateOffset: months=12>, <DateOffset: months=15>, <DateOffset: months=18>, <DateOffset: months=24>, <DateOffset: months=36>, <DateOffset: months=48>, <DateOffset: months=60>, <DateOffset: months=84>, <DateOffset: months=120>, <DateOffset: months=180>, <DateOffset: months=360>]"
     ]
    }
   ],
   "source": [
    "# Group cashflows per tenor\n",
    "df = bankmodel.df_cashflows\n",
    "df_c = df[df[\"value_dt\"] > bankmodel.pos_date] \n",
    "df_c.head()\n",
    "df_c.set_index('value_dt', inplace = True)\n",
    "\n",
    "offsets = [ pd.offsets.DateOffset(months=item) for item in zerocurve.df.loc[pos_date].tenor.to_list()]\n",
    "# grouped = df_c.groupby(pd.Grouper(freq=pd.offsets.MonthBegin(), offset=pd.offsets.DateOffset(0), closed='left',\n",
    "#                                label='left', convention='start')).apply(lambda x: x.groupby(pd.Grouper(key='Value Date', freq=offsets)).sum())\n",
    "\n",
    "grouped = df.groupby(pd.Grouper(key='value_dt', freq=pd.offsets.MonthBegin())).apply(lambda x: x.groupby(pd.Grouper(key='value_dt', freq=offsets)).sum())\n",
    "\n",
    "print(grouped)"
   ]
  },
  {
   "cell_type": "code",
   "execution_count": 108,
   "id": "0e16d519",
   "metadata": {},
   "outputs": [
    {
     "data": {
      "text/plain": [
       "[0, 3, 6, 9, 12, 15, 18, 24, 36, 48, 60, 84, 120, 180, 360]"
      ]
     },
     "execution_count": 108,
     "metadata": {},
     "output_type": "execute_result"
    }
   ],
   "source": [
    "zerocurve.df.loc[pos_date].tenor.to_list()\n"
   ]
  },
  {
   "cell_type": "code",
   "execution_count": 111,
   "id": "e5a98895",
   "metadata": {},
   "outputs": [
    {
     "data": {
      "text/plain": [
       "'1.5.2'"
      ]
     },
     "execution_count": 111,
     "metadata": {},
     "output_type": "execute_result"
    }
   ],
   "source": [
    "pd.__version__"
   ]
  },
  {
   "cell_type": "code",
   "execution_count": 96,
   "id": "8c0285e0",
   "metadata": {},
   "outputs": [
    {
     "name": "stdout",
     "output_type": "stream",
     "text": [
      "15\n",
      "30\n",
      "7874\n",
      "5\n",
      "                  0         1         2         3         4         5   \\\n",
      "value_dt                                                                 \n",
      "2023-03-01  3.042459  3.052459  3.052459  3.052459  3.052459  3.052459   \n",
      "2023-05-29  3.052459  3.042459  3.052459  3.052459  3.052459  3.052459   \n",
      "2023-08-28  3.369500  3.369500  3.359500  3.369500  3.369500  3.369500   \n",
      "2023-11-28  3.390191  3.390191  3.390191  3.380191  3.390191  3.390191   \n",
      "2024-02-28  3.282758  3.282758  3.282758  3.282758  3.272758  3.282758   \n",
      "2024-05-28  3.135074  3.135074  3.135074  3.135074  3.135074  3.125074   \n",
      "2024-08-27  2.989885  2.989885  2.989885  2.989885  2.989885  2.989885   \n",
      "2025-02-27  2.766859  2.766859  2.766859  2.766859  2.766859  2.766859   \n",
      "2026-02-28  2.588444  2.588444  2.588444  2.588444  2.588444  2.588444   \n",
      "2027-02-28  2.586636  2.586636  2.586636  2.586636  2.586636  2.586636   \n",
      "2028-02-28  2.630026  2.630026  2.630026  2.630026  2.630026  2.630026   \n",
      "2030-02-28  2.712942  2.712942  2.712942  2.712942  2.712942  2.712942   \n",
      "2033-02-27  2.767047  2.767047  2.767047  2.767047  2.767047  2.767047   \n",
      "2038-02-28  2.715403  2.715403  2.715403  2.715403  2.715403  2.715403   \n",
      "2053-02-27  2.173018  2.173018  2.173018  2.173018  2.173018  2.173018   \n",
      "\n",
      "                  6         7         8         9   ...        20        21  \\\n",
      "value_dt                                            ...                       \n",
      "2023-03-01  3.052459  3.052459  3.052459  3.052459  ...  3.052459  3.052459   \n",
      "2023-05-29  3.052459  3.052459  3.052459  3.052459  ...  3.052459  3.052459   \n",
      "2023-08-28  3.369500  3.369500  3.369500  3.369500  ...  3.369500  3.369500   \n",
      "2023-11-28  3.390191  3.390191  3.390191  3.390191  ...  3.390191  3.390191   \n",
      "2024-02-28  3.282758  3.282758  3.282758  3.282758  ...  3.282758  3.282758   \n",
      "2024-05-28  3.135074  3.135074  3.135074  3.135074  ...  3.145074  3.135074   \n",
      "2024-08-27  2.979885  2.989885  2.989885  2.989885  ...  2.989885  2.999885   \n",
      "2025-02-27  2.766859  2.756859  2.766859  2.766859  ...  2.766859  2.766859   \n",
      "2026-02-28  2.588444  2.588444  2.578444  2.588444  ...  2.588444  2.588444   \n",
      "2027-02-28  2.586636  2.586636  2.586636  2.576636  ...  2.586636  2.586636   \n",
      "2028-02-28  2.630026  2.630026  2.630026  2.630026  ...  2.630026  2.630026   \n",
      "2030-02-28  2.712942  2.712942  2.712942  2.712942  ...  2.712942  2.712942   \n",
      "2033-02-27  2.767047  2.767047  2.767047  2.767047  ...  2.767047  2.767047   \n",
      "2038-02-28  2.715403  2.715403  2.715403  2.715403  ...  2.715403  2.715403   \n",
      "2053-02-27  2.173018  2.173018  2.173018  2.173018  ...  2.173018  2.173018   \n",
      "\n",
      "                  22        23        24        25        26        27  \\\n",
      "value_dt                                                                 \n",
      "2023-03-01  3.052459  3.052459  3.052459  3.052459  3.052459  3.052459   \n",
      "2023-05-29  3.052459  3.052459  3.052459  3.052459  3.052459  3.052459   \n",
      "2023-08-28  3.369500  3.369500  3.369500  3.369500  3.369500  3.369500   \n",
      "2023-11-28  3.390191  3.390191  3.390191  3.390191  3.390191  3.390191   \n",
      "2024-02-28  3.282758  3.282758  3.282758  3.282758  3.282758  3.282758   \n",
      "2024-05-28  3.135074  3.135074  3.135074  3.135074  3.135074  3.135074   \n",
      "2024-08-27  2.989885  2.989885  2.989885  2.989885  2.989885  2.989885   \n",
      "2025-02-27  2.776859  2.766859  2.766859  2.766859  2.766859  2.766859   \n",
      "2026-02-28  2.588444  2.598444  2.588444  2.588444  2.588444  2.588444   \n",
      "2027-02-28  2.586636  2.586636  2.596636  2.586636  2.586636  2.586636   \n",
      "2028-02-28  2.630026  2.630026  2.630026  2.640026  2.630026  2.630026   \n",
      "2030-02-28  2.712942  2.712942  2.712942  2.712942  2.722942  2.712942   \n",
      "2033-02-27  2.767047  2.767047  2.767047  2.767047  2.767047  2.777047   \n",
      "2038-02-28  2.715403  2.715403  2.715403  2.715403  2.715403  2.715403   \n",
      "2053-02-27  2.173018  2.173018  2.173018  2.173018  2.173018  2.173018   \n",
      "\n",
      "                  28        29  \n",
      "value_dt                        \n",
      "2023-03-01  3.052459  3.052459  \n",
      "2023-05-29  3.052459  3.052459  \n",
      "2023-08-28  3.369500  3.369500  \n",
      "2023-11-28  3.390191  3.390191  \n",
      "2024-02-28  3.282758  3.282758  \n",
      "2024-05-28  3.135074  3.135074  \n",
      "2024-08-27  2.989885  2.989885  \n",
      "2025-02-27  2.766859  2.766859  \n",
      "2026-02-28  2.588444  2.588444  \n",
      "2027-02-28  2.586636  2.586636  \n",
      "2028-02-28  2.630026  2.630026  \n",
      "2030-02-28  2.712942  2.712942  \n",
      "2033-02-27  2.767047  2.767047  \n",
      "2038-02-28  2.725403  2.715403  \n",
      "2053-02-27  2.173018  2.183018  \n",
      "\n",
      "[15 rows x 30 columns]\n"
     ]
    }
   ],
   "source": [
    "import numpy as np\n",
    "df_date = zerocurve.df.loc[pos_date].copy()  \n",
    "shock = 1 / 100\n",
    "x = df_date['rate'].to_numpy()\n",
    "new_cols = np.zeros((len(x), len(x)))\n",
    "r = [-shock, shock]\n",
    "df_curves = pd.DataFrame()\n",
    "for s in r:    \n",
    "    for i in range(len(x)):        \n",
    "        new_cols[:, i] = x\n",
    "        new_cols[i, i] = x[i]+s            \n",
    "        df_curves[i+r.index(s)*len(x)] = new_cols[:,i].tolist()\n",
    "df_curves.index = df_date['value_dt']\n",
    "print(len(df_curves))\n",
    "print(len(df_curves.columns))\n",
    "df = bankmodel.df_cashflows\n",
    "df_c = df[df[\"value_dt\"] > bankmodel.pos_date] \n",
    "print(len(df_c))\n",
    "print(len(df_c.columns))\n",
    "print(df_curves)\n",
    "\n"
   ]
  },
  {
   "cell_type": "code",
   "execution_count": 55,
   "id": "7416c975",
   "metadata": {},
   "outputs": [
    {
     "name": "stdout",
     "output_type": "stream",
     "text": [
      "[[ 1. 11.  1.  1.  1.  1.]\n",
      " [ 2.  2. 12.  2.  2.  2.]\n",
      " [ 3.  3.  3. 13.  3.  3.]\n",
      " [ 4.  4.  4.  4. 14.  4.]\n",
      " [ 5.  5.  5.  5.  5. 15.]]\n"
     ]
    }
   ],
   "source": [
    "import numpy as np\n",
    "\n",
    "# create a 1D array of x elements\n",
    "x = np.array([1, 2, 3, 4, 5])\n",
    "\n",
    "# define the number y to be added to each row\n",
    "y = 10\n",
    "\n",
    "# create a 2D array of zeros with shape (len(x), len(x))\n",
    "new_cols = np.zeros((len(x), len(x)))\n",
    "\n",
    "# iterate over the array x and add y to each row corresponding to the column\n",
    "for i in range(len(x)):\n",
    "    new_cols[:, i] = x\n",
    "    new_cols[i, i] = x[i]+y\n",
    "\n",
    "\n",
    "# concatenate the new columns with the original array\n",
    "result = np.concatenate((x.reshape(-1, 1), new_cols), axis=1)\n",
    "\n",
    "# print the result\n",
    "print(result)"
   ]
  },
  {
   "cell_type": "code",
   "execution_count": 45,
   "id": "d2fd8f80",
   "metadata": {},
   "outputs": [
    {
     "data": {
      "text/plain": [
       "numpy.ndarray"
      ]
     },
     "execution_count": 45,
     "metadata": {},
     "output_type": "execute_result"
    }
   ],
   "source": [
    "type(result)"
   ]
  },
  {
   "cell_type": "code",
   "execution_count": 33,
   "id": "332b1fc3",
   "metadata": {},
   "outputs": [
    {
     "name": "stderr",
     "output_type": "stream",
     "text": [
      "2023-03-19 13:35:31.229 | DEBUG    | src.data.zerocurve:step:124 - Stepping in zerocurve 2023-12-07 00:00:00.\n",
      "2023-03-19 13:35:31.276 | DEBUG    | src.data.zerocurve:step:124 - Stepping in zerocurve 2023-12-08 00:00:00.\n",
      "2023-03-19 13:35:31.322 | DEBUG    | src.data.zerocurve:step:124 - Stepping in zerocurve 2023-12-11 00:00:00.\n",
      "2023-03-19 13:35:31.375 | DEBUG    | src.data.zerocurve:step:124 - Stepping in zerocurve 2023-12-12 00:00:00.\n",
      "2023-03-19 13:35:31.428 | DEBUG    | src.data.zerocurve:step:124 - Stepping in zerocurve 2023-12-13 00:00:00.\n",
      "2023-03-19 13:35:31.475 | DEBUG    | src.data.zerocurve:step:124 - Stepping in zerocurve 2023-12-14 00:00:00.\n",
      "2023-03-19 13:35:31.517 | DEBUG    | src.data.zerocurve:step:124 - Stepping in zerocurve 2023-12-15 00:00:00.\n",
      "2023-03-19 13:35:31.560 | DEBUG    | src.data.zerocurve:step:124 - Stepping in zerocurve 2023-12-18 00:00:00.\n",
      "2023-03-19 13:35:31.607 | DEBUG    | src.data.zerocurve:step:124 - Stepping in zerocurve 2023-12-19 00:00:00.\n",
      "2023-03-19 13:35:31.649 | DEBUG    | src.data.zerocurve:step:124 - Stepping in zerocurve 2023-12-20 00:00:00.\n",
      "2023-03-19 13:35:31.691 | DEBUG    | src.data.zerocurve:step:124 - Stepping in zerocurve 2023-12-21 00:00:00.\n",
      "2023-03-19 13:35:31.730 | DEBUG    | src.data.zerocurve:step:124 - Stepping in zerocurve 2023-12-22 00:00:00.\n",
      "2023-03-19 13:35:31.774 | DEBUG    | src.data.zerocurve:step:124 - Stepping in zerocurve 2023-12-25 00:00:00.\n",
      "2023-03-19 13:35:31.825 | DEBUG    | src.data.zerocurve:step:124 - Stepping in zerocurve 2023-12-26 00:00:00.\n",
      "2023-03-19 13:35:31.870 | DEBUG    | src.data.zerocurve:step:124 - Stepping in zerocurve 2023-12-27 00:00:00.\n",
      "2023-03-19 13:35:31.918 | DEBUG    | src.data.zerocurve:step:124 - Stepping in zerocurve 2023-12-28 00:00:00.\n",
      "2023-03-19 13:35:31.962 | DEBUG    | src.data.zerocurve:step:124 - Stepping in zerocurve 2023-12-29 00:00:00.\n",
      "2023-03-19 13:35:32.054 | DEBUG    | src.data.zerocurve:step:124 - Stepping in zerocurve 2024-01-01 00:00:00.\n",
      "2023-03-19 13:35:32.111 | DEBUG    | src.data.zerocurve:step:124 - Stepping in zerocurve 2024-01-02 00:00:00.\n",
      "2023-03-19 13:35:32.154 | DEBUG    | src.data.zerocurve:step:124 - Stepping in zerocurve 2024-01-03 00:00:00.\n",
      "2023-03-19 13:35:32.198 | DEBUG    | src.data.zerocurve:step:124 - Stepping in zerocurve 2024-01-04 00:00:00.\n",
      "2023-03-19 13:35:32.243 | DEBUG    | src.data.zerocurve:step:124 - Stepping in zerocurve 2024-01-05 00:00:00.\n",
      "2023-03-19 13:35:32.287 | DEBUG    | src.data.zerocurve:step:124 - Stepping in zerocurve 2024-01-08 00:00:00.\n",
      "2023-03-19 13:35:32.327 | DEBUG    | src.data.zerocurve:step:124 - Stepping in zerocurve 2024-01-09 00:00:00.\n",
      "2023-03-19 13:35:32.374 | DEBUG    | src.data.zerocurve:step:124 - Stepping in zerocurve 2024-01-10 00:00:00.\n",
      "2023-03-19 13:35:32.420 | DEBUG    | src.data.zerocurve:step:124 - Stepping in zerocurve 2024-01-11 00:00:00.\n",
      "2023-03-19 13:35:32.478 | DEBUG    | src.data.zerocurve:step:124 - Stepping in zerocurve 2024-01-12 00:00:00.\n",
      "2023-03-19 13:35:32.527 | DEBUG    | src.data.zerocurve:step:124 - Stepping in zerocurve 2024-01-15 00:00:00.\n",
      "2023-03-19 13:35:32.570 | DEBUG    | src.data.zerocurve:step:124 - Stepping in zerocurve 2024-01-16 00:00:00.\n",
      "2023-03-19 13:35:32.618 | DEBUG    | src.data.zerocurve:step:124 - Stepping in zerocurve 2024-01-17 00:00:00.\n",
      "2023-03-19 13:35:32.663 | DEBUG    | src.data.zerocurve:step:124 - Stepping in zerocurve 2024-01-18 00:00:00.\n",
      "2023-03-19 13:35:32.705 | DEBUG    | src.data.zerocurve:step:124 - Stepping in zerocurve 2024-01-19 00:00:00.\n",
      "2023-03-19 13:35:32.746 | DEBUG    | src.data.zerocurve:step:124 - Stepping in zerocurve 2024-01-22 00:00:00.\n",
      "2023-03-19 13:35:32.788 | DEBUG    | src.data.zerocurve:step:124 - Stepping in zerocurve 2024-01-23 00:00:00.\n",
      "2023-03-19 13:35:32.830 | DEBUG    | src.data.zerocurve:step:124 - Stepping in zerocurve 2024-01-24 00:00:00.\n",
      "2023-03-19 13:35:32.875 | DEBUG    | src.data.zerocurve:step:124 - Stepping in zerocurve 2024-01-25 00:00:00.\n",
      "2023-03-19 13:35:32.916 | DEBUG    | src.data.zerocurve:step:124 - Stepping in zerocurve 2024-01-26 00:00:00.\n",
      "2023-03-19 13:35:32.965 | DEBUG    | src.data.zerocurve:step:124 - Stepping in zerocurve 2024-01-29 00:00:00.\n",
      "2023-03-19 13:35:33.014 | DEBUG    | src.data.zerocurve:step:124 - Stepping in zerocurve 2024-01-30 00:00:00.\n",
      "2023-03-19 13:35:33.064 | DEBUG    | src.data.zerocurve:step:124 - Stepping in zerocurve 2024-01-31 00:00:00.\n",
      "2023-03-19 13:35:33.118 | DEBUG    | src.data.zerocurve:step:124 - Stepping in zerocurve 2024-02-01 00:00:00.\n",
      "2023-03-19 13:35:33.160 | DEBUG    | src.data.zerocurve:step:124 - Stepping in zerocurve 2024-02-02 00:00:00.\n",
      "2023-03-19 13:35:33.202 | DEBUG    | src.data.zerocurve:step:124 - Stepping in zerocurve 2024-02-05 00:00:00.\n",
      "2023-03-19 13:35:33.246 | DEBUG    | src.data.zerocurve:step:124 - Stepping in zerocurve 2024-02-06 00:00:00.\n",
      "2023-03-19 13:35:33.290 | DEBUG    | src.data.zerocurve:step:124 - Stepping in zerocurve 2024-02-07 00:00:00.\n",
      "2023-03-19 13:35:33.333 | DEBUG    | src.data.zerocurve:step:124 - Stepping in zerocurve 2024-02-08 00:00:00.\n",
      "2023-03-19 13:35:33.377 | DEBUG    | src.data.zerocurve:step:124 - Stepping in zerocurve 2024-02-09 00:00:00.\n",
      "2023-03-19 13:35:33.429 | DEBUG    | src.data.zerocurve:step:124 - Stepping in zerocurve 2024-02-12 00:00:00.\n",
      "2023-03-19 13:35:33.482 | DEBUG    | src.data.zerocurve:step:124 - Stepping in zerocurve 2024-02-13 00:00:00.\n",
      "2023-03-19 13:35:33.528 | DEBUG    | src.data.zerocurve:step:124 - Stepping in zerocurve 2024-02-14 00:00:00.\n",
      "2023-03-19 13:35:33.571 | DEBUG    | src.data.zerocurve:step:124 - Stepping in zerocurve 2024-02-15 00:00:00.\n",
      "2023-03-19 13:35:33.613 | DEBUG    | src.data.zerocurve:step:124 - Stepping in zerocurve 2024-02-16 00:00:00.\n",
      "2023-03-19 13:35:33.656 | DEBUG    | src.data.zerocurve:step:124 - Stepping in zerocurve 2024-02-19 00:00:00.\n",
      "2023-03-19 13:35:33.698 | DEBUG    | src.data.zerocurve:step:124 - Stepping in zerocurve 2024-02-20 00:00:00.\n",
      "2023-03-19 13:35:33.742 | DEBUG    | src.data.zerocurve:step:124 - Stepping in zerocurve 2024-02-21 00:00:00.\n",
      "2023-03-19 13:35:33.783 | DEBUG    | src.data.zerocurve:step:124 - Stepping in zerocurve 2024-02-22 00:00:00.\n",
      "2023-03-19 13:35:33.827 | DEBUG    | src.data.zerocurve:step:124 - Stepping in zerocurve 2024-02-23 00:00:00.\n",
      "2023-03-19 13:35:33.869 | DEBUG    | src.data.zerocurve:step:124 - Stepping in zerocurve 2024-02-26 00:00:00.\n",
      "2023-03-19 13:35:33.913 | DEBUG    | src.data.zerocurve:step:124 - Stepping in zerocurve 2024-02-27 00:00:00.\n",
      "2023-03-19 13:35:33.954 | DEBUG    | src.data.zerocurve:step:124 - Stepping in zerocurve 2024-02-28 00:00:00.\n",
      "2023-03-19 13:35:33.998 | DEBUG    | src.data.zerocurve:step:124 - Stepping in zerocurve 2024-02-29 00:00:00.\n",
      "2023-03-19 13:35:34.038 | DEBUG    | src.data.zerocurve:step:124 - Stepping in zerocurve 2024-03-01 00:00:00.\n",
      "2023-03-19 13:35:34.084 | DEBUG    | src.data.zerocurve:step:124 - Stepping in zerocurve 2024-03-04 00:00:00.\n",
      "2023-03-19 13:35:34.126 | DEBUG    | src.data.zerocurve:step:124 - Stepping in zerocurve 2024-03-05 00:00:00.\n",
      "2023-03-19 13:35:34.168 | DEBUG    | src.data.zerocurve:step:124 - Stepping in zerocurve 2024-03-06 00:00:00.\n",
      "2023-03-19 13:35:34.210 | DEBUG    | src.data.zerocurve:step:124 - Stepping in zerocurve 2024-03-07 00:00:00.\n",
      "2023-03-19 13:35:34.255 | DEBUG    | src.data.zerocurve:step:124 - Stepping in zerocurve 2024-03-08 00:00:00.\n",
      "2023-03-19 13:35:34.297 | DEBUG    | src.data.zerocurve:step:124 - Stepping in zerocurve 2024-03-11 00:00:00.\n",
      "2023-03-19 13:35:34.337 | DEBUG    | src.data.zerocurve:step:124 - Stepping in zerocurve 2024-03-12 00:00:00.\n",
      "2023-03-19 13:35:34.380 | DEBUG    | src.data.zerocurve:step:124 - Stepping in zerocurve 2024-03-13 00:00:00.\n",
      "2023-03-19 13:35:34.421 | DEBUG    | src.data.zerocurve:step:124 - Stepping in zerocurve 2024-03-14 00:00:00.\n",
      "2023-03-19 13:35:34.465 | DEBUG    | src.data.zerocurve:step:124 - Stepping in zerocurve 2024-03-15 00:00:00.\n",
      "2023-03-19 13:35:34.510 | DEBUG    | src.data.zerocurve:step:124 - Stepping in zerocurve 2024-03-18 00:00:00.\n",
      "2023-03-19 13:35:34.554 | DEBUG    | src.data.zerocurve:step:124 - Stepping in zerocurve 2024-03-19 00:00:00.\n",
      "2023-03-19 13:35:34.598 | DEBUG    | src.data.zerocurve:step:124 - Stepping in zerocurve 2024-03-20 00:00:00.\n",
      "2023-03-19 13:35:34.642 | DEBUG    | src.data.zerocurve:step:124 - Stepping in zerocurve 2024-03-21 00:00:00.\n",
      "2023-03-19 13:35:34.715 | DEBUG    | src.data.zerocurve:step:124 - Stepping in zerocurve 2024-03-22 00:00:00.\n",
      "2023-03-19 13:35:34.758 | DEBUG    | src.data.zerocurve:step:124 - Stepping in zerocurve 2024-03-25 00:00:00.\n",
      "2023-03-19 13:35:34.799 | DEBUG    | src.data.zerocurve:step:124 - Stepping in zerocurve 2024-03-26 00:00:00.\n",
      "2023-03-19 13:35:34.839 | DEBUG    | src.data.zerocurve:step:124 - Stepping in zerocurve 2024-03-27 00:00:00.\n",
      "2023-03-19 13:35:34.880 | DEBUG    | src.data.zerocurve:step:124 - Stepping in zerocurve 2024-03-28 00:00:00.\n",
      "2023-03-19 13:35:34.925 | DEBUG    | src.data.zerocurve:step:124 - Stepping in zerocurve 2024-03-29 00:00:00.\n",
      "2023-03-19 13:35:34.967 | DEBUG    | src.data.zerocurve:step:124 - Stepping in zerocurve 2024-04-01 00:00:00.\n",
      "2023-03-19 13:35:35.030 | DEBUG    | src.data.zerocurve:step:124 - Stepping in zerocurve 2024-04-02 00:00:00.\n",
      "2023-03-19 13:35:35.104 | DEBUG    | src.data.zerocurve:step:124 - Stepping in zerocurve 2024-04-03 00:00:00.\n",
      "2023-03-19 13:35:35.154 | DEBUG    | src.data.zerocurve:step:124 - Stepping in zerocurve 2024-04-04 00:00:00.\n",
      "2023-03-19 13:35:35.195 | DEBUG    | src.data.zerocurve:step:124 - Stepping in zerocurve 2024-04-05 00:00:00.\n",
      "2023-03-19 13:35:35.236 | DEBUG    | src.data.zerocurve:step:124 - Stepping in zerocurve 2024-04-08 00:00:00.\n",
      "2023-03-19 13:35:35.278 | DEBUG    | src.data.zerocurve:step:124 - Stepping in zerocurve 2024-04-09 00:00:00.\n",
      "2023-03-19 13:35:35.322 | DEBUG    | src.data.zerocurve:step:124 - Stepping in zerocurve 2024-04-10 00:00:00.\n",
      "2023-03-19 13:35:35.364 | DEBUG    | src.data.zerocurve:step:124 - Stepping in zerocurve 2024-04-11 00:00:00.\n",
      "2023-03-19 13:35:35.404 | DEBUG    | src.data.zerocurve:step:124 - Stepping in zerocurve 2024-04-12 00:00:00.\n",
      "2023-03-19 13:35:35.445 | DEBUG    | src.data.zerocurve:step:124 - Stepping in zerocurve 2024-04-15 00:00:00.\n",
      "2023-03-19 13:35:35.487 | DEBUG    | src.data.zerocurve:step:124 - Stepping in zerocurve 2024-04-16 00:00:00.\n",
      "2023-03-19 13:35:35.528 | DEBUG    | src.data.zerocurve:step:124 - Stepping in zerocurve 2024-04-17 00:00:00.\n",
      "2023-03-19 13:35:35.572 | DEBUG    | src.data.zerocurve:step:124 - Stepping in zerocurve 2024-04-18 00:00:00.\n",
      "2023-03-19 13:35:35.612 | DEBUG    | src.data.zerocurve:step:124 - Stepping in zerocurve 2024-04-19 00:00:00.\n",
      "2023-03-19 13:35:35.654 | DEBUG    | src.data.zerocurve:step:124 - Stepping in zerocurve 2024-04-22 00:00:00.\n",
      "2023-03-19 13:35:35.694 | DEBUG    | src.data.zerocurve:step:124 - Stepping in zerocurve 2024-04-23 00:00:00.\n",
      "2023-03-19 13:35:35.737 | DEBUG    | src.data.zerocurve:step:124 - Stepping in zerocurve 2024-04-24 00:00:00.\n"
     ]
    },
    {
     "data": {
      "text/plain": [
       "<AxesSubplot:>"
      ]
     },
     "execution_count": 33,
     "metadata": {},
     "output_type": "execute_result"
    },
    {
     "data": {
      "image/png": "[encoded data removed]",
      "text/plain": [
       "<Figure size 1000x600 with 1 Axes>"
      ]
     },
     "metadata": {},
     "output_type": "display_data"
    }
   ],
   "source": [
    "# run an episode of 100 steps\n",
    "risk = []\n",
    "for i in range(100):\n",
    "    bankmodel.step()\n",
    "    zerocurve.step()\n",
    "    risk.append(bankmodel.calculate_risk(zerocurve,200,'Parallel'))    \n",
    "sns.lineplot(risk)"
   ]
  },
  {
   "cell_type": "code",
   "execution_count": null,
   "id": "42889f17",
   "metadata": {},
   "outputs": [],
   "source": [
    "bankmodel.reset()\n",
    "zerocurve.reset()"
   ]
  }
 ],
 "metadata": {
  "kernelspec": {
   "display_name": "rlalm",
   "language": "python",
   "name": "rlalm"
  },
  "language_info": {
   "codemirror_mode": {
    "name": "ipython",
    "version": 3
   },
   "file_extension": ".py",
   "mimetype": "text/x-python",
   "name": "python",
   "nbconvert_exporter": "python",
   "pygments_lexer": "ipython3",
   "version": "3.10.9"
  }
 },
 "nbformat": 4,
 "nbformat_minor": 5
}
