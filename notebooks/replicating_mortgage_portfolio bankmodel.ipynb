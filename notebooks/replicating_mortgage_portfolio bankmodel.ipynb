{
 "cells": [
  {
   "attachments": {},
   "cell_type": "markdown",
   "id": "32d466b6",
   "metadata": {},
   "source": [
    "### Simulating a mortgage portfolio (II)\n",
    "\n",
    "Mortgages typically have a lineair interest rate model - where the monthly prepayment is fixed, or use an annualized schema - in which interest plus prepayment makes a fixed amount per month. To start, we model all mortgages with the lineair interest rate model.\n",
    "\n",
    "See also: https://riskatwork.nl/wp-content/uploads/2019/11/RAW-MortgagePrepayments.pdf\n",
    "\n",
    "Customers normally have the option to re-pay the mortgage earlier then the maturity / repricing data.  In general a bank loan may not be held until maturity because:\n",
    "* Customers repay the loan early (as a percentage of the loan, or fully when moving)\n",
    "* Customers can default on the loan - forcing the bank to write off the loan\n",
    "\n",
    "Growth and new business \n",
    "Customers can choose the fixed interest period they select. Their choice will be influenced by market expectations, and the rates offered by the bank. "
   ]
  },
  {
   "cell_type": "code",
   "execution_count": 14,
   "id": "501e7ee4",
   "metadata": {},
   "outputs": [
    {
     "name": "stdout",
     "output_type": "stream",
     "text": [
      "The autoreload extension is already loaded. To reload it, use:\n",
      "  %reload_ext autoreload\n"
     ]
    }
   ],
   "source": [
    "%load_ext autoreload\n",
    "%autoreload 2\n",
    "%matplotlib inline\n",
    "\n",
    "import pandas as pd\n",
    "from datetime import timedelta\n",
    "from dateutil.parser import parse\n",
    "\n",
    "from src.data import assets\n",
    "from src.data.zerocurve import Zerocurve\n",
    "from src.data.interest import Interest\n"
   ]
  },
  {
   "cell_type": "code",
   "execution_count": 15,
   "id": "0fa965ac",
   "metadata": {},
   "outputs": [],
   "source": [
    "# Create data objects\n",
    "zerocurve = Zerocurve()\n",
    "interest = Interest()"
   ]
  },
  {
   "cell_type": "code",
   "execution_count": 16,
   "id": "bee79462",
   "metadata": {},
   "outputs": [
    {
     "name": "stderr",
     "output_type": "stream",
     "text": [
      "2023-03-17 15:26:08.233 | INFO     | src.data.dataset:read_data:26 - reading zerocurve data from ESW.\n",
      "c:\\Users\\M\\miniconda3\\envs\\rlalm\\lib\\site-packages\\pandas\\core\\internals\\blocks.py:351: RuntimeWarning: invalid value encountered in log1p\n",
      "  result = func(self.values, **kwargs)\n",
      "2023-03-17 15:26:09.368 | INFO     | src.data.dataset:read_data:26 - reading interest data from ESW.\n"
     ]
    },
    {
     "data": {
      "text/plain": [
       "<Response [200]>"
      ]
     },
     "execution_count": 16,
     "metadata": {},
     "output_type": "execute_result"
    }
   ],
   "source": [
    "# Get zero curve historic rates\n",
    "zerocurve.read_data()\n",
    "# Get mortgage historic rates\n",
    "interest.read_data()"
   ]
  },
  {
   "cell_type": "code",
   "execution_count": 17,
   "id": "4612080d",
   "metadata": {},
   "outputs": [
    {
     "name": "stderr",
     "output_type": "stream",
     "text": [
      "2023-03-17 15:26:11.273 | INFO     | src.data.dataset:save_data:55 - saving zerocurve data to file.\n",
      "2023-03-17 15:26:11.709 | INFO     | src.data.dataset:save_data:55 - saving interest data to file.\n"
     ]
    }
   ],
   "source": [
    "zerocurve.save_data()\n",
    "interest.save_data()"
   ]
  },
  {
   "cell_type": "code",
   "execution_count": 18,
   "id": "607dcf99",
   "metadata": {},
   "outputs": [
    {
     "name": "stderr",
     "output_type": "stream",
     "text": [
      "2023-03-17 15:26:13.130 | INFO     | src.data.dataset:load_data:45 - loading zerocurve data from file.\n",
      "c:\\Users\\M\\miniconda3\\envs\\rlalm\\lib\\site-packages\\pandas\\core\\internals\\blocks.py:351: RuntimeWarning: invalid value encountered in log1p\n",
      "  result = func(self.values, **kwargs)\n",
      "2023-03-17 15:26:13.371 | INFO     | src.data.dataset:load_data:45 - loading interest data from file.\n"
     ]
    }
   ],
   "source": [
    "# Load data from csv file - not directly from ECB\n",
    "zerocurve.load_data()\n",
    "interest.load_data()"
   ]
  },
  {
   "cell_type": "code",
   "execution_count": 19,
   "id": "627f7745",
   "metadata": {},
   "outputs": [
    {
     "name": "stderr",
     "output_type": "stream",
     "text": [
      "2023-03-17 15:26:15.722 | INFO     | src.data.assets:generate_mortgage_contracts:111 - Added 300 mortgages to our portfolio.\n",
      "2023-03-17 15:26:22.177 | INFO     | src.data.assets:generate_mortgage_contracts:115 - Added 53820 cashflows to our model.\n"
     ]
    },
    {
     "data": {
      "text/html": [
       "<div>\n",
       "<style scoped>\n",
       "    .dataframe tbody tr th:only-of-type {\n",
       "        vertical-align: middle;\n",
       "    }\n",
       "\n",
       "    .dataframe tbody tr th {\n",
       "        vertical-align: top;\n",
       "    }\n",
       "\n",
       "    .dataframe thead th {\n",
       "        text-align: right;\n",
       "    }\n",
       "</style>\n",
       "<table border=\"1\" class=\"dataframe\">\n",
       "  <thead>\n",
       "    <tr style=\"text-align: right;\">\n",
       "      <th></th>\n",
       "      <th>category</th>\n",
       "      <th>fixed_period</th>\n",
       "      <th>years</th>\n",
       "      <th>start_date</th>\n",
       "      <th>principal</th>\n",
       "      <th>period</th>\n",
       "      <th>interest</th>\n",
       "      <th>contract</th>\n",
       "    </tr>\n",
       "  </thead>\n",
       "  <tbody>\n",
       "    <tr>\n",
       "      <th>0</th>\n",
       "      <td>3</td>\n",
       "      <td>&gt;10 years</td>\n",
       "      <td>20</td>\n",
       "      <td>2020-12-08</td>\n",
       "      <td>200000</td>\n",
       "      <td>2020-12-01</td>\n",
       "      <td>1.98</td>\n",
       "      <td>0</td>\n",
       "    </tr>\n",
       "    <tr>\n",
       "      <th>1</th>\n",
       "      <td>3</td>\n",
       "      <td>&gt;10 years</td>\n",
       "      <td>20</td>\n",
       "      <td>2004-11-29</td>\n",
       "      <td>200000</td>\n",
       "      <td>2004-11-01</td>\n",
       "      <td>3.15</td>\n",
       "      <td>1</td>\n",
       "    </tr>\n",
       "    <tr>\n",
       "      <th>2</th>\n",
       "      <td>3</td>\n",
       "      <td>&gt;10 years</td>\n",
       "      <td>20</td>\n",
       "      <td>2011-09-19</td>\n",
       "      <td>200000</td>\n",
       "      <td>2011-09-01</td>\n",
       "      <td>5.15</td>\n",
       "      <td>2</td>\n",
       "    </tr>\n",
       "    <tr>\n",
       "      <th>3</th>\n",
       "      <td>3</td>\n",
       "      <td>&gt;10 years</td>\n",
       "      <td>20</td>\n",
       "      <td>2005-12-23</td>\n",
       "      <td>200000</td>\n",
       "      <td>2005-12-01</td>\n",
       "      <td>3.15</td>\n",
       "      <td>3</td>\n",
       "    </tr>\n",
       "    <tr>\n",
       "      <th>4</th>\n",
       "      <td>3</td>\n",
       "      <td>&gt;10 years</td>\n",
       "      <td>20</td>\n",
       "      <td>2004-01-21</td>\n",
       "      <td>200000</td>\n",
       "      <td>2004-01-01</td>\n",
       "      <td>3.15</td>\n",
       "      <td>4</td>\n",
       "    </tr>\n",
       "  </tbody>\n",
       "</table>\n",
       "</div>"
      ],
      "text/plain": [
       "   category fixed_period  years start_date  principal     period  interest  \\\n",
       "0         3    >10 years     20 2020-12-08     200000 2020-12-01      1.98   \n",
       "1         3    >10 years     20 2004-11-29     200000 2004-11-01      3.15   \n",
       "2         3    >10 years     20 2011-09-19     200000 2011-09-01      5.15   \n",
       "3         3    >10 years     20 2005-12-23     200000 2005-12-01      3.15   \n",
       "4         3    >10 years     20 2004-01-21     200000 2004-01-01      3.15   \n",
       "\n",
       "   contract  \n",
       "0         0  \n",
       "1         1  \n",
       "2         2  \n",
       "3         3  \n",
       "4         4  "
      ]
     },
     "execution_count": 19,
     "metadata": {},
     "output_type": "execute_result"
    }
   ],
   "source": [
    "# pos_date = parse('28-02-2023')\n",
    "bankmodel = assets.Bankmodel(pos_date = zerocurve.df.index[-1])\n",
    "bankmodel.generate_mortgage_contracts(n = 300, df_i = interest.df)\n",
    "bankmodel.df_mortgages.head()"
   ]
  },
  {
   "cell_type": "code",
   "execution_count": 20,
   "id": "f35ad3c6",
   "metadata": {},
   "outputs": [
    {
     "data": {
      "image/png": "[encoded data removed]",
      "text/plain": [
       "<Figure size 1000x600 with 1 Axes>"
      ]
     },
     "metadata": {},
     "output_type": "display_data"
    }
   ],
   "source": [
    "bankmodel.plot_contracts();"
   ]
  },
  {
   "cell_type": "code",
   "execution_count": 8,
   "id": "cad040c1",
   "metadata": {},
   "outputs": [
    {
     "data": {
      "image/png": "[encoded data removed]",
      "text/plain": [
       "<Figure size 1000x600 with 1 Axes>"
      ]
     },
     "metadata": {},
     "output_type": "display_data"
    }
   ],
   "source": [
    "bankmodel.plot_cashflows()"
   ]
  },
  {
   "attachments": {},
   "cell_type": "markdown",
   "id": "04cd9606",
   "metadata": {},
   "source": [
    "### npv calculation\n",
    "\n",
    "$$NPV = {{Cashflow} \\over (1+i)^T}.$$\n",
    "$$DF_0^T = [1+R_{zc}]^{-T})$$\n",
    "where:\n",
    "- $DF_0^T$  = a discount factor with maturity T\n",
    "- $R_{zc}$ = A zero coupon interest rate\n",
    "- $T$ = Maturity of the zero rate, in years (calculated as days/365)"
   ]
  },
  {
   "cell_type": "code",
   "execution_count": 21,
   "id": "c3d4abf3",
   "metadata": {},
   "outputs": [
    {
     "data": {
      "text/plain": [
       "45545661.879999995"
      ]
     },
     "execution_count": 21,
     "metadata": {},
     "output_type": "execute_result"
    }
   ],
   "source": [
    "bankmodel.calculate_returns(zerocurve)"
   ]
  },
  {
   "cell_type": "code",
   "execution_count": 22,
   "id": "14332a2f",
   "metadata": {},
   "outputs": [
    {
     "name": "stderr",
     "output_type": "stream",
     "text": [
      "2023-03-17 15:26:38.332 | DEBUG    | src.data.zerocurve:step:124 - Stepping in zerocurve 2023-03-01 00:00:00.\n"
     ]
    },
    {
     "data": {
      "text/plain": [
       "45599905.13999999"
      ]
     },
     "execution_count": 22,
     "metadata": {},
     "output_type": "execute_result"
    }
   ],
   "source": [
    "bankmodel.step()\n",
    "zerocurve.step()\n",
    "bankmodel.calculate_returns(zerocurve)\n",
    "\n"
   ]
  },
  {
   "cell_type": "code",
   "execution_count": 23,
   "id": "09ccf4d4",
   "metadata": {},
   "outputs": [
    {
     "name": "stderr",
     "output_type": "stream",
     "text": [
      "2023-03-17 15:26:52.434 | DEBUG    | src.data.zerocurve:step:124 - Stepping in zerocurve 2023-03-02 00:00:00.\n"
     ]
    },
    {
     "data": {
      "text/plain": [
       "45685559.08"
      ]
     },
     "execution_count": 23,
     "metadata": {},
     "output_type": "execute_result"
    }
   ],
   "source": [
    "bankmodel.step()\n",
    "zerocurve.step()\n",
    "bankmodel.calculate_returns(zerocurve)\n"
   ]
  },
  {
   "cell_type": "code",
   "execution_count": 26,
   "id": "42889f17",
   "metadata": {},
   "outputs": [],
   "source": [
    "bankmodel.reset()\n",
    "zerocurve.reset()"
   ]
  },
  {
   "cell_type": "code",
   "execution_count": 27,
   "id": "949ef72d",
   "metadata": {},
   "outputs": [
    {
     "data": {
      "text/plain": [
       "45545661.879999995"
      ]
     },
     "execution_count": 27,
     "metadata": {},
     "output_type": "execute_result"
    }
   ],
   "source": [
    "bankmodel.calculate_returns(zerocurve)"
   ]
  },
  {
   "cell_type": "code",
   "execution_count": null,
   "id": "ec771fc2",
   "metadata": {},
   "outputs": [],
   "source": [
    "zerocurve.df.tail()"
   ]
  },
  {
   "cell_type": "code",
   "execution_count": null,
   "id": "6ad60cb4",
   "metadata": {},
   "outputs": [],
   "source": [
    "zerocurve.yield_data.tail()"
   ]
  },
  {
   "cell_type": "code",
   "execution_count": null,
   "id": "2247b46b",
   "metadata": {},
   "outputs": [],
   "source": [
    "pos_date = parse('28-02-2023')\n",
    "zerocurve.df.loc[pos_date]"
   ]
  },
  {
   "cell_type": "code",
   "execution_count": null,
   "id": "2e1cf043",
   "metadata": {},
   "outputs": [],
   "source": [
    "df_forward = zerocurve.interpolate(pos_date)"
   ]
  },
  {
   "cell_type": "code",
   "execution_count": null,
   "id": "596fdca3",
   "metadata": {},
   "outputs": [],
   "source": [
    "df_c = bankmodel.df_cashflows\n",
    "df_npv = df_c.merge(df_forward, left_on = 'value_dt', right_on = df_forward.index)\n",
    "df_npv['pos_dt'] = pos_date\n",
    "df_npv['year_frac'] = round((df_npv['value_dt'] -df_npv['pos_dt'] )/ timedelta(365,0,0,0),5)\n",
    "df_npv['df'] = 1 / (1 + df_npv['rate'] / 100 )**df_npv['year_frac']\n",
    "df_npv['npv'] = round(df_npv['cashflow'] * df_npv['df'] ,2)"
   ]
  },
  {
   "cell_type": "code",
   "execution_count": null,
   "id": "ee399c6e",
   "metadata": {},
   "outputs": [],
   "source": [
    "df_npv['npv'].sum()\n"
   ]
  },
  {
   "cell_type": "code",
   "execution_count": null,
   "id": "af219874",
   "metadata": {},
   "outputs": [],
   "source": [
    "# De Volksbank Annual Report \n",
    "# initialize data of lists.\n",
    "pd.set_option(\"display.precision\", 5)\n",
    "pre_payment_rate = 2\n",
    "pdf = 1\n",
    "\n",
    "data = {'year':  [  2021,  2020,  2019,  2018,  2017,  2016,   2015,  2014,  2013,  2012,  2011 ],\n",
    "        'loans': [ 50727, 50542, 50542, 50461, 50536, 48593,  49217, 52834, 53405, 49341, 51263 ] }\n",
    "  \n",
    "# Create DataFrame\n",
    "df = pd.DataFrame(data)\n",
    "df = df.sort_values(by = ['year'] )\n",
    "df['growth'] = df['loans'].pct_change()\n",
    "df = df.set_index('year')\n",
    "df['prepayments'] =  - round((pre_payment_rate / 100) * df['loans'],4)\n",
    "df['lgd']  = - round((pdf / 100) * df['loans'],0)\n",
    "df['mortgages'] = round(df.loans / 200,0)\n",
    "df['net_in_outflow'] = round((df['loans'].shift(-1) - ( df['loans'] + df['prepayments'] + df['lgd'] )   ) )\n",
    "df.style.format(\n",
    "    na_rep='',\n",
    "    formatter =     \n",
    "    {    \n",
    "        \"loans\"       : \"{:,.0f}\",\n",
    "        \"growth\"      : \"{:0.2%}\",        \n",
    "        \"mortgages\"   : \"{:,.0f}\",\n",
    "        \"prepayments\" : \"{:,.0f}\",    \n",
    "        \"lgd\"         : \"{:,.0f}\", \n",
    "        \"net_in_outflow\"         : \"{:,.0f}\", \n",
    "    }\n",
    "    \n",
    ")"
   ]
  },
  {
   "cell_type": "markdown",
   "id": "4659552a",
   "metadata": {},
   "source": [
    "Non Maturity Deposits"
   ]
  },
  {
   "cell_type": "markdown",
   "id": "beea847c",
   "metadata": {},
   "source": [
    "#### Core vs Non Core balances\n",
    "For saving deposits a cap on the average maturity of the core deposits is set at 4.5 years. \n",
    "In general 70% - 90% of the deposits can be classied as core capital. (See guidelines BCBS)"
   ]
  },
  {
   "cell_type": "code",
   "execution_count": null,
   "id": "c87779ce",
   "metadata": {},
   "outputs": [],
   "source": [
    "\n",
    "\n"
   ]
  }
 ],
 "metadata": {
  "kernelspec": {
   "display_name": "rlalm",
   "language": "python",
   "name": "rlalm"
  },
  "language_info": {
   "codemirror_mode": {
    "name": "ipython",
    "version": 3
   },
   "file_extension": ".py",
   "mimetype": "text/x-python",
   "name": "python",
   "nbconvert_exporter": "python",
   "pygments_lexer": "ipython3",
   "version": "3.10.9"
  }
 },
 "nbformat": 4,
 "nbformat_minor": 5
}
