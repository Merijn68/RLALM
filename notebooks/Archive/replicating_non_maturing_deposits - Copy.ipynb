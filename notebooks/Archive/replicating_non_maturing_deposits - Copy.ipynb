{
 "cells": [
  {
   "attachments": {},
   "cell_type": "markdown",
   "id": "32d466b6",
   "metadata": {},
   "source": [
    "### Simulating a mortgage portfolio (II)\n",
    "\n",
    "Mortgages typically have a lineair interest rate model - where the monthly prepayment is fixed, or use an annualized schema - in which interest plus prepayment makes a fixed amount per month. To start, we model all mortgages with the lineair interest rate model.\n",
    "\n",
    "See also: https://riskatwork.nl/wp-content/uploads/2019/11/RAW-MortgagePrepayments.pdf\n",
    "\n",
    "Customers normally have the option to re-pay the mortgage earlier then the maturity / repricing data.  In general a bank loan may not be held until maturity because:\n",
    "* Customers repay the loan early (as a percentage of the loan, or fully when moving)\n",
    "* Customers can default on the loan - forcing the bank to write off the loan\n",
    "\n",
    "Growth and new business \n",
    "Customers can choose the fixed interest period they select. Their choice will be influenced by market expectations, and the rates offered by the bank. "
   ]
  },
  {
   "cell_type": "code",
   "execution_count": 1,
   "id": "501e7ee4",
   "metadata": {},
   "outputs": [],
   "source": [
    "%load_ext autoreload\n",
    "%autoreload 2\n",
    "%matplotlib inline\n",
    "\n",
    "import pandas as pd\n",
    "from datetime import timedelta\n",
    "from dateutil.parser import parse\n",
    "\n",
    "from src.models.bank_model import Bankmodel\n",
    "from src.data.zerocurve import Zerocurve\n",
    "from src.data.interest import Interest\n",
    "import seaborn as sns\n"
   ]
  },
  {
   "cell_type": "code",
   "execution_count": 2,
   "id": "0fa965ac",
   "metadata": {},
   "outputs": [],
   "source": [
    "# Create data objects\n",
    "zerocurve = Zerocurve()\n",
    "interest = Interest()"
   ]
  },
  {
   "cell_type": "code",
   "execution_count": 3,
   "id": "bee79462",
   "metadata": {},
   "outputs": [
    {
     "name": "stderr",
     "output_type": "stream",
     "text": [
      "2023-03-20 13:29:22.517 | INFO     | src.data.dataset:read_data:26 - reading zerocurve data from ESW.\n",
      "c:\\Users\\M\\miniconda3\\envs\\rlalm\\lib\\site-packages\\pandas\\core\\internals\\blocks.py:351: RuntimeWarning: invalid value encountered in log1p\n",
      "  result = func(self.values, **kwargs)\n",
      "2023-03-20 13:29:34.491 | INFO     | src.data.dataset:read_data:26 - reading interest data from ESW.\n"
     ]
    },
    {
     "data": {
      "text/plain": [
       "<Response [200]>"
      ]
     },
     "execution_count": 3,
     "metadata": {},
     "output_type": "execute_result"
    }
   ],
   "source": [
    "# Get zero curve historic rates\n",
    "zerocurve.read_data()\n",
    "# Get mortgage historic rates\n",
    "interest.read_data()"
   ]
  },
  {
   "cell_type": "code",
   "execution_count": 4,
   "id": "4612080d",
   "metadata": {},
   "outputs": [
    {
     "name": "stderr",
     "output_type": "stream",
     "text": [
      "2023-03-20 13:29:36.672 | INFO     | src.data.dataset:save_data:55 - saving zerocurve data to file.\n",
      "2023-03-20 13:29:37.022 | INFO     | src.data.dataset:save_data:55 - saving interest data to file.\n"
     ]
    }
   ],
   "source": [
    "zerocurve.save_data()\n",
    "interest.save_data()"
   ]
  },
  {
   "cell_type": "code",
   "execution_count": 5,
   "id": "607dcf99",
   "metadata": {},
   "outputs": [
    {
     "name": "stderr",
     "output_type": "stream",
     "text": [
      "2023-03-20 13:29:38.906 | INFO     | src.data.dataset:load_data:45 - loading zerocurve data from file.\n",
      "c:\\Users\\M\\miniconda3\\envs\\rlalm\\lib\\site-packages\\pandas\\core\\internals\\blocks.py:351: RuntimeWarning: invalid value encountered in log1p\n",
      "  result = func(self.values, **kwargs)\n",
      "2023-03-20 13:29:39.139 | INFO     | src.data.dataset:load_data:45 - loading interest data from file.\n"
     ]
    }
   ],
   "source": [
    "# Load data from csv file - not directly from ECB\n",
    "zerocurve.load_data()\n",
    "interest.load_data()"
   ]
  },
  {
   "cell_type": "code",
   "execution_count": 6,
   "id": "627f7745",
   "metadata": {},
   "outputs": [
    {
     "name": "stderr",
     "output_type": "stream",
     "text": [
      "2023-03-20 13:29:42.843 | INFO     | src.models.bank_model:generate_mortgage_contracts:121 - Added 300 mortgages to our portfolio.\n",
      "2023-03-20 13:29:48.328 | INFO     | src.models.bank_model:generate_mortgage_contracts:125 - Added 54840 cashflows to our model.\n"
     ]
    },
    {
     "data": {
      "text/html": [
       "<div>\n",
       "<style scoped>\n",
       "    .dataframe tbody tr th:only-of-type {\n",
       "        vertical-align: middle;\n",
       "    }\n",
       "\n",
       "    .dataframe tbody tr th {\n",
       "        vertical-align: top;\n",
       "    }\n",
       "\n",
       "    .dataframe thead th {\n",
       "        text-align: right;\n",
       "    }\n",
       "</style>\n",
       "<table border=\"1\" class=\"dataframe\">\n",
       "  <thead>\n",
       "    <tr style=\"text-align: right;\">\n",
       "      <th></th>\n",
       "      <th>category</th>\n",
       "      <th>fixed_period</th>\n",
       "      <th>years</th>\n",
       "      <th>start_date</th>\n",
       "      <th>principal</th>\n",
       "      <th>period</th>\n",
       "      <th>interest</th>\n",
       "      <th>contract</th>\n",
       "    </tr>\n",
       "  </thead>\n",
       "  <tbody>\n",
       "    <tr>\n",
       "      <th>0</th>\n",
       "      <td>2</td>\n",
       "      <td>5&gt;10 years</td>\n",
       "      <td>10</td>\n",
       "      <td>2021-07-19</td>\n",
       "      <td>100000</td>\n",
       "      <td>2021-07-01</td>\n",
       "      <td>1.60</td>\n",
       "      <td>0</td>\n",
       "    </tr>\n",
       "    <tr>\n",
       "      <th>1</th>\n",
       "      <td>1</td>\n",
       "      <td>1&gt;5 years</td>\n",
       "      <td>5</td>\n",
       "      <td>2020-04-20</td>\n",
       "      <td>100000</td>\n",
       "      <td>2020-04-01</td>\n",
       "      <td>1.71</td>\n",
       "      <td>1</td>\n",
       "    </tr>\n",
       "    <tr>\n",
       "      <th>2</th>\n",
       "      <td>3</td>\n",
       "      <td>&gt;10 years</td>\n",
       "      <td>20</td>\n",
       "      <td>2014-08-18</td>\n",
       "      <td>100000</td>\n",
       "      <td>2014-08-01</td>\n",
       "      <td>4.13</td>\n",
       "      <td>2</td>\n",
       "    </tr>\n",
       "    <tr>\n",
       "      <th>3</th>\n",
       "      <td>2</td>\n",
       "      <td>5&gt;10 years</td>\n",
       "      <td>10</td>\n",
       "      <td>2017-02-13</td>\n",
       "      <td>100000</td>\n",
       "      <td>2017-02-01</td>\n",
       "      <td>2.28</td>\n",
       "      <td>3</td>\n",
       "    </tr>\n",
       "    <tr>\n",
       "      <th>4</th>\n",
       "      <td>2</td>\n",
       "      <td>5&gt;10 years</td>\n",
       "      <td>10</td>\n",
       "      <td>2015-12-14</td>\n",
       "      <td>100000</td>\n",
       "      <td>2015-12-01</td>\n",
       "      <td>2.64</td>\n",
       "      <td>4</td>\n",
       "    </tr>\n",
       "  </tbody>\n",
       "</table>\n",
       "</div>"
      ],
      "text/plain": [
       "   category fixed_period  years start_date  principal     period  interest  \\\n",
       "0         2   5>10 years     10 2021-07-19     100000 2021-07-01      1.60   \n",
       "1         1    1>5 years      5 2020-04-20     100000 2020-04-01      1.71   \n",
       "2         3    >10 years     20 2014-08-18     100000 2014-08-01      4.13   \n",
       "3         2   5>10 years     10 2017-02-13     100000 2017-02-01      2.28   \n",
       "4         2   5>10 years     10 2015-12-14     100000 2015-12-01      2.64   \n",
       "\n",
       "   contract  \n",
       "0         0  \n",
       "1         1  \n",
       "2         2  \n",
       "3         3  \n",
       "4         4  "
      ]
     },
     "execution_count": 6,
     "metadata": {},
     "output_type": "execute_result"
    }
   ],
   "source": [
    "# pos_date = parse('28-02-2023')\n",
    "bankmodel = Bankmodel(pos_date = zerocurve.df.index[-1])\n",
    "bankmodel.generate_mortgage_contracts(n = 300, df_i = interest.df)\n",
    "bankmodel.df_mortgages.head()"
   ]
  },
  {
   "cell_type": "code",
   "execution_count": 7,
   "id": "f35ad3c6",
   "metadata": {},
   "outputs": [
    {
     "data": {
      "image/png": "[encoded data removed]",
      "text/plain": [
       "<Figure size 1000x600 with 1 Axes>"
      ]
     },
     "metadata": {},
     "output_type": "display_data"
    }
   ],
   "source": [
    "bankmodel.plot_contracts();"
   ]
  },
  {
   "cell_type": "code",
   "execution_count": 8,
   "id": "cad040c1",
   "metadata": {},
   "outputs": [
    {
     "data": {
      "image/png": "[encoded data removed]",
      "text/plain": [
       "<Figure size 1000x600 with 1 Axes>"
      ]
     },
     "metadata": {},
     "output_type": "display_data"
    }
   ],
   "source": [
    "bankmodel.plot_cashflows()"
   ]
  },
  {
   "attachments": {},
   "cell_type": "markdown",
   "id": "04cd9606",
   "metadata": {},
   "source": [
    "### npv calculation\n",
    "\n",
    "$$NPV = {{Cashflow} \\over (1+i)^T}.$$\n",
    "$$DF_0^T = [1+R_{zc}]^{-T})$$\n",
    "where:\n",
    "- $DF_0^T$  = a discount factor with maturity T\n",
    "- $R_{zc}$ = A zero coupon interest rate\n",
    "- $T$ = Maturity of the zero rate, in years (calculated as days/365)"
   ]
  },
  {
   "cell_type": "code",
   "execution_count": 9,
   "id": "c3d4abf3",
   "metadata": {},
   "outputs": [
    {
     "data": {
      "text/plain": [
       "22763173.52"
      ]
     },
     "execution_count": 9,
     "metadata": {},
     "output_type": "execute_result"
    }
   ],
   "source": [
    "bankmodel.calculate_npv(zerocurve)"
   ]
  },
  {
   "cell_type": "code",
   "execution_count": 10,
   "id": "14332a2f",
   "metadata": {},
   "outputs": [
    {
     "ename": "AttributeError",
     "evalue": "'Bankmodel' object has no attribute 'nmd_pricipal'",
     "output_type": "error",
     "traceback": [
      "\u001b[1;31m---------------------------------------------------------------------------\u001b[0m",
      "\u001b[1;31mAttributeError\u001b[0m                            Traceback (most recent call last)",
      "Cell \u001b[1;32mIn[10], line 1\u001b[0m\n\u001b[1;32m----> 1\u001b[0m bankmodel\u001b[39m.\u001b[39;49mstep()\n\u001b[0;32m      2\u001b[0m zerocurve\u001b[39m.\u001b[39mstep()\n\u001b[0;32m      3\u001b[0m bankmodel\u001b[39m.\u001b[39mcalculate_npv(zerocurve)\n",
      "File \u001b[1;32mc:\\users\\m\\skydrive\\documents\\github\\rlalm\\src\\models\\bank_model.py:349\u001b[0m, in \u001b[0;36mBankmodel.step\u001b[1;34m(self)\u001b[0m\n\u001b[0;32m    347\u001b[0m \u001b[39mdef\u001b[39;00m \u001b[39mstep\u001b[39m(\u001b[39mself\u001b[39m):\n\u001b[0;32m    348\u001b[0m     \u001b[39mself\u001b[39m\u001b[39m.\u001b[39mpos_date \u001b[39m=\u001b[39m \u001b[39mself\u001b[39m\u001b[39m.\u001b[39mpos_date \u001b[39m+\u001b[39m BDay(\u001b[39m1\u001b[39m)\n\u001b[1;32m--> 349\u001b[0m     \u001b[39mself\u001b[39;49m\u001b[39m.\u001b[39;49mstep_nmd()\n",
      "File \u001b[1;32mc:\\users\\m\\skydrive\\documents\\github\\rlalm\\src\\models\\bank_model.py:154\u001b[0m, in \u001b[0;36mBankmodel.step_nmd\u001b[1;34m(self)\u001b[0m\n\u001b[0;32m    151\u001b[0m \u001b[39mdef\u001b[39;00m \u001b[39mstep_nmd\u001b[39m(\u001b[39mself\u001b[39m):\n\u001b[0;32m    152\u001b[0m     \u001b[39mself\u001b[39m\u001b[39m.\u001b[39mdf_cashflows \u001b[39m=\u001b[39m \u001b[39mself\u001b[39m\u001b[39m.\u001b[39mdf_cashflows[\u001b[39mself\u001b[39m\u001b[39m.\u001b[39mdf_cashflows[\u001b[39m\"\u001b[39m\u001b[39mtype\u001b[39m\u001b[39m\"\u001b[39m] \u001b[39m!=\u001b[39m \u001b[39m\"\u001b[39m\u001b[39mdeposits\u001b[39m\u001b[39m\"\u001b[39m]\n\u001b[0;32m    153\u001b[0m     \u001b[39mself\u001b[39m\u001b[39m.\u001b[39mgenerate_nonmaturing_deposits(\n\u001b[1;32m--> 154\u001b[0m         \u001b[39mself\u001b[39;49m\u001b[39m.\u001b[39;49mnmd_pricipal, \u001b[39mself\u001b[39m\u001b[39m.\u001b[39mnmd_core, \u001b[39mself\u001b[39m\u001b[39m.\u001b[39mnmd_maturity\n\u001b[0;32m    155\u001b[0m     )\n",
      "\u001b[1;31mAttributeError\u001b[0m: 'Bankmodel' object has no attribute 'nmd_pricipal'"
     ]
    }
   ],
   "source": [
    "bankmodel.step()\n",
    "zerocurve.step()\n",
    "bankmodel.calculate_npv(zerocurve)\n",
    "\n"
   ]
  },
  {
   "cell_type": "code",
   "execution_count": 11,
   "id": "332b1fc3",
   "metadata": {},
   "outputs": [
    {
     "ename": "AttributeError",
     "evalue": "'Bankmodel' object has no attribute 'nmd_pricipal'",
     "output_type": "error",
     "traceback": [
      "\u001b[1;31m---------------------------------------------------------------------------\u001b[0m",
      "\u001b[1;31mAttributeError\u001b[0m                            Traceback (most recent call last)",
      "Cell \u001b[1;32mIn[11], line 5\u001b[0m\n\u001b[0;32m      3\u001b[0m returns \u001b[39m=\u001b[39m []\n\u001b[0;32m      4\u001b[0m \u001b[39mfor\u001b[39;00m i \u001b[39min\u001b[39;00m \u001b[39mrange\u001b[39m(\u001b[39m100\u001b[39m):\n\u001b[1;32m----> 5\u001b[0m     bankmodel\u001b[39m.\u001b[39;49mstep()\n\u001b[0;32m      6\u001b[0m     zerocurve\u001b[39m.\u001b[39mstep()\n\u001b[0;32m      7\u001b[0m     returns\u001b[39m.\u001b[39mappend(bankmodel\u001b[39m.\u001b[39mcalculate_npv(zerocurve))\n",
      "File \u001b[1;32mc:\\users\\m\\skydrive\\documents\\github\\rlalm\\src\\models\\bank_model.py:349\u001b[0m, in \u001b[0;36mBankmodel.step\u001b[1;34m(self)\u001b[0m\n\u001b[0;32m    347\u001b[0m \u001b[39mdef\u001b[39;00m \u001b[39mstep\u001b[39m(\u001b[39mself\u001b[39m):\n\u001b[0;32m    348\u001b[0m     \u001b[39mself\u001b[39m\u001b[39m.\u001b[39mpos_date \u001b[39m=\u001b[39m \u001b[39mself\u001b[39m\u001b[39m.\u001b[39mpos_date \u001b[39m+\u001b[39m BDay(\u001b[39m1\u001b[39m)\n\u001b[1;32m--> 349\u001b[0m     \u001b[39mself\u001b[39;49m\u001b[39m.\u001b[39;49mstep_nmd()\n",
      "File \u001b[1;32mc:\\users\\m\\skydrive\\documents\\github\\rlalm\\src\\models\\bank_model.py:154\u001b[0m, in \u001b[0;36mBankmodel.step_nmd\u001b[1;34m(self)\u001b[0m\n\u001b[0;32m    151\u001b[0m \u001b[39mdef\u001b[39;00m \u001b[39mstep_nmd\u001b[39m(\u001b[39mself\u001b[39m):\n\u001b[0;32m    152\u001b[0m     \u001b[39mself\u001b[39m\u001b[39m.\u001b[39mdf_cashflows \u001b[39m=\u001b[39m \u001b[39mself\u001b[39m\u001b[39m.\u001b[39mdf_cashflows[\u001b[39mself\u001b[39m\u001b[39m.\u001b[39mdf_cashflows[\u001b[39m\"\u001b[39m\u001b[39mtype\u001b[39m\u001b[39m\"\u001b[39m] \u001b[39m!=\u001b[39m \u001b[39m\"\u001b[39m\u001b[39mdeposits\u001b[39m\u001b[39m\"\u001b[39m]\n\u001b[0;32m    153\u001b[0m     \u001b[39mself\u001b[39m\u001b[39m.\u001b[39mgenerate_nonmaturing_deposits(\n\u001b[1;32m--> 154\u001b[0m         \u001b[39mself\u001b[39;49m\u001b[39m.\u001b[39;49mnmd_pricipal, \u001b[39mself\u001b[39m\u001b[39m.\u001b[39mnmd_core, \u001b[39mself\u001b[39m\u001b[39m.\u001b[39mnmd_maturity\n\u001b[0;32m    155\u001b[0m     )\n",
      "\u001b[1;31mAttributeError\u001b[0m: 'Bankmodel' object has no attribute 'nmd_pricipal'"
     ]
    }
   ],
   "source": [
    "# run an episode of 100 steps\n",
    "\n",
    "returns = []\n",
    "for i in range(100):\n",
    "    bankmodel.step()\n",
    "    zerocurve.step()\n",
    "    returns.append(bankmodel.calculate_npv(zerocurve))\n",
    "\n",
    "sns.lineplot(returns)"
   ]
  },
  {
   "cell_type": "code",
   "execution_count": 12,
   "id": "42889f17",
   "metadata": {},
   "outputs": [
    {
     "name": "stderr",
     "output_type": "stream",
     "text": [
      "c:\\Users\\M\\miniconda3\\envs\\rlalm\\lib\\site-packages\\pandas\\core\\internals\\blocks.py:351: RuntimeWarning: invalid value encountered in log1p\n",
      "  result = func(self.values, **kwargs)\n"
     ]
    }
   ],
   "source": [
    "bankmodel.reset()\n",
    "zerocurve.reset()"
   ]
  },
  {
   "cell_type": "code",
   "execution_count": 13,
   "id": "949ef72d",
   "metadata": {},
   "outputs": [
    {
     "data": {
      "text/plain": [
       "22763173.52"
      ]
     },
     "execution_count": 13,
     "metadata": {},
     "output_type": "execute_result"
    }
   ],
   "source": [
    "bankmodel.calculate_npv(zerocurve)"
   ]
  },
  {
   "cell_type": "markdown",
   "id": "4659552a",
   "metadata": {},
   "source": [
    "Non Maturity Deposits"
   ]
  },
  {
   "cell_type": "markdown",
   "id": "beea847c",
   "metadata": {},
   "source": [
    "#### Core vs Non Core balances\n",
    "For saving deposits a cap on the average maturity of the core deposits is set at 4.5 years. \n",
    "In general 70% - 90% of the deposits can be classied as core capital. (See guidelines BCBS)"
   ]
  },
  {
   "cell_type": "code",
   "execution_count": null,
   "id": "c87779ce",
   "metadata": {},
   "outputs": [],
   "source": [
    "\n",
    "\n"
   ]
  }
 ],
 "metadata": {
  "kernelspec": {
   "display_name": "rlalm",
   "language": "python",
   "name": "rlalm"
  },
  "language_info": {
   "codemirror_mode": {
    "name": "ipython",
    "version": 3
   },
   "file_extension": ".py",
   "mimetype": "text/x-python",
   "name": "python",
   "nbconvert_exporter": "python",
   "pygments_lexer": "ipython3",
   "version": "3.10.9"
  }
 },
 "nbformat": 4,
 "nbformat_minor": 5
}
