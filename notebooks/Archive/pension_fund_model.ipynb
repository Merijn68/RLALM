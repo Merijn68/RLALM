{
 "cells": [
  {
   "cell_type": "markdown",
   "id": "48d843bc",
   "metadata": {},
   "source": [
    "# Play around notebook \n",
    "just checking"
   ]
  },
  {
   "cell_type": "code",
   "execution_count": 14,
   "id": "b5b88ad6",
   "metadata": {},
   "outputs": [],
   "source": [
    "import numpy as np\n",
    "import pandas as pd\n",
    "import matplotlib.pyplot as plt"
   ]
  },
  {
   "cell_type": "code",
   "execution_count": 2,
   "id": "5b42c405",
   "metadata": {},
   "outputs": [],
   "source": [
    "import gymnasium as gym"
   ]
  },
  {
   "cell_type": "code",
   "execution_count": 30,
   "id": "c16826de",
   "metadata": {},
   "outputs": [],
   "source": [
    "from gymnasium import spaces"
   ]
  },
  {
   "cell_type": "code",
   "execution_count": 4,
   "id": "558bc33b",
   "metadata": {},
   "outputs": [],
   "source": [
    "from scipy.stats import chi2"
   ]
  },
  {
   "cell_type": "code",
   "execution_count": 5,
   "id": "141346fb",
   "metadata": {},
   "outputs": [],
   "source": [
    " metadata = {'render.modes': ['human']}"
   ]
  },
  {
   "cell_type": "code",
   "execution_count": 6,
   "id": "f288c7da",
   "metadata": {},
   "outputs": [
    {
     "data": {
      "text/plain": [
       "{'render.modes': ['human']}"
      ]
     },
     "execution_count": 6,
     "metadata": {},
     "output_type": "execute_result"
    }
   ],
   "source": [
    " metadata"
   ]
  },
  {
   "cell_type": "code",
   "execution_count": 7,
   "id": "89612fc8",
   "metadata": {},
   "outputs": [],
   "source": [
    "rate = 0.06"
   ]
  },
  {
   "cell_type": "code",
   "execution_count": 8,
   "id": "b467e70c",
   "metadata": {},
   "outputs": [],
   "source": [
    "T=80"
   ]
  },
  {
   "cell_type": "code",
   "execution_count": 9,
   "id": "1999e3dc",
   "metadata": {},
   "outputs": [],
   "source": [
    "asset = 10**6"
   ]
  },
  {
   "cell_type": "code",
   "execution_count": 12,
   "id": "d0923f84",
   "metadata": {},
   "outputs": [],
   "source": [
    "liability = chi2.pdf(np.linspace(0, 16, 101)[(101 - T):], 6)"
   ]
  },
  {
   "cell_type": "code",
   "execution_count": 17,
   "id": "995e967e",
   "metadata": {},
   "outputs": [
    {
     "data": {
      "text/plain": [
       "[<matplotlib.lines.Line2D at 0x25520680be0>]"
      ]
     },
     "execution_count": 17,
     "metadata": {},
     "output_type": "execute_result"
    },
    {
     "data": {
      "image/png": "[encoded data removed]",
      "text/plain": [
       "<Figure size 640x480 with 1 Axes>"
      ]
     },
     "metadata": {},
     "output_type": "display_data"
    }
   ],
   "source": [
    "plt.plot(liability)"
   ]
  },
  {
   "cell_type": "code",
   "execution_count": 23,
   "id": "d1160aca",
   "metadata": {},
   "outputs": [
    {
     "data": {
      "text/plain": [
       "array([1.24061771e-01, 1.18575599e-01, 1.12864201e-01, 1.07022132e-01,\n",
       "       1.01130396e-01, 9.52574529e-02, 8.94603047e-02, 8.37856192e-02,\n",
       "       7.82708397e-02, 7.29452611e-02, 6.78310496e-02, 6.29441948e-02,\n",
       "       5.82953859e-02, 5.38908101e-02, 4.97328724e-02, 4.58208385e-02,\n",
       "       4.21514050e-02, 3.87192001e-02, 3.55172206e-02, 3.25372106e-02,\n",
       "       2.97699856e-02, 2.72057103e-02, 2.48341314e-02, 2.26447741e-02,\n",
       "       2.06271033e-02, 1.87706562e-02, 1.70651490e-02, 1.55005611e-02,\n",
       "       1.40672006e-02, 1.27557531e-02, 1.15573170e-02, 1.04634267e-02,\n",
       "       9.46606680e-03, 8.55767761e-03, 7.73115458e-03, 6.97984226e-03,\n",
       "       6.29752415e-03, 5.67840931e-03, 5.11711652e-03, 4.60865671e-03,\n",
       "       4.14841413e-03, 3.73212680e-03, 3.35586658e-03, 3.01601927e-03,\n",
       "       2.70926479e-03, 2.43255791e-03, 2.18310939e-03, 1.95836795e-03,\n",
       "       1.75600289e-03, 1.57388755e-03, 1.41008371e-03, 1.26282673e-03,\n",
       "       1.13051172e-03, 1.01168047e-03, 9.05009272e-04, 8.09297619e-04,\n",
       "       7.23457635e-04, 6.46504327e-04, 5.77546543e-04, 5.15778645e-04,\n",
       "       4.60472816e-04, 4.10972006e-04, 3.66683439e-04, 3.27072672e-04,\n",
       "       2.91658149e-04, 2.60006223e-04, 2.31726617e-04, 2.06468278e-04,\n",
       "       1.83915606e-04, 1.63785014e-04, 1.45821817e-04, 1.29797388e-04,\n",
       "       1.15506592e-04, 1.02765457e-04, 9.14090585e-05, 8.12896152e-05,\n",
       "       7.22747580e-05, 6.42459722e-05, 5.70971879e-05, 5.07335096e-05])"
      ]
     },
     "execution_count": 23,
     "metadata": {},
     "output_type": "execute_result"
    }
   ],
   "source": [
    "liab_PV = liability / (1 + rate) ** np.arange(1, T + 1)\n",
    "liab_PV"
   ]
  },
  {
   "cell_type": "code",
   "execution_count": 32,
   "id": "340db654",
   "metadata": {},
   "outputs": [],
   "source": [
    "historical_return = pd.DataFrame(np.array([[1.277103375, 1.138939668, 1.196332479, 1.056897333],\n",
    "                                                        [1.329337917, 1.220865211, 1.152575668, 1.031417750],\n",
    "                                                        [1.436512041, 1.140436021, 1.119179339, 1.044573304],\n",
    "                                                        [0.587765708, 1.110294883, 1.123874437, 1.059023134],\n",
    "                                                        [1.826577896, 1.189505009, 1.099795940, 1.043120283],\n",
    "                                                        [1.010439144, 1.170441620, 1.097598994, 1.059090683],\n",
    "                                                        [0.818913771, 1.151082491, 1.116280628, 1.065031090],\n",
    "                                                        [1.073968355, 1.266771188, 1.085152406, 1.058385690],\n",
    "                                                        [0.845042000, 0.899819586, 1.081912809, 1.059108181],\n",
    "                                                        [0.970877745, 1.145438240, 1.108091597, 1.064076166],\n",
    "                                                        [0.866858640, 1.088815325, 1.132591303, 1.106734980],\n",
    "                                                        [1.389351542, 1.248106035, 1.138430157, 1.062880551],\n",
    "                                                        [1.268567254, 1.127940692, 1.101916922, 1.029473499],\n",
    "                                                        [1.150323290, 1.130338666, 1.064204290, 1.037454821]]),\n",
    "                                                        columns = ['Bovespa', 'IMA-B', 'IMA-S', 'IPCA'],\n",
    "                                                        index = np.arange(2005, 2019))"
   ]
  },
  {
   "cell_type": "code",
   "execution_count": 24,
   "id": "ce221fe6",
   "metadata": {},
   "outputs": [],
   "source": [
    "liability = liability * (asset / np.sum(liab_PV))"
   ]
  },
  {
   "cell_type": "code",
   "execution_count": 27,
   "id": "e307a99b",
   "metadata": {},
   "outputs": [
    {
     "data": {
      "text/plain": [
       "array([73459.19619178, 74423.37923305, 75088.96830879, 75474.35151152,\n",
       "       75598.53256642, 75480.79845478, 75140.44442635, 74596.5487783 ,\n",
       "       73867.79066968, 72972.30503542, 71927.56937205, 70750.31779837,\n",
       "       69456.4783548 , 68061.13000433, 66578.47624063, 65021.83260153,\n",
       "       63403.62573467, 61735.40197004, 60027.84362661, 58290.79152144,\n",
       "       56533.27236118, 54763.52988368, 52989.05878122, 51216.6405816 ,\n",
       "       49452.38078976, 47701.74670331, 45969.60541202, 44260.26157545,\n",
       "       42577.49464605, 40924.5952686 , 39304.40064131, 37719.3286715 ,\n",
       "       36171.41079872, 34662.32339329, 33193.41766717, 31765.74805917,\n",
       "       30380.0990774 , 29037.01059913, 27736.80164279, 26479.59263849,\n",
       "       25265.32623304, 24093.78667289, 22964.61781434, 21877.33981474,\n",
       "       20831.36456138, 19826.00989726, 18860.51270363, 17934.04090008,\n",
       "       17045.7044225 , 16194.56523874, 15379.64646045, 14599.94060851,\n",
       "       13854.41708732, 13142.02892158, 12461.71880704, 11812.42452447,\n",
       "       11193.08376384, 10602.63840357, 10040.03828695,  9504.24453623,\n",
       "        8994.23244178,  8508.99396223,  8047.53986875,  7608.90156495,\n",
       "        7192.13261145,  6796.30998256,  6420.53508032,  6063.93452965,\n",
       "        5725.66077634,  5404.89250823,  5100.83491828,  4812.71982678,\n",
       "        4539.80567862,  4281.3774302 ,  4036.74633942,  3805.24967093,\n",
       "        3586.25032799,  3379.136421  ,  3183.32078214,  2998.24043443])"
      ]
     },
     "execution_count": 27,
     "metadata": {},
     "output_type": "execute_result"
    }
   ],
   "source": [
    "liability"
   ]
  },
  {
   "cell_type": "code",
   "execution_count": 33,
   "id": "bc3d6475",
   "metadata": {},
   "outputs": [],
   "source": [
    "action_space = spaces.Box(low = 0, high = 1, shape = (historical_return.shape[1] - 1,), dtype = np.float32)"
   ]
  },
  {
   "cell_type": "code",
   "execution_count": 35,
   "id": "fab8f654",
   "metadata": {},
   "outputs": [],
   "source": [
    "observation_space = spaces.Box(low = -np.inf, high = np.inf, shape = liability.shape, dtype = np.float32)"
   ]
  },
  {
   "cell_type": "markdown",
   "id": "4283c055",
   "metadata": {},
   "source": [
    "Sampling from the distribution of historical returns"
   ]
  },
  {
   "cell_type": "code",
   "execution_count": 43,
   "id": "e0186e60",
   "metadata": {},
   "outputs": [],
   "source": [
    "sim_ret = np.random.multivariate_normal(mean = historical_return.mean(axis = 0), cov = pd.DataFrame.cov(historical_return))"
   ]
  },
  {
   "cell_type": "code",
   "execution_count": 50,
   "id": "7e01da95",
   "metadata": {},
   "outputs": [],
   "source": [
    "present_asset = asset\n",
    "present_liability = liability\n",
    "action = 1"
   ]
  },
  {
   "cell_type": "code",
   "execution_count": 52,
   "id": "f62118f4",
   "metadata": {},
   "outputs": [],
   "source": [
    "present_asset = present_asset * np.sum(sim_ret[:-1] * action) - present_liability[0]"
   ]
  },
  {
   "cell_type": "code",
   "execution_count": 59,
   "id": "ef032dab",
   "metadata": {},
   "outputs": [
    {
     "data": {
      "text/plain": [
       "3725866.435854074"
      ]
     },
     "execution_count": 59,
     "metadata": {},
     "output_type": "execute_result"
    }
   ],
   "source": [
    "present_asset"
   ]
  },
  {
   "cell_type": "code",
   "execution_count": 61,
   "id": "059bd114",
   "metadata": {},
   "outputs": [],
   "source": [
    "present_liability = np.append(present_liability[1:], 0) * sim_ret[-1]"
   ]
  },
  {
   "cell_type": "code",
   "execution_count": 62,
   "id": "12468586",
   "metadata": {},
   "outputs": [
    {
     "data": {
      "text/plain": [
       "array([76713.01676217, 77399.0827061 , 77796.3222348 , 77924.32372364,\n",
       "       77802.96751846, 77452.14248798, 76891.51387375, 76140.33549973,\n",
       "       75217.30022264, 74140.42323477, 72926.95348057, 71593.3090271 ,\n",
       "       70155.03274213, 68626.76509022, 67022.23126215, 65354.24021174,\n",
       "       63634.69349217, 61874.6020643 , 60084.1094982 , 58272.52020743,\n",
       "       56448.33154871, 54619.26878873, 52792.32208921, 50973.78479113,\n",
       "       49169.29239368, 47383.8617228 , 45621.92987103, 43887.39256579,\n",
       "       42183.64168864, 40513.60172429, 38879.76496704, 37284.22535376,\n",
       "       35728.71082833, 34214.6141728 , 32743.02226582, 31314.74375092,\n",
       "       29930.33511471, 28590.12519022, 27294.23811261, 26042.61476421,\n",
       "       24835.0327538 , 23671.12498093, 22550.39684054, 21472.24212665,\n",
       "       20435.95769567, 19440.75695146, 18485.78221466, 17570.11603829,\n",
       "       16692.79153161, 15852.80175228, 15049.10822606, 14280.64865103,\n",
       "       13546.34384167, 12845.10396574, 12175.83412478, 11537.43932679,\n",
       "       10928.82889702, 10348.92037068,  9796.6429089 ,  9270.94027683,\n",
       "        8770.77342067,  8295.12267795,  7842.98965337,  7413.39879032,\n",
       "        7005.39866619,  6618.06303764,  6250.49166017,  5901.81090453,\n",
       "        5571.17419088,  5257.76225991,  4960.78329885,  4679.47293861,\n",
       "        4413.09413726,  4160.93696351,  3922.31829297,  3696.58142857,\n",
       "        3483.09565593,  3281.25574297,  3090.48139272,     0.        ])"
      ]
     },
     "execution_count": 62,
     "metadata": {},
     "output_type": "execute_result"
    }
   ],
   "source": [
    "present_liability"
   ]
  },
  {
   "cell_type": "code",
   "execution_count": 58,
   "id": "92094754",
   "metadata": {},
   "outputs": [
    {
     "data": {
      "text/plain": [
       "array([1.41683178, 1.23822684, 1.14426701])"
      ]
     },
     "execution_count": 58,
     "metadata": {},
     "output_type": "execute_result"
    }
   ],
   "source": [
    "sim_ret[:-1]"
   ]
  },
  {
   "cell_type": "code",
   "execution_count": null,
   "id": "b3533121",
   "metadata": {},
   "outputs": [],
   "source": []
  }
 ],
 "metadata": {
  "kernelspec": {
   "display_name": "rlalm",
   "language": "python",
   "name": "rlalm"
  },
  "language_info": {
   "codemirror_mode": {
    "name": "ipython",
    "version": 3
   },
   "file_extension": ".py",
   "mimetype": "text/x-python",
   "name": "python",
   "nbconvert_exporter": "python",
   "pygments_lexer": "ipython3",
   "version": "3.10.9"
  }
 },
 "nbformat": 4,
 "nbformat_minor": 5
}
