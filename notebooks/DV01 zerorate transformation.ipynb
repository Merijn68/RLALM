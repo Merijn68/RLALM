{
 "cells": [
  {
   "attachments": {},
   "cell_type": "markdown",
   "id": "32d466b6",
   "metadata": {},
   "source": [
    "#### Calculating Risk parameters on the bank balance\n",
    "See for a practical guide: https://www.closemountain.com/papers/risktransform1.pdf"
   ]
  },
  {
   "cell_type": "code",
   "execution_count": 2,
   "id": "54d3f28c",
   "metadata": {},
   "outputs": [],
   "source": [
    "%load_ext autoreload\n",
    "%autoreload 2\n",
    "%matplotlib inline\n",
    "\n",
    "from src.data.zerocurve import Zerocurve\n",
    "from src.data.interest import Interest\n",
    "from src.models.bank_model import Bankmodel\n"
   ]
  },
  {
   "cell_type": "code",
   "execution_count": 3,
   "id": "e55a07c7",
   "metadata": {},
   "outputs": [
    {
     "name": "stderr",
     "output_type": "stream",
     "text": [
      "2023-03-19 10:57:01.783 | INFO     | src.data.dataset:load_data:45 - loading zerocurve data from file.\n",
      "c:\\Users\\M\\miniconda3\\envs\\rlalm\\lib\\site-packages\\pandas\\core\\internals\\blocks.py:351: RuntimeWarning: invalid value encountered in log1p\n",
      "  result = func(self.values, **kwargs)\n",
      "2023-03-19 10:57:02.030 | INFO     | src.data.dataset:load_data:45 - loading interest data from file.\n"
     ]
    }
   ],
   "source": [
    "zerocurve = Zerocurve()\n",
    "zerocurve.load_data()\n",
    "interest = Interest()\n",
    "interest.load_data()"
   ]
  },
  {
   "cell_type": "code",
   "execution_count": 4,
   "id": "2ab1f09e",
   "metadata": {},
   "outputs": [
    {
     "name": "stderr",
     "output_type": "stream",
     "text": [
      "2023-03-19 10:57:04.413 | INFO     | src.models.bank_model:generate_mortgage_contracts:111 - Added 250 mortgages to our portfolio.\n",
      "2023-03-19 10:57:08.853 | INFO     | src.models.bank_model:generate_mortgage_contracts:115 - Added 45442 cashflows to our model.\n"
     ]
    },
    {
     "data": {
      "text/html": [
       "<div>\n",
       "<style scoped>\n",
       "    .dataframe tbody tr th:only-of-type {\n",
       "        vertical-align: middle;\n",
       "    }\n",
       "\n",
       "    .dataframe tbody tr th {\n",
       "        vertical-align: top;\n",
       "    }\n",
       "\n",
       "    .dataframe thead th {\n",
       "        text-align: right;\n",
       "    }\n",
       "</style>\n",
       "<table border=\"1\" class=\"dataframe\">\n",
       "  <thead>\n",
       "    <tr style=\"text-align: right;\">\n",
       "      <th></th>\n",
       "      <th>category</th>\n",
       "      <th>fixed_period</th>\n",
       "      <th>years</th>\n",
       "      <th>start_date</th>\n",
       "      <th>principal</th>\n",
       "      <th>period</th>\n",
       "      <th>interest</th>\n",
       "      <th>contract</th>\n",
       "    </tr>\n",
       "  </thead>\n",
       "  <tbody>\n",
       "    <tr>\n",
       "      <th>0</th>\n",
       "      <td>3</td>\n",
       "      <td>&gt;10 years</td>\n",
       "      <td>20</td>\n",
       "      <td>2017-06-16</td>\n",
       "      <td>200000</td>\n",
       "      <td>2017-06-01</td>\n",
       "      <td>2.95</td>\n",
       "      <td>0</td>\n",
       "    </tr>\n",
       "    <tr>\n",
       "      <th>1</th>\n",
       "      <td>2</td>\n",
       "      <td>5&gt;10 years</td>\n",
       "      <td>10</td>\n",
       "      <td>2018-04-16</td>\n",
       "      <td>200000</td>\n",
       "      <td>2018-04-01</td>\n",
       "      <td>2.33</td>\n",
       "      <td>1</td>\n",
       "    </tr>\n",
       "    <tr>\n",
       "      <th>2</th>\n",
       "      <td>3</td>\n",
       "      <td>&gt;10 years</td>\n",
       "      <td>20</td>\n",
       "      <td>2010-02-12</td>\n",
       "      <td>200000</td>\n",
       "      <td>2010-02-01</td>\n",
       "      <td>3.15</td>\n",
       "      <td>2</td>\n",
       "    </tr>\n",
       "    <tr>\n",
       "      <th>3</th>\n",
       "      <td>3</td>\n",
       "      <td>&gt;10 years</td>\n",
       "      <td>20</td>\n",
       "      <td>2019-03-07</td>\n",
       "      <td>200000</td>\n",
       "      <td>2019-03-01</td>\n",
       "      <td>2.85</td>\n",
       "      <td>3</td>\n",
       "    </tr>\n",
       "    <tr>\n",
       "      <th>4</th>\n",
       "      <td>2</td>\n",
       "      <td>5&gt;10 years</td>\n",
       "      <td>10</td>\n",
       "      <td>2019-03-29</td>\n",
       "      <td>200000</td>\n",
       "      <td>2019-03-01</td>\n",
       "      <td>2.40</td>\n",
       "      <td>4</td>\n",
       "    </tr>\n",
       "    <tr>\n",
       "      <th>...</th>\n",
       "      <td>...</td>\n",
       "      <td>...</td>\n",
       "      <td>...</td>\n",
       "      <td>...</td>\n",
       "      <td>...</td>\n",
       "      <td>...</td>\n",
       "      <td>...</td>\n",
       "      <td>...</td>\n",
       "    </tr>\n",
       "    <tr>\n",
       "      <th>245</th>\n",
       "      <td>1</td>\n",
       "      <td>1&gt;5 years</td>\n",
       "      <td>5</td>\n",
       "      <td>2021-04-29</td>\n",
       "      <td>200000</td>\n",
       "      <td>2021-04-01</td>\n",
       "      <td>1.55</td>\n",
       "      <td>245</td>\n",
       "    </tr>\n",
       "    <tr>\n",
       "      <th>246</th>\n",
       "      <td>2</td>\n",
       "      <td>5&gt;10 years</td>\n",
       "      <td>10</td>\n",
       "      <td>2021-06-24</td>\n",
       "      <td>200000</td>\n",
       "      <td>2021-06-01</td>\n",
       "      <td>1.60</td>\n",
       "      <td>246</td>\n",
       "    </tr>\n",
       "    <tr>\n",
       "      <th>247</th>\n",
       "      <td>3</td>\n",
       "      <td>&gt;10 years</td>\n",
       "      <td>20</td>\n",
       "      <td>2014-11-28</td>\n",
       "      <td>200000</td>\n",
       "      <td>2014-11-01</td>\n",
       "      <td>3.84</td>\n",
       "      <td>247</td>\n",
       "    </tr>\n",
       "    <tr>\n",
       "      <th>248</th>\n",
       "      <td>2</td>\n",
       "      <td>5&gt;10 years</td>\n",
       "      <td>10</td>\n",
       "      <td>2020-01-07</td>\n",
       "      <td>200000</td>\n",
       "      <td>2020-01-01</td>\n",
       "      <td>1.96</td>\n",
       "      <td>248</td>\n",
       "    </tr>\n",
       "    <tr>\n",
       "      <th>249</th>\n",
       "      <td>2</td>\n",
       "      <td>5&gt;10 years</td>\n",
       "      <td>10</td>\n",
       "      <td>2014-06-16</td>\n",
       "      <td>200000</td>\n",
       "      <td>2014-06-01</td>\n",
       "      <td>3.75</td>\n",
       "      <td>249</td>\n",
       "    </tr>\n",
       "  </tbody>\n",
       "</table>\n",
       "<p>250 rows × 8 columns</p>\n",
       "</div>"
      ],
      "text/plain": [
       "     category fixed_period  years start_date  principal     period  interest  \\\n",
       "0           3    >10 years     20 2017-06-16     200000 2017-06-01      2.95   \n",
       "1           2   5>10 years     10 2018-04-16     200000 2018-04-01      2.33   \n",
       "2           3    >10 years     20 2010-02-12     200000 2010-02-01      3.15   \n",
       "3           3    >10 years     20 2019-03-07     200000 2019-03-01      2.85   \n",
       "4           2   5>10 years     10 2019-03-29     200000 2019-03-01      2.40   \n",
       "..        ...          ...    ...        ...        ...        ...       ...   \n",
       "245         1    1>5 years      5 2021-04-29     200000 2021-04-01      1.55   \n",
       "246         2   5>10 years     10 2021-06-24     200000 2021-06-01      1.60   \n",
       "247         3    >10 years     20 2014-11-28     200000 2014-11-01      3.84   \n",
       "248         2   5>10 years     10 2020-01-07     200000 2020-01-01      1.96   \n",
       "249         2   5>10 years     10 2014-06-16     200000 2014-06-01      3.75   \n",
       "\n",
       "     contract  \n",
       "0           0  \n",
       "1           1  \n",
       "2           2  \n",
       "3           3  \n",
       "4           4  \n",
       "..        ...  \n",
       "245       245  \n",
       "246       246  \n",
       "247       247  \n",
       "248       248  \n",
       "249       249  \n",
       "\n",
       "[250 rows x 8 columns]"
      ]
     },
     "execution_count": 4,
     "metadata": {},
     "output_type": "execute_result"
    }
   ],
   "source": [
    "pos_date = zerocurve.df.index[-1]\n",
    "bankmodel = Bankmodel(pos_date)\n",
    "bankmodel.generate_mortgage_contracts(n = 250, df_i = interest.df)"
   ]
  },
  {
   "cell_type": "code",
   "execution_count": 5,
   "id": "8b503856",
   "metadata": {},
   "outputs": [
    {
     "name": "stdout",
     "output_type": "stream",
     "text": [
      "Net present value 37,970,700\n"
     ]
    }
   ],
   "source": [
    "result = bankmodel.calculate_npv(zerocurve)\n",
    "print(f'Net present value {result:,.0f}')"
   ]
  },
  {
   "attachments": {},
   "cell_type": "markdown",
   "id": "97afeda1",
   "metadata": {},
   "source": [
    "##### The standardized framework. \n",
    "Supervisory Outlier Test (SOT)\n",
    "\n",
    "Interest Rate Risk needs to be measured on time buckets\n",
    "https://www.bis.org/bcbs/publ/d319.pdf\n",
    "https://www.eba.europa.eu/sites/default/documents/files/document_library/Publications/Draft%20Technical%20Standards/2022/EBA-RTS-2022-10%20RTS%20on%20SOTs/1041756/Final%20draft%20RTS%20on%20SOTs.pdf\n",
    "\n",
    "1. parallel shock up; \n",
    "2. parallel shock down;\n",
    "3. steepener shock (short rates down and long rates up);\n",
    "4. flattener shock (short rates up and long rates down); \n",
    "5. short rates shock up; and\n",
    "6. short rates shock down"
   ]
  },
  {
   "cell_type": "code",
   "execution_count": 7,
   "id": "59805dfa",
   "metadata": {},
   "outputs": [
    {
     "name": "stdout",
     "output_type": "stream",
     "text": [
      "Parallell shift 200bp up -3,591,894\n",
      "Parallell shift 200bp down 4,392,786\n",
      "Short shift 250bp up -194,731\n",
      "Long shift 100bp up -1,804,303\n"
     ]
    }
   ],
   "source": [
    "result = bankmodel.calculate_risk(zerocurve,200,'parallel')\n",
    "print(f'Parallell shift 200bp up {result:,.0f}')\n",
    "\n",
    "result = bankmodel.calculate_risk(zerocurve,-200,'parallel')\n",
    "print(f'Parallell shift 200bp down {result:,.0f}')\n",
    "\n",
    "result = bankmodel.calculate_risk(zerocurve,250,'short')\n",
    "print(f'Short shift 250bp up {result:,.0f}')\n",
    "\n",
    "result = bankmodel.calculate_risk(zerocurve,100,'long')\n",
    "print(f'Long shift 100bp up {result:,.0f}')\n"
   ]
  }
 ],
 "metadata": {
  "kernelspec": {
   "display_name": "rlalm",
   "language": "python",
   "name": "rlalm"
  },
  "language_info": {
   "codemirror_mode": {
    "name": "ipython",
    "version": 3
   },
   "file_extension": ".py",
   "mimetype": "text/x-python",
   "name": "python",
   "nbconvert_exporter": "python",
   "pygments_lexer": "ipython3",
   "version": "3.10.9"
  }
 },
 "nbformat": 4,
 "nbformat_minor": 5
}
