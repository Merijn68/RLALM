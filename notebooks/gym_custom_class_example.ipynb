{
 "cells": [
  {
   "cell_type": "code",
   "execution_count": 1,
   "id": "5344062f",
   "metadata": {},
   "outputs": [],
   "source": [
    "import random\n",
    "import numpy as np\n",
    "import gymnasium as gym\n",
    "\n",
    "from gymnasium import Env\n",
    "from gymnasium.spaces import Discrete, Box\n",
    "\n",
    "from rl.agents import DQNAgent\n",
    "from rl.policy import BoltzmannQPolicy\n",
    "from rl.memory import SequentialMemory\n",
    "\n",
    "import numpy as np\n",
    "from tensorflow.keras.models import Sequential\n",
    "from tensorflow.keras.layers import Dense, Flatten\n",
    "from tensorflow.keras.optimizers import Adam"
   ]
  },
  {
   "cell_type": "code",
   "execution_count": 2,
   "id": "efaaa500",
   "metadata": {},
   "outputs": [],
   "source": [
    "env = gym.make(\"CartPole-v1\")\n",
    "status = env.action_space\n",
    "actions = env.observation_space.shape[0]"
   ]
  },
  {
   "cell_type": "code",
   "execution_count": 20,
   "id": "5ad14279",
   "metadata": {},
   "outputs": [],
   "source": [
    "class ShowerEnv(Env):\n",
    "    def __init__(self):\n",
    "        # Actions we can take, down, stay, up\n",
    "        self.action_space = Discrete(3)\n",
    "        # Temperature array\n",
    "        self.observation_space = Box(low=np.array([0]), high=np.array([100]))\n",
    "        # Set start temp\n",
    "        self.state = 38 + random.randint(-3,3)\n",
    "        # Set shower length\n",
    "        self.shower_length = 60\n",
    "        \n",
    "    def step(self, action):\n",
    "        # Apply action\n",
    "        # 0 -1 = -1 temperature\n",
    "        # 1 -1 = 0 \n",
    "        # 2 -1 = 1 temperature \n",
    "        self.state += action -1 \n",
    "        # Reduce shower length by 1 second\n",
    "        self.shower_length -= 1 \n",
    "        \n",
    "        # Calculate reward\n",
    "        if self.state >=37 and self.state <=39: \n",
    "            reward =1 \n",
    "        else: \n",
    "            reward = -1 \n",
    "        \n",
    "        # Check if shower is done\n",
    "        if self.shower_length <= 0: \n",
    "            done = True\n",
    "        else:\n",
    "            done = False\n",
    "        \n",
    "        # Apply temperature noise\n",
    "        #self.state += random.randint(-1,1)\n",
    "        # Set placeholder for info\n",
    "        info = {}\n",
    "        \n",
    "        # Return step information\n",
    "        return self.state, reward, done, info\n",
    "\n",
    "    def render(self, mode):\n",
    "        # Implement viz\n",
    "        pass\n",
    "    \n",
    "    def reset(self):\n",
    "        # Reset shower temperature\n",
    "        self.state = 38 + random.randint(-3,3)\n",
    "        # Reset shower time\n",
    "        self.shower_length = 60 \n",
    "        return self.state\n",
    "    "
   ]
  },
  {
   "cell_type": "code",
   "execution_count": 21,
   "id": "19488f46",
   "metadata": {},
   "outputs": [],
   "source": [
    "env = ShowerEnv()"
   ]
  },
  {
   "cell_type": "code",
   "execution_count": 22,
   "id": "6e91cc5a",
   "metadata": {},
   "outputs": [
    {
     "data": {
      "text/plain": [
       "array([81.15043], dtype=float32)"
      ]
     },
     "execution_count": 22,
     "metadata": {},
     "output_type": "execute_result"
    }
   ],
   "source": [
    "env.observation_space.sample()"
   ]
  },
  {
   "cell_type": "code",
   "execution_count": 23,
   "id": "8bed8dd2",
   "metadata": {},
   "outputs": [
    {
     "name": "stdout",
     "output_type": "stream",
     "text": [
      "Episode:1 Score:0\n",
      "Episode:2 Score:-44\n",
      "Episode:3 Score:-42\n",
      "Episode:4 Score:-26\n",
      "Episode:5 Score:-22\n",
      "Episode:6 Score:6\n",
      "Episode:7 Score:-8\n",
      "Episode:8 Score:-58\n",
      "Episode:9 Score:-40\n",
      "Episode:10 Score:8\n"
     ]
    }
   ],
   "source": [
    "episodes = 10\n",
    "for episode in range(1, episodes+1):\n",
    "    state = env.reset()\n",
    "    done = False\n",
    "    score = 0 \n",
    "    \n",
    "    while not done:\n",
    "        #env.render()\n",
    "        action = env.action_space.sample()\n",
    "        n_state, reward, done, info = env.step(action)\n",
    "        score+=reward\n",
    "    print('Episode:{} Score:{}'.format(episode, score))"
   ]
  },
  {
   "cell_type": "code",
   "execution_count": 24,
   "id": "3c2e91d3",
   "metadata": {},
   "outputs": [],
   "source": [
    "states = env.observation_space.shape\n",
    "actions = env.action_space.n"
   ]
  },
  {
   "cell_type": "code",
   "execution_count": 25,
   "id": "09615998",
   "metadata": {},
   "outputs": [
    {
     "data": {
      "text/plain": [
       "3"
      ]
     },
     "execution_count": 25,
     "metadata": {},
     "output_type": "execute_result"
    }
   ],
   "source": [
    "actions"
   ]
  },
  {
   "cell_type": "code",
   "execution_count": 26,
   "id": "3ab5cb54",
   "metadata": {},
   "outputs": [],
   "source": [
    "def build_model(states, actions):\n",
    "    model = Sequential()    \n",
    "    model.add(Dense(24, activation='relu', input_shape=states))\n",
    "    model.add(Dense(24, activation='relu'))\n",
    "    model.add(Dense(actions, activation='linear'))\n",
    "    return model"
   ]
  },
  {
   "cell_type": "code",
   "execution_count": 27,
   "id": "1c2fe191",
   "metadata": {},
   "outputs": [],
   "source": [
    "model = build_model(states, actions)"
   ]
  },
  {
   "cell_type": "code",
   "execution_count": 28,
   "id": "45e0cd64",
   "metadata": {},
   "outputs": [
    {
     "name": "stdout",
     "output_type": "stream",
     "text": [
      "Model: \"sequential_1\"\n",
      "_________________________________________________________________\n",
      " Layer (type)                Output Shape              Param #   \n",
      "=================================================================\n",
      " dense_3 (Dense)             (None, 24)                48        \n",
      "                                                                 \n",
      " dense_4 (Dense)             (None, 24)                600       \n",
      "                                                                 \n",
      " dense_5 (Dense)             (None, 3)                 75        \n",
      "                                                                 \n",
      "=================================================================\n",
      "Total params: 723\n",
      "Trainable params: 723\n",
      "Non-trainable params: 0\n",
      "_________________________________________________________________\n"
     ]
    }
   ],
   "source": [
    "model.summary()"
   ]
  },
  {
   "cell_type": "code",
   "execution_count": 29,
   "id": "b01d842a",
   "metadata": {},
   "outputs": [
    {
     "data": {
      "text/plain": [
       "Box(0.0, 100.0, (1,), float32)"
      ]
     },
     "execution_count": 29,
     "metadata": {},
     "output_type": "execute_result"
    }
   ],
   "source": [
    "env.observation_space"
   ]
  },
  {
   "cell_type": "markdown",
   "id": "cd47e9f8",
   "metadata": {},
   "source": [
    "   # Build agent with Keras-RL"
   ]
  },
  {
   "cell_type": "code",
   "execution_count": 30,
   "id": "5a6de014",
   "metadata": {},
   "outputs": [],
   "source": [
    "def build_agent(model, actions):\n",
    "    policy = BoltzmannQPolicy()\n",
    "    memory = SequentialMemory(limit=50000, window_length=1)\n",
    "    dqn = DQNAgent(model=model, memory=memory, policy=policy, \n",
    "                  nb_actions=actions, nb_steps_warmup=10, target_model_update=1e-2)\n",
    "    return dqn"
   ]
  },
  {
   "cell_type": "code",
   "execution_count": 31,
   "id": "e4053db8",
   "metadata": {},
   "outputs": [],
   "source": [
    "dqn = build_agent(model, actions)\n"
   ]
  },
  {
   "cell_type": "code",
   "execution_count": 32,
   "id": "c8b0c867",
   "metadata": {},
   "outputs": [],
   "source": [
    "dqn.compile(Adam(learning_rate=1e-3), metrics=['mae'])"
   ]
  },
  {
   "cell_type": "code",
   "execution_count": 33,
   "id": "4b3f50fb",
   "metadata": {},
   "outputs": [
    {
     "name": "stdout",
     "output_type": "stream",
     "text": [
      "Training for 50000 steps ...\n",
      "Interval 1 (0 steps performed)\n",
      "10000/10000 [==============================] - 194s 19ms/step - reward: -0.5336\n",
      "166 episodes - episode_reward: -32.000 [-60.000, 26.000] - loss: 0.913 - mae: 5.674 - mean_q: -7.402\n",
      "\n",
      "Interval 2 (10000 steps performed)\n",
      "10000/10000 [==============================] - 198s 20ms/step - reward: -0.4430\n",
      "167 episodes - episode_reward: -26.623 [-60.000, 34.000] - loss: 1.930 - mae: 9.667 - mean_q: -13.791\n",
      "\n",
      "Interval 3 (20000 steps performed)\n",
      "10000/10000 [==============================] - 206s 21ms/step - reward: -0.3650\n",
      "167 episodes - episode_reward: -21.904 [-60.000, 42.000] - loss: 1.695 - mae: 8.786 - mean_q: -12.442\n",
      "\n",
      "Interval 4 (30000 steps performed)\n",
      "10000/10000 [==============================] - 184s 18ms/step - reward: 0.1146\n",
      "166 episodes - episode_reward: 6.723 [-60.000, 54.000] - loss: 0.975 - mae: 5.450 - mean_q: -7.037\n",
      "\n",
      "Interval 5 (40000 steps performed)\n",
      "10000/10000 [==============================] - 179s 18ms/step - reward: 0.7420\n",
      "done, took 959.947 seconds\n"
     ]
    },
    {
     "data": {
      "text/plain": [
       "<keras.callbacks.History at 0x236eb6e38b0>"
      ]
     },
     "execution_count": 33,
     "metadata": {},
     "output_type": "execute_result"
    }
   ],
   "source": [
    "dqn.fit(env, nb_steps=50000, visualize=False, verbose=1)"
   ]
  },
  {
   "cell_type": "code",
   "execution_count": 34,
   "id": "471c6105",
   "metadata": {},
   "outputs": [
    {
     "name": "stdout",
     "output_type": "stream",
     "text": [
      "Testing for 100 episodes ...\n",
      "Episode 1: reward: 60.000, steps: 60\n",
      "Episode 2: reward: 60.000, steps: 60\n",
      "Episode 3: reward: 60.000, steps: 60\n",
      "Episode 4: reward: 60.000, steps: 60\n",
      "Episode 5: reward: 58.000, steps: 60\n",
      "Episode 6: reward: 58.000, steps: 60\n",
      "Episode 7: reward: 60.000, steps: 60\n",
      "Episode 8: reward: 58.000, steps: 60\n",
      "Episode 9: reward: 60.000, steps: 60\n",
      "Episode 10: reward: 58.000, steps: 60\n",
      "Episode 11: reward: 60.000, steps: 60\n",
      "Episode 12: reward: 60.000, steps: 60\n",
      "Episode 13: reward: 60.000, steps: 60\n",
      "Episode 14: reward: 58.000, steps: 60\n",
      "Episode 15: reward: 60.000, steps: 60\n",
      "Episode 16: reward: 60.000, steps: 60\n",
      "Episode 17: reward: 60.000, steps: 60\n",
      "Episode 18: reward: 60.000, steps: 60\n",
      "Episode 19: reward: 60.000, steps: 60\n",
      "Episode 20: reward: 58.000, steps: 60\n",
      "Episode 21: reward: 60.000, steps: 60\n",
      "Episode 22: reward: 60.000, steps: 60\n",
      "Episode 23: reward: 58.000, steps: 60\n",
      "Episode 24: reward: 58.000, steps: 60\n",
      "Episode 25: reward: 60.000, steps: 60\n",
      "Episode 26: reward: 60.000, steps: 60\n",
      "Episode 27: reward: 60.000, steps: 60\n",
      "Episode 28: reward: 58.000, steps: 60\n",
      "Episode 29: reward: 60.000, steps: 60\n",
      "Episode 30: reward: 58.000, steps: 60\n",
      "Episode 31: reward: 60.000, steps: 60\n",
      "Episode 32: reward: 60.000, steps: 60\n",
      "Episode 33: reward: 60.000, steps: 60\n",
      "Episode 34: reward: 60.000, steps: 60\n",
      "Episode 35: reward: 60.000, steps: 60\n",
      "Episode 36: reward: 60.000, steps: 60\n",
      "Episode 37: reward: 58.000, steps: 60\n",
      "Episode 38: reward: 60.000, steps: 60\n",
      "Episode 39: reward: 60.000, steps: 60\n",
      "Episode 40: reward: 60.000, steps: 60\n",
      "Episode 41: reward: 60.000, steps: 60\n",
      "Episode 42: reward: 60.000, steps: 60\n",
      "Episode 43: reward: 58.000, steps: 60\n",
      "Episode 44: reward: 60.000, steps: 60\n",
      "Episode 45: reward: 58.000, steps: 60\n",
      "Episode 46: reward: 60.000, steps: 60\n",
      "Episode 47: reward: 58.000, steps: 60\n",
      "Episode 48: reward: 58.000, steps: 60\n",
      "Episode 49: reward: 58.000, steps: 60\n",
      "Episode 50: reward: 60.000, steps: 60\n",
      "Episode 51: reward: 60.000, steps: 60\n",
      "Episode 52: reward: 60.000, steps: 60\n",
      "Episode 53: reward: 60.000, steps: 60\n",
      "Episode 54: reward: 58.000, steps: 60\n",
      "Episode 55: reward: 58.000, steps: 60\n",
      "Episode 56: reward: 58.000, steps: 60\n",
      "Episode 57: reward: 60.000, steps: 60\n",
      "Episode 58: reward: 60.000, steps: 60\n",
      "Episode 59: reward: 60.000, steps: 60\n",
      "Episode 60: reward: 60.000, steps: 60\n",
      "Episode 61: reward: 60.000, steps: 60\n",
      "Episode 62: reward: 58.000, steps: 60\n",
      "Episode 63: reward: 58.000, steps: 60\n",
      "Episode 64: reward: 60.000, steps: 60\n",
      "Episode 65: reward: 60.000, steps: 60\n",
      "Episode 66: reward: 60.000, steps: 60\n",
      "Episode 67: reward: 60.000, steps: 60\n",
      "Episode 68: reward: 60.000, steps: 60\n",
      "Episode 69: reward: 58.000, steps: 60\n",
      "Episode 70: reward: 60.000, steps: 60\n",
      "Episode 71: reward: 60.000, steps: 60\n",
      "Episode 72: reward: 60.000, steps: 60\n",
      "Episode 73: reward: 60.000, steps: 60\n",
      "Episode 74: reward: 58.000, steps: 60\n",
      "Episode 75: reward: 60.000, steps: 60\n",
      "Episode 76: reward: 60.000, steps: 60\n",
      "Episode 77: reward: 60.000, steps: 60\n",
      "Episode 78: reward: 60.000, steps: 60\n",
      "Episode 79: reward: 58.000, steps: 60\n",
      "Episode 80: reward: 60.000, steps: 60\n",
      "Episode 81: reward: 60.000, steps: 60\n",
      "Episode 82: reward: 60.000, steps: 60\n",
      "Episode 83: reward: 58.000, steps: 60\n",
      "Episode 84: reward: 60.000, steps: 60\n",
      "Episode 85: reward: 60.000, steps: 60\n",
      "Episode 86: reward: 60.000, steps: 60\n",
      "Episode 87: reward: 60.000, steps: 60\n",
      "Episode 88: reward: 60.000, steps: 60\n",
      "Episode 89: reward: 60.000, steps: 60\n",
      "Episode 90: reward: 60.000, steps: 60\n",
      "Episode 91: reward: 58.000, steps: 60\n",
      "Episode 92: reward: 60.000, steps: 60\n",
      "Episode 93: reward: 60.000, steps: 60\n",
      "Episode 94: reward: 60.000, steps: 60\n",
      "Episode 95: reward: 60.000, steps: 60\n",
      "Episode 96: reward: 60.000, steps: 60\n",
      "Episode 97: reward: 60.000, steps: 60\n",
      "Episode 98: reward: 60.000, steps: 60\n",
      "Episode 99: reward: 60.000, steps: 60\n",
      "Episode 100: reward: 58.000, steps: 60\n",
      "59.46\n"
     ]
    }
   ],
   "source": [
    "scores = dqn.test(env, nb_episodes=100, visualize=False)\n",
    "print(np.mean(scores.history['episode_reward']))"
   ]
  },
  {
   "cell_type": "code",
   "execution_count": 35,
   "id": "1d4b1af5",
   "metadata": {},
   "outputs": [
    {
     "name": "stdout",
     "output_type": "stream",
     "text": [
      "Testing for 15 episodes ...\n",
      "Episode 1: reward: 60.000, steps: 60\n",
      "Episode 2: reward: 58.000, steps: 60\n",
      "Episode 3: reward: 60.000, steps: 60\n",
      "Episode 4: reward: 58.000, steps: 60\n",
      "Episode 5: reward: 60.000, steps: 60\n",
      "Episode 6: reward: 60.000, steps: 60\n",
      "Episode 7: reward: 58.000, steps: 60\n",
      "Episode 8: reward: 60.000, steps: 60\n",
      "Episode 9: reward: 60.000, steps: 60\n",
      "Episode 10: reward: 58.000, steps: 60\n",
      "Episode 11: reward: 60.000, steps: 60\n",
      "Episode 12: reward: 60.000, steps: 60\n",
      "Episode 13: reward: 58.000, steps: 60\n",
      "Episode 14: reward: 60.000, steps: 60\n",
      "Episode 15: reward: 60.000, steps: 60\n"
     ]
    }
   ],
   "source": [
    "_ = dqn.test(env, nb_episodes=15, visualize=True)"
   ]
  },
  {
   "cell_type": "markdown",
   "id": "5c0f7571",
   "metadata": {},
   "source": [
    "# Reloading Agent from Memory"
   ]
  },
  {
   "cell_type": "code",
   "execution_count": 36,
   "id": "49a9fcd8",
   "metadata": {},
   "outputs": [],
   "source": [
    "dqn.save_weights('dqn_weights.h5f', overwrite=True)"
   ]
  },
  {
   "cell_type": "code",
   "execution_count": 37,
   "id": "d6d9be54",
   "metadata": {},
   "outputs": [],
   "source": [
    "del model\n",
    "del dqn\n",
    "del env"
   ]
  },
  {
   "cell_type": "code",
   "execution_count": 39,
   "id": "9c33e18b",
   "metadata": {},
   "outputs": [],
   "source": [
    "env = gym.make('CartPole-v1')\n",
    "actions = env.action_space.n\n",
    "states = env.observation_space.shape[0]\n",
    "\n",
    "model = build_model(states, actions)\n",
    "dqn = build_agent(model, actions)\n",
    "dqn.compile(Adam(learning_rate=1e-3), metrics=['mae'])"
   ]
  },
  {
   "cell_type": "code",
   "execution_count": 40,
   "id": "cb0b4604",
   "metadata": {},
   "outputs": [
    {
     "ename": "ValueError",
     "evalue": "Layer weight shape (4, 24) not compatible with provided weight shape (1, 24)",
     "output_type": "error",
     "traceback": [
      "\u001b[1;31m---------------------------------------------------------------------------\u001b[0m",
      "\u001b[1;31mValueError\u001b[0m                                Traceback (most recent call last)",
      "Cell \u001b[1;32mIn[40], line 1\u001b[0m\n\u001b[1;32m----> 1\u001b[0m \u001b[43mdqn\u001b[49m\u001b[38;5;241;43m.\u001b[39;49m\u001b[43mload_weights\u001b[49m\u001b[43m(\u001b[49m\u001b[38;5;124;43m'\u001b[39;49m\u001b[38;5;124;43mdqn_weights.h5f\u001b[39;49m\u001b[38;5;124;43m'\u001b[39;49m\u001b[43m)\u001b[49m\n",
      "File \u001b[1;32m~\\miniconda3\\envs\\rlalm\\lib\\site-packages\\rl\\agents\\dqn.py:206\u001b[0m, in \u001b[0;36mDQNAgent.load_weights\u001b[1;34m(self, filepath)\u001b[0m\n\u001b[0;32m    204\u001b[0m \u001b[38;5;28;01mdef\u001b[39;00m \u001b[38;5;21mload_weights\u001b[39m(\u001b[38;5;28mself\u001b[39m, filepath):\n\u001b[0;32m    205\u001b[0m     \u001b[38;5;28mself\u001b[39m\u001b[38;5;241m.\u001b[39mmodel\u001b[38;5;241m.\u001b[39mload_weights(filepath)\n\u001b[1;32m--> 206\u001b[0m     \u001b[38;5;28;43mself\u001b[39;49m\u001b[38;5;241;43m.\u001b[39;49m\u001b[43mupdate_target_model_hard\u001b[49m\u001b[43m(\u001b[49m\u001b[43m)\u001b[49m\n",
      "File \u001b[1;32m~\\miniconda3\\envs\\rlalm\\lib\\site-packages\\rl\\agents\\dqn.py:219\u001b[0m, in \u001b[0;36mDQNAgent.update_target_model_hard\u001b[1;34m(self)\u001b[0m\n\u001b[0;32m    218\u001b[0m \u001b[38;5;28;01mdef\u001b[39;00m \u001b[38;5;21mupdate_target_model_hard\u001b[39m(\u001b[38;5;28mself\u001b[39m):\n\u001b[1;32m--> 219\u001b[0m     \u001b[38;5;28;43mself\u001b[39;49m\u001b[38;5;241;43m.\u001b[39;49m\u001b[43mtarget_model\u001b[49m\u001b[38;5;241;43m.\u001b[39;49m\u001b[43mset_weights\u001b[49m\u001b[43m(\u001b[49m\u001b[38;5;28;43mself\u001b[39;49m\u001b[38;5;241;43m.\u001b[39;49m\u001b[43mmodel\u001b[49m\u001b[38;5;241;43m.\u001b[39;49m\u001b[43mget_weights\u001b[49m\u001b[43m(\u001b[49m\u001b[43m)\u001b[49m\u001b[43m)\u001b[49m\n",
      "File \u001b[1;32m~\\miniconda3\\envs\\rlalm\\lib\\site-packages\\keras\\engine\\base_layer_v1.py:1395\u001b[0m, in \u001b[0;36mLayer.set_weights\u001b[1;34m(self, weights)\u001b[0m\n\u001b[0;32m   1393\u001b[0m ref_shape \u001b[38;5;241m=\u001b[39m param\u001b[38;5;241m.\u001b[39mshape\n\u001b[0;32m   1394\u001b[0m \u001b[38;5;28;01mif\u001b[39;00m \u001b[38;5;129;01mnot\u001b[39;00m ref_shape\u001b[38;5;241m.\u001b[39mis_compatible_with(weight_shape):\n\u001b[1;32m-> 1395\u001b[0m     \u001b[38;5;28;01mraise\u001b[39;00m \u001b[38;5;167;01mValueError\u001b[39;00m(\n\u001b[0;32m   1396\u001b[0m         \u001b[38;5;124m\"\u001b[39m\u001b[38;5;124mLayer weight shape \u001b[39m\u001b[38;5;132;01m%s\u001b[39;00m\u001b[38;5;124m not compatible with provided \u001b[39m\u001b[38;5;124m\"\u001b[39m\n\u001b[0;32m   1397\u001b[0m         \u001b[38;5;124m\"\u001b[39m\u001b[38;5;124mweight shape \u001b[39m\u001b[38;5;132;01m%s\u001b[39;00m\u001b[38;5;124m\"\u001b[39m \u001b[38;5;241m%\u001b[39m (ref_shape, weight_shape)\n\u001b[0;32m   1398\u001b[0m     )\n\u001b[0;32m   1399\u001b[0m weight_value_tuples\u001b[38;5;241m.\u001b[39mappend((param, weight))\n\u001b[0;32m   1400\u001b[0m weight_index \u001b[38;5;241m+\u001b[39m\u001b[38;5;241m=\u001b[39m \u001b[38;5;241m1\u001b[39m\n",
      "\u001b[1;31mValueError\u001b[0m: Layer weight shape (4, 24) not compatible with provided weight shape (1, 24)"
     ]
    }
   ],
   "source": [
    "dqn.load_weights('dqn_weights.h5f')"
   ]
  },
  {
   "cell_type": "code",
   "execution_count": null,
   "id": "fc05b45a",
   "metadata": {},
   "outputs": [],
   "source": [
    "_ = dqn.test(env, nb_episodes=5, visualize=True)"
   ]
  }
 ],
 "metadata": {
  "kernelspec": {
   "display_name": "rlalm",
   "language": "python",
   "name": "rlalm"
  },
  "language_info": {
   "codemirror_mode": {
    "name": "ipython",
    "version": 3
   },
   "file_extension": ".py",
   "mimetype": "text/x-python",
   "name": "python",
   "nbconvert_exporter": "python",
   "pygments_lexer": "ipython3",
   "version": "3.10.9"
  }
 },
 "nbformat": 4,
 "nbformat_minor": 5
}
