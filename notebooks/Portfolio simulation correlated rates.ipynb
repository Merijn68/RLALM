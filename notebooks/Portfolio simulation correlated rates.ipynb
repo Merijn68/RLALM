{
 "cells": [
  {
   "attachments": {},
   "cell_type": "markdown",
   "id": "502f6109",
   "metadata": {},
   "source": [
    "# Correlated data\n",
    "\n",
    "A simplified approach to generate correlated data - that is in line with the simulated zero curves\n",
    "Check the correlation of mortgage interest rates and swap rates"
   ]
  },
  {
   "cell_type": "code",
   "execution_count": null,
   "id": "af1429e6",
   "metadata": {},
   "outputs": [],
   "source": [
    "import numpy as np\n",
    "from scipy.stats import norm"
   ]
  },
  {
   "cell_type": "code",
   "execution_count": null,
   "id": "da2a735e",
   "metadata": {},
   "outputs": [],
   "source": [
    "interest = dataset.Interest()\n",
    "interest.read_data()\n",
    "df_i = interest.df.copy()\n",
    "df_i.rename(columns = {'fixed_period': 'type'}, inplace = True)\n"
   ]
  },
  {
   "cell_type": "code",
   "execution_count": null,
   "id": "287689f2",
   "metadata": {},
   "outputs": [],
   "source": [
    "df_z10 = df_z[df_z['tenor']=='10 Years']\n",
    "df_z10 = df_z10.drop(['value_dt','tenor'], axis = 'columns')\n",
    "df_z10 = df_z10.resample('M').mean().reset_index()\n",
    "df_z10['rate_dt'] = df_z10['rate_dt'].to_numpy().astype('datetime64[M]')\n",
    "df_z10 = df_z10.set_index('rate_dt')\n",
    "df_z10 = df_z10.rename(columns = {'rate':'interest'})\n",
    "df_z10['type'] = 'Swap'\n",
    "df_z10 = df_z10.loc[df_i.index.min(): df_i.index.max()]\n",
    "df_report = pd.concat([df_i, df_z10])\n",
    "sns.lineplot(data = df_report, x = df_report.index, y = 'interest', hue = 'type');"
   ]
  },
  {
   "cell_type": "code",
   "execution_count": null,
   "id": "797b5f4c",
   "metadata": {},
   "outputs": [],
   "source": [
    "# Define the number of time periods and factors/instruments\n",
    "num_periods = 10\n",
    "num_factors = 3\n",
    "\n",
    "# Simulate the factor values using a multivariate normal distribution\n",
    "mean = np.zeros(num_factors)\n",
    "covariance = np.array([[1.0, 0.5, 0.3], [0.5, 1.0, 0.2], [0.3, 0.2, 1.0]])\n",
    "factors = np.random.multivariate_normal(mean, covariance, num_periods)\n",
    "\n",
    "# Simulate the zero curves based on the simulated factor values\n",
    "zero_curves = np.zeros((num_periods, num_factors))\n",
    "for i in range(num_periods):\n",
    "    zero_curves[i,:] = np.exp(-0.05 * (i+1) * factors[i,:])\n",
    "\n",
    "# Simulate the data based on the simulated zero curves and assumed correlations\n",
    "correlation_matrix = np.array([[1.0, 0.8, 0.5], [0.8, 1.0, 0.4], [0.5, 0.4, 1.0]])\n",
    "simulated_data = np.zeros((num_periods, num_factors))\n",
    "for i in range(num_periods):\n",
    "    simulated_data[i,:] = norm.ppf(np.random.rand(num_factors))\n",
    "    simulated_data[i,:] = np.linalg.cholesky(correlation_matrix) @ simulated_data[i,:]\n",
    "    simulated_data[i,:] = np.exp(simulated_data[i,:] * np.sqrt(1.0 - np.diag(correlation_matrix))) * zero_curves[i,:]\n",
    "\n",
    "print(simulated_data)   "
   ]
  }
 ],
 "metadata": {
  "kernelspec": {
   "display_name": "rlalm",
   "language": "python",
   "name": "rlalm"
  },
  "language_info": {
   "codemirror_mode": {
    "name": "ipython",
    "version": 3
   },
   "file_extension": ".py",
   "mimetype": "text/x-python",
   "name": "python",
   "nbconvert_exporter": "python",
   "pygments_lexer": "ipython3",
   "version": "3.10.9"
  }
 },
 "nbformat": 4,
 "nbformat_minor": 5
}
