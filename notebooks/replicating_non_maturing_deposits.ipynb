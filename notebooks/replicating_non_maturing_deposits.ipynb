{
 "cells": [
  {
   "attachments": {},
   "cell_type": "markdown",
   "id": "32d466b6",
   "metadata": {},
   "source": [
    "### Simulating a mortgage portfolio (II)\n",
    "\n",
    "Mortgages typically have a lineair interest rate model - where the monthly prepayment is fixed, or use an annualized schema - in which interest plus prepayment makes a fixed amount per month. To start, we model all mortgages with the lineair interest rate model.\n",
    "\n",
    "See also: https://riskatwork.nl/wp-content/uploads/2019/11/RAW-MortgagePrepayments.pdf\n",
    "\n",
    "Customers normally have the option to re-pay the mortgage earlier then the maturity / repricing data.  In general a bank loan may not be held until maturity because:\n",
    "* Customers repay the loan early (as a percentage of the loan, or fully when moving)\n",
    "* Customers can default on the loan - forcing the bank to write off the loan\n",
    "\n",
    "Growth and new business \n",
    "Customers can choose the fixed interest period they select. Their choice will be influenced by market expectations, and the rates offered by the bank. "
   ]
  },
  {
   "cell_type": "code",
   "execution_count": 4,
   "id": "501e7ee4",
   "metadata": {},
   "outputs": [
    {
     "name": "stdout",
     "output_type": "stream",
     "text": [
      "The autoreload extension is already loaded. To reload it, use:\n",
      "  %reload_ext autoreload\n"
     ]
    }
   ],
   "source": [
    "%load_ext autoreload\n",
    "%autoreload 2\n",
    "%matplotlib inline\n",
    "\n",
    "import pandas as pd\n",
    "from datetime import timedelta\n",
    "from dateutil.parser import parse\n",
    "\n",
    "from src.models.bank_model import Bankmodel\n",
    "from src.data.zerocurve import Zerocurve\n",
    "from src.data.interest import Interest\n",
    "import seaborn as sns\n"
   ]
  },
  {
   "cell_type": "code",
   "execution_count": 5,
   "id": "0fa965ac",
   "metadata": {},
   "outputs": [],
   "source": [
    "# Create data objects\n",
    "zerocurve = Zerocurve()\n",
    "interest = Interest()"
   ]
  },
  {
   "cell_type": "code",
   "execution_count": 6,
   "id": "bee79462",
   "metadata": {},
   "outputs": [
    {
     "name": "stderr",
     "output_type": "stream",
     "text": [
      "2023-03-18 12:40:24.559 | INFO     | src.data.dataset:read_data:26 - reading zerocurve data from ESW.\n",
      "c:\\Users\\M\\miniconda3\\envs\\rlalm\\lib\\site-packages\\pandas\\core\\internals\\blocks.py:351: RuntimeWarning: invalid value encountered in log1p\n",
      "  result = func(self.values, **kwargs)\n",
      "2023-03-18 12:40:25.783 | INFO     | src.data.dataset:read_data:26 - reading interest data from ESW.\n"
     ]
    },
    {
     "data": {
      "text/plain": [
       "<Response [200]>"
      ]
     },
     "execution_count": 6,
     "metadata": {},
     "output_type": "execute_result"
    }
   ],
   "source": [
    "# Get zero curve historic rates\n",
    "zerocurve.read_data()\n",
    "# Get mortgage historic rates\n",
    "interest.read_data()"
   ]
  },
  {
   "cell_type": "code",
   "execution_count": 7,
   "id": "4612080d",
   "metadata": {},
   "outputs": [
    {
     "name": "stderr",
     "output_type": "stream",
     "text": [
      "2023-03-18 12:40:27.358 | INFO     | src.data.dataset:save_data:55 - saving zerocurve data to file.\n",
      "2023-03-18 12:40:27.717 | INFO     | src.data.dataset:save_data:55 - saving interest data to file.\n"
     ]
    }
   ],
   "source": [
    "zerocurve.save_data()\n",
    "interest.save_data()"
   ]
  },
  {
   "cell_type": "code",
   "execution_count": 8,
   "id": "607dcf99",
   "metadata": {},
   "outputs": [
    {
     "name": "stderr",
     "output_type": "stream",
     "text": [
      "2023-03-18 12:40:29.339 | INFO     | src.data.dataset:load_data:45 - loading zerocurve data from file.\n",
      "c:\\Users\\M\\miniconda3\\envs\\rlalm\\lib\\site-packages\\pandas\\core\\internals\\blocks.py:351: RuntimeWarning: invalid value encountered in log1p\n",
      "  result = func(self.values, **kwargs)\n",
      "2023-03-18 12:40:29.562 | INFO     | src.data.dataset:load_data:45 - loading interest data from file.\n"
     ]
    }
   ],
   "source": [
    "# Load data from csv file - not directly from ECB\n",
    "zerocurve.load_data()\n",
    "interest.load_data()"
   ]
  },
  {
   "cell_type": "code",
   "execution_count": 9,
   "id": "627f7745",
   "metadata": {},
   "outputs": [
    {
     "name": "stderr",
     "output_type": "stream",
     "text": [
      "2023-03-18 12:40:30.898 | INFO     | src.models.bank_model:generate_mortgage_contracts:111 - Added 300 mortgages to our portfolio.\n",
      "2023-03-18 12:40:36.521 | INFO     | src.models.bank_model:generate_mortgage_contracts:115 - Added 52668 cashflows to our model.\n"
     ]
    },
    {
     "data": {
      "text/html": [
       "<div>\n",
       "<style scoped>\n",
       "    .dataframe tbody tr th:only-of-type {\n",
       "        vertical-align: middle;\n",
       "    }\n",
       "\n",
       "    .dataframe tbody tr th {\n",
       "        vertical-align: top;\n",
       "    }\n",
       "\n",
       "    .dataframe thead th {\n",
       "        text-align: right;\n",
       "    }\n",
       "</style>\n",
       "<table border=\"1\" class=\"dataframe\">\n",
       "  <thead>\n",
       "    <tr style=\"text-align: right;\">\n",
       "      <th></th>\n",
       "      <th>category</th>\n",
       "      <th>fixed_period</th>\n",
       "      <th>years</th>\n",
       "      <th>start_date</th>\n",
       "      <th>principal</th>\n",
       "      <th>period</th>\n",
       "      <th>interest</th>\n",
       "      <th>contract</th>\n",
       "    </tr>\n",
       "  </thead>\n",
       "  <tbody>\n",
       "    <tr>\n",
       "      <th>0</th>\n",
       "      <td>3</td>\n",
       "      <td>&gt;10 years</td>\n",
       "      <td>20</td>\n",
       "      <td>2014-06-23</td>\n",
       "      <td>200000</td>\n",
       "      <td>2014-06-01</td>\n",
       "      <td>4.48</td>\n",
       "      <td>0</td>\n",
       "    </tr>\n",
       "    <tr>\n",
       "      <th>1</th>\n",
       "      <td>1</td>\n",
       "      <td>1&gt;5 years</td>\n",
       "      <td>5</td>\n",
       "      <td>2018-10-18</td>\n",
       "      <td>200000</td>\n",
       "      <td>2018-10-01</td>\n",
       "      <td>2.05</td>\n",
       "      <td>1</td>\n",
       "    </tr>\n",
       "    <tr>\n",
       "      <th>2</th>\n",
       "      <td>2</td>\n",
       "      <td>5&gt;10 years</td>\n",
       "      <td>10</td>\n",
       "      <td>2019-11-07</td>\n",
       "      <td>200000</td>\n",
       "      <td>2019-11-01</td>\n",
       "      <td>2.37</td>\n",
       "      <td>2</td>\n",
       "    </tr>\n",
       "    <tr>\n",
       "      <th>3</th>\n",
       "      <td>2</td>\n",
       "      <td>5&gt;10 years</td>\n",
       "      <td>10</td>\n",
       "      <td>2015-03-19</td>\n",
       "      <td>200000</td>\n",
       "      <td>2015-03-01</td>\n",
       "      <td>3.05</td>\n",
       "      <td>3</td>\n",
       "    </tr>\n",
       "    <tr>\n",
       "      <th>4</th>\n",
       "      <td>0</td>\n",
       "      <td>&lt;= 1 year</td>\n",
       "      <td>1</td>\n",
       "      <td>2023-01-16</td>\n",
       "      <td>200000</td>\n",
       "      <td>2023-01-01</td>\n",
       "      <td>3.79</td>\n",
       "      <td>4</td>\n",
       "    </tr>\n",
       "  </tbody>\n",
       "</table>\n",
       "</div>"
      ],
      "text/plain": [
       "   category fixed_period  years start_date  principal     period  interest  \\\n",
       "0         3    >10 years     20 2014-06-23     200000 2014-06-01      4.48   \n",
       "1         1    1>5 years      5 2018-10-18     200000 2018-10-01      2.05   \n",
       "2         2   5>10 years     10 2019-11-07     200000 2019-11-01      2.37   \n",
       "3         2   5>10 years     10 2015-03-19     200000 2015-03-01      3.05   \n",
       "4         0    <= 1 year      1 2023-01-16     200000 2023-01-01      3.79   \n",
       "\n",
       "   contract  \n",
       "0         0  \n",
       "1         1  \n",
       "2         2  \n",
       "3         3  \n",
       "4         4  "
      ]
     },
     "execution_count": 9,
     "metadata": {},
     "output_type": "execute_result"
    }
   ],
   "source": [
    "# pos_date = parse('28-02-2023')\n",
    "bankmodel = Bankmodel(pos_date = zerocurve.df.index[-1])\n",
    "bankmodel.generate_mortgage_contracts(n = 300, df_i = interest.df)\n",
    "bankmodel.df_mortgages.head()"
   ]
  },
  {
   "cell_type": "code",
   "execution_count": 10,
   "id": "f35ad3c6",
   "metadata": {},
   "outputs": [
    {
     "data": {
      "image/png": "[encoded data removed]",
      "text/plain": [
       "<Figure size 1000x600 with 1 Axes>"
      ]
     },
     "metadata": {},
     "output_type": "display_data"
    }
   ],
   "source": [
    "bankmodel.plot_contracts();"
   ]
  },
  {
   "cell_type": "code",
   "execution_count": 11,
   "id": "cad040c1",
   "metadata": {},
   "outputs": [
    {
     "data": {
      "image/png": "[encoded data removed]",
      "text/plain": [
       "<Figure size 1000x600 with 1 Axes>"
      ]
     },
     "metadata": {},
     "output_type": "display_data"
    }
   ],
   "source": [
    "bankmodel.plot_cashflows()"
   ]
  },
  {
   "attachments": {},
   "cell_type": "markdown",
   "id": "04cd9606",
   "metadata": {},
   "source": [
    "### npv calculation\n",
    "\n",
    "$$NPV = {{Cashflow} \\over (1+i)^T}.$$\n",
    "$$DF_0^T = [1+R_{zc}]^{-T})$$\n",
    "where:\n",
    "- $DF_0^T$  = a discount factor with maturity T\n",
    "- $R_{zc}$ = A zero coupon interest rate\n",
    "- $T$ = Maturity of the zero rate, in years (calculated as days/365)"
   ]
  },
  {
   "cell_type": "code",
   "execution_count": 13,
   "id": "c3d4abf3",
   "metadata": {},
   "outputs": [
    {
     "data": {
      "text/plain": [
       "45875890.46000001"
      ]
     },
     "execution_count": 13,
     "metadata": {},
     "output_type": "execute_result"
    }
   ],
   "source": [
    "bankmodel.calculate_npv(zerocurve)"
   ]
  },
  {
   "cell_type": "code",
   "execution_count": 14,
   "id": "14332a2f",
   "metadata": {},
   "outputs": [
    {
     "name": "stderr",
     "output_type": "stream",
     "text": [
      "2023-03-18 12:41:27.784 | DEBUG    | src.data.zerocurve:step:124 - Stepping in zerocurve 2023-03-01 00:00:00.\n"
     ]
    },
    {
     "data": {
      "text/plain": [
       "45905535.82"
      ]
     },
     "execution_count": 14,
     "metadata": {},
     "output_type": "execute_result"
    }
   ],
   "source": [
    "bankmodel.step()\n",
    "zerocurve.step()\n",
    "bankmodel.calculate_npv(zerocurve)\n",
    "\n"
   ]
  },
  {
   "cell_type": "code",
   "execution_count": 20,
   "id": "332b1fc3",
   "metadata": {},
   "outputs": [
    {
     "name": "stderr",
     "output_type": "stream",
     "text": [
      "2023-03-18 12:45:02.411 | DEBUG    | src.data.zerocurve:step:124 - Stepping in zerocurve 2023-03-01 00:00:00.\n",
      "2023-03-18 12:45:02.453 | DEBUG    | src.data.zerocurve:step:124 - Stepping in zerocurve 2023-03-02 00:00:00.\n",
      "2023-03-18 12:45:02.491 | DEBUG    | src.data.zerocurve:step:124 - Stepping in zerocurve 2023-03-03 00:00:00.\n",
      "2023-03-18 12:45:02.526 | DEBUG    | src.data.zerocurve:step:124 - Stepping in zerocurve 2023-03-06 00:00:00.\n",
      "2023-03-18 12:45:02.575 | DEBUG    | src.data.zerocurve:step:124 - Stepping in zerocurve 2023-03-07 00:00:00.\n",
      "2023-03-18 12:45:02.611 | DEBUG    | src.data.zerocurve:step:124 - Stepping in zerocurve 2023-03-08 00:00:00.\n",
      "2023-03-18 12:45:02.645 | DEBUG    | src.data.zerocurve:step:124 - Stepping in zerocurve 2023-03-09 00:00:00.\n",
      "2023-03-18 12:45:02.683 | DEBUG    | src.data.zerocurve:step:124 - Stepping in zerocurve 2023-03-10 00:00:00.\n",
      "2023-03-18 12:45:02.723 | DEBUG    | src.data.zerocurve:step:124 - Stepping in zerocurve 2023-03-13 00:00:00.\n",
      "2023-03-18 12:45:02.760 | DEBUG    | src.data.zerocurve:step:124 - Stepping in zerocurve 2023-03-14 00:00:00.\n",
      "2023-03-18 12:45:02.796 | DEBUG    | src.data.zerocurve:step:124 - Stepping in zerocurve 2023-03-15 00:00:00.\n",
      "2023-03-18 12:45:02.837 | DEBUG    | src.data.zerocurve:step:124 - Stepping in zerocurve 2023-03-16 00:00:00.\n",
      "2023-03-18 12:45:02.869 | DEBUG    | src.data.zerocurve:step:124 - Stepping in zerocurve 2023-03-17 00:00:00.\n",
      "2023-03-18 12:45:02.903 | DEBUG    | src.data.zerocurve:step:124 - Stepping in zerocurve 2023-03-20 00:00:00.\n",
      "2023-03-18 12:45:02.949 | DEBUG    | src.data.zerocurve:step:124 - Stepping in zerocurve 2023-03-21 00:00:00.\n",
      "2023-03-18 12:45:02.985 | DEBUG    | src.data.zerocurve:step:124 - Stepping in zerocurve 2023-03-22 00:00:00.\n",
      "2023-03-18 12:45:03.034 | DEBUG    | src.data.zerocurve:step:124 - Stepping in zerocurve 2023-03-23 00:00:00.\n",
      "2023-03-18 12:45:03.077 | DEBUG    | src.data.zerocurve:step:124 - Stepping in zerocurve 2023-03-24 00:00:00.\n",
      "2023-03-18 12:45:03.118 | DEBUG    | src.data.zerocurve:step:124 - Stepping in zerocurve 2023-03-27 00:00:00.\n",
      "2023-03-18 12:45:03.153 | DEBUG    | src.data.zerocurve:step:124 - Stepping in zerocurve 2023-03-28 00:00:00.\n",
      "2023-03-18 12:45:03.193 | DEBUG    | src.data.zerocurve:step:124 - Stepping in zerocurve 2023-03-29 00:00:00.\n",
      "2023-03-18 12:45:03.227 | DEBUG    | src.data.zerocurve:step:124 - Stepping in zerocurve 2023-03-30 00:00:00.\n",
      "2023-03-18 12:45:03.264 | DEBUG    | src.data.zerocurve:step:124 - Stepping in zerocurve 2023-03-31 00:00:00.\n",
      "2023-03-18 12:45:03.301 | DEBUG    | src.data.zerocurve:step:124 - Stepping in zerocurve 2023-04-03 00:00:00.\n",
      "2023-03-18 12:45:03.340 | DEBUG    | src.data.zerocurve:step:124 - Stepping in zerocurve 2023-04-04 00:00:00.\n",
      "2023-03-18 12:45:03.376 | DEBUG    | src.data.zerocurve:step:124 - Stepping in zerocurve 2023-04-05 00:00:00.\n",
      "2023-03-18 12:45:03.409 | DEBUG    | src.data.zerocurve:step:124 - Stepping in zerocurve 2023-04-06 00:00:00.\n",
      "2023-03-18 12:45:03.448 | DEBUG    | src.data.zerocurve:step:124 - Stepping in zerocurve 2023-04-07 00:00:00.\n",
      "2023-03-18 12:45:03.501 | DEBUG    | src.data.zerocurve:step:124 - Stepping in zerocurve 2023-04-10 00:00:00.\n",
      "2023-03-18 12:45:03.538 | DEBUG    | src.data.zerocurve:step:124 - Stepping in zerocurve 2023-04-11 00:00:00.\n",
      "2023-03-18 12:45:03.575 | DEBUG    | src.data.zerocurve:step:124 - Stepping in zerocurve 2023-04-12 00:00:00.\n",
      "2023-03-18 12:45:03.611 | DEBUG    | src.data.zerocurve:step:124 - Stepping in zerocurve 2023-04-13 00:00:00.\n",
      "2023-03-18 12:45:03.646 | DEBUG    | src.data.zerocurve:step:124 - Stepping in zerocurve 2023-04-14 00:00:00.\n",
      "2023-03-18 12:45:03.681 | DEBUG    | src.data.zerocurve:step:124 - Stepping in zerocurve 2023-04-17 00:00:00.\n",
      "2023-03-18 12:45:03.717 | DEBUG    | src.data.zerocurve:step:124 - Stepping in zerocurve 2023-04-18 00:00:00.\n",
      "2023-03-18 12:45:03.754 | DEBUG    | src.data.zerocurve:step:124 - Stepping in zerocurve 2023-04-19 00:00:00.\n",
      "2023-03-18 12:45:03.791 | DEBUG    | src.data.zerocurve:step:124 - Stepping in zerocurve 2023-04-20 00:00:00.\n",
      "2023-03-18 12:45:03.823 | DEBUG    | src.data.zerocurve:step:124 - Stepping in zerocurve 2023-04-21 00:00:00.\n",
      "2023-03-18 12:45:03.859 | DEBUG    | src.data.zerocurve:step:124 - Stepping in zerocurve 2023-04-24 00:00:00.\n",
      "2023-03-18 12:45:03.892 | DEBUG    | src.data.zerocurve:step:124 - Stepping in zerocurve 2023-04-25 00:00:00.\n",
      "2023-03-18 12:45:03.935 | DEBUG    | src.data.zerocurve:step:124 - Stepping in zerocurve 2023-04-26 00:00:00.\n",
      "2023-03-18 12:45:03.966 | DEBUG    | src.data.zerocurve:step:124 - Stepping in zerocurve 2023-04-27 00:00:00.\n",
      "2023-03-18 12:45:04.000 | DEBUG    | src.data.zerocurve:step:124 - Stepping in zerocurve 2023-04-28 00:00:00.\n",
      "2023-03-18 12:45:04.034 | DEBUG    | src.data.zerocurve:step:124 - Stepping in zerocurve 2023-05-01 00:00:00.\n",
      "2023-03-18 12:45:04.096 | DEBUG    | src.data.zerocurve:step:124 - Stepping in zerocurve 2023-05-02 00:00:00.\n",
      "2023-03-18 12:45:04.154 | DEBUG    | src.data.zerocurve:step:124 - Stepping in zerocurve 2023-05-03 00:00:00.\n",
      "2023-03-18 12:45:04.200 | DEBUG    | src.data.zerocurve:step:124 - Stepping in zerocurve 2023-05-04 00:00:00.\n",
      "2023-03-18 12:45:04.231 | DEBUG    | src.data.zerocurve:step:124 - Stepping in zerocurve 2023-05-05 00:00:00.\n",
      "2023-03-18 12:45:04.264 | DEBUG    | src.data.zerocurve:step:124 - Stepping in zerocurve 2023-05-08 00:00:00.\n",
      "2023-03-18 12:45:04.297 | DEBUG    | src.data.zerocurve:step:124 - Stepping in zerocurve 2023-05-09 00:00:00.\n",
      "2023-03-18 12:45:04.332 | DEBUG    | src.data.zerocurve:step:124 - Stepping in zerocurve 2023-05-10 00:00:00.\n",
      "2023-03-18 12:45:04.365 | DEBUG    | src.data.zerocurve:step:124 - Stepping in zerocurve 2023-05-11 00:00:00.\n",
      "2023-03-18 12:45:04.401 | DEBUG    | src.data.zerocurve:step:124 - Stepping in zerocurve 2023-05-12 00:00:00.\n",
      "2023-03-18 12:45:04.434 | DEBUG    | src.data.zerocurve:step:124 - Stepping in zerocurve 2023-05-15 00:00:00.\n",
      "2023-03-18 12:45:04.466 | DEBUG    | src.data.zerocurve:step:124 - Stepping in zerocurve 2023-05-16 00:00:00.\n",
      "2023-03-18 12:45:04.510 | DEBUG    | src.data.zerocurve:step:124 - Stepping in zerocurve 2023-05-17 00:00:00.\n",
      "2023-03-18 12:45:04.548 | DEBUG    | src.data.zerocurve:step:124 - Stepping in zerocurve 2023-05-18 00:00:00.\n",
      "2023-03-18 12:45:04.581 | DEBUG    | src.data.zerocurve:step:124 - Stepping in zerocurve 2023-05-19 00:00:00.\n",
      "2023-03-18 12:45:04.613 | DEBUG    | src.data.zerocurve:step:124 - Stepping in zerocurve 2023-05-22 00:00:00.\n",
      "2023-03-18 12:45:04.648 | DEBUG    | src.data.zerocurve:step:124 - Stepping in zerocurve 2023-05-23 00:00:00.\n",
      "2023-03-18 12:45:04.681 | DEBUG    | src.data.zerocurve:step:124 - Stepping in zerocurve 2023-05-24 00:00:00.\n",
      "2023-03-18 12:45:04.714 | DEBUG    | src.data.zerocurve:step:124 - Stepping in zerocurve 2023-05-25 00:00:00.\n",
      "2023-03-18 12:45:04.750 | DEBUG    | src.data.zerocurve:step:124 - Stepping in zerocurve 2023-05-26 00:00:00.\n",
      "2023-03-18 12:45:04.784 | DEBUG    | src.data.zerocurve:step:124 - Stepping in zerocurve 2023-05-29 00:00:00.\n",
      "2023-03-18 12:45:04.817 | DEBUG    | src.data.zerocurve:step:124 - Stepping in zerocurve 2023-05-30 00:00:00.\n",
      "2023-03-18 12:45:04.851 | DEBUG    | src.data.zerocurve:step:124 - Stepping in zerocurve 2023-05-31 00:00:00.\n",
      "2023-03-18 12:45:04.885 | DEBUG    | src.data.zerocurve:step:124 - Stepping in zerocurve 2023-06-01 00:00:00.\n",
      "2023-03-18 12:45:04.921 | DEBUG    | src.data.zerocurve:step:124 - Stepping in zerocurve 2023-06-02 00:00:00.\n",
      "2023-03-18 12:45:04.959 | DEBUG    | src.data.zerocurve:step:124 - Stepping in zerocurve 2023-06-05 00:00:00.\n",
      "2023-03-18 12:45:04.993 | DEBUG    | src.data.zerocurve:step:124 - Stepping in zerocurve 2023-06-06 00:00:00.\n",
      "2023-03-18 12:45:05.036 | DEBUG    | src.data.zerocurve:step:124 - Stepping in zerocurve 2023-06-07 00:00:00.\n",
      "2023-03-18 12:45:05.068 | DEBUG    | src.data.zerocurve:step:124 - Stepping in zerocurve 2023-06-08 00:00:00.\n",
      "2023-03-18 12:45:05.103 | DEBUG    | src.data.zerocurve:step:124 - Stepping in zerocurve 2023-06-09 00:00:00.\n",
      "2023-03-18 12:45:05.135 | DEBUG    | src.data.zerocurve:step:124 - Stepping in zerocurve 2023-06-12 00:00:00.\n",
      "2023-03-18 12:45:05.168 | DEBUG    | src.data.zerocurve:step:124 - Stepping in zerocurve 2023-06-13 00:00:00.\n",
      "2023-03-18 12:45:05.201 | DEBUG    | src.data.zerocurve:step:124 - Stepping in zerocurve 2023-06-14 00:00:00.\n",
      "2023-03-18 12:45:05.233 | DEBUG    | src.data.zerocurve:step:124 - Stepping in zerocurve 2023-06-15 00:00:00.\n",
      "2023-03-18 12:45:05.266 | DEBUG    | src.data.zerocurve:step:124 - Stepping in zerocurve 2023-06-16 00:00:00.\n",
      "2023-03-18 12:45:05.300 | DEBUG    | src.data.zerocurve:step:124 - Stepping in zerocurve 2023-06-19 00:00:00.\n",
      "2023-03-18 12:45:05.333 | DEBUG    | src.data.zerocurve:step:124 - Stepping in zerocurve 2023-06-20 00:00:00.\n",
      "2023-03-18 12:45:05.370 | DEBUG    | src.data.zerocurve:step:124 - Stepping in zerocurve 2023-06-21 00:00:00.\n",
      "2023-03-18 12:45:05.406 | DEBUG    | src.data.zerocurve:step:124 - Stepping in zerocurve 2023-06-22 00:00:00.\n",
      "2023-03-18 12:45:05.442 | DEBUG    | src.data.zerocurve:step:124 - Stepping in zerocurve 2023-06-23 00:00:00.\n",
      "2023-03-18 12:45:05.474 | DEBUG    | src.data.zerocurve:step:124 - Stepping in zerocurve 2023-06-26 00:00:00.\n",
      "2023-03-18 12:45:05.511 | DEBUG    | src.data.zerocurve:step:124 - Stepping in zerocurve 2023-06-27 00:00:00.\n",
      "2023-03-18 12:45:05.550 | DEBUG    | src.data.zerocurve:step:124 - Stepping in zerocurve 2023-06-28 00:00:00.\n",
      "2023-03-18 12:45:05.588 | DEBUG    | src.data.zerocurve:step:124 - Stepping in zerocurve 2023-06-29 00:00:00.\n",
      "2023-03-18 12:45:05.622 | DEBUG    | src.data.zerocurve:step:124 - Stepping in zerocurve 2023-06-30 00:00:00.\n",
      "2023-03-18 12:45:05.654 | DEBUG    | src.data.zerocurve:step:124 - Stepping in zerocurve 2023-07-03 00:00:00.\n",
      "2023-03-18 12:45:05.689 | DEBUG    | src.data.zerocurve:step:124 - Stepping in zerocurve 2023-07-04 00:00:00.\n",
      "2023-03-18 12:45:05.724 | DEBUG    | src.data.zerocurve:step:124 - Stepping in zerocurve 2023-07-05 00:00:00.\n",
      "2023-03-18 12:45:05.757 | DEBUG    | src.data.zerocurve:step:124 - Stepping in zerocurve 2023-07-06 00:00:00.\n",
      "2023-03-18 12:45:05.791 | DEBUG    | src.data.zerocurve:step:124 - Stepping in zerocurve 2023-07-07 00:00:00.\n",
      "2023-03-18 12:45:05.825 | DEBUG    | src.data.zerocurve:step:124 - Stepping in zerocurve 2023-07-10 00:00:00.\n",
      "2023-03-18 12:45:05.860 | DEBUG    | src.data.zerocurve:step:124 - Stepping in zerocurve 2023-07-11 00:00:00.\n",
      "2023-03-18 12:45:05.890 | DEBUG    | src.data.zerocurve:step:124 - Stepping in zerocurve 2023-07-12 00:00:00.\n",
      "2023-03-18 12:45:05.937 | DEBUG    | src.data.zerocurve:step:124 - Stepping in zerocurve 2023-07-13 00:00:00.\n",
      "2023-03-18 12:45:05.973 | DEBUG    | src.data.zerocurve:step:124 - Stepping in zerocurve 2023-07-14 00:00:00.\n",
      "2023-03-18 12:45:06.007 | DEBUG    | src.data.zerocurve:step:124 - Stepping in zerocurve 2023-07-17 00:00:00.\n",
      "2023-03-18 12:45:06.069 | DEBUG    | src.data.zerocurve:step:124 - Stepping in zerocurve 2023-07-18 00:00:00.\n"
     ]
    },
    {
     "data": {
      "text/plain": [
       "<AxesSubplot:>"
      ]
     },
     "execution_count": 20,
     "metadata": {},
     "output_type": "execute_result"
    },
    {
     "data": {
      "image/png": "[encoded data removed]",
      "text/plain": [
       "<Figure size 1000x600 with 1 Axes>"
      ]
     },
     "metadata": {},
     "output_type": "display_data"
    }
   ],
   "source": [
    "# run an episode of 100 steps\n",
    "\n",
    "returns = []\n",
    "for i in range(100):\n",
    "    bankmodel.step()\n",
    "    zerocurve.step()\n",
    "    returns.append(bankmodel.calculate_npv(zerocurve))\n",
    "\n",
    "sns.lineplot(returns)"
   ]
  },
  {
   "cell_type": "code",
   "execution_count": 17,
   "id": "42889f17",
   "metadata": {},
   "outputs": [
    {
     "name": "stderr",
     "output_type": "stream",
     "text": [
      "c:\\Users\\M\\miniconda3\\envs\\rlalm\\lib\\site-packages\\pandas\\core\\internals\\blocks.py:351: RuntimeWarning: invalid value encountered in log1p\n",
      "  result = func(self.values, **kwargs)\n"
     ]
    }
   ],
   "source": [
    "bankmodel.reset()\n",
    "zerocurve.reset()"
   ]
  },
  {
   "cell_type": "code",
   "execution_count": 19,
   "id": "949ef72d",
   "metadata": {},
   "outputs": [
    {
     "data": {
      "text/plain": [
       "45875890.46000001"
      ]
     },
     "execution_count": 19,
     "metadata": {},
     "output_type": "execute_result"
    }
   ],
   "source": [
    "bankmodel.calculate_npv(zerocurve)"
   ]
  },
  {
   "cell_type": "markdown",
   "id": "4659552a",
   "metadata": {},
   "source": [
    "Non Maturity Deposits"
   ]
  },
  {
   "cell_type": "markdown",
   "id": "beea847c",
   "metadata": {},
   "source": [
    "#### Core vs Non Core balances\n",
    "For saving deposits a cap on the average maturity of the core deposits is set at 4.5 years. \n",
    "In general 70% - 90% of the deposits can be classied as core capital. (See guidelines BCBS)"
   ]
  },
  {
   "cell_type": "code",
   "execution_count": null,
   "id": "c87779ce",
   "metadata": {},
   "outputs": [],
   "source": [
    "\n",
    "\n"
   ]
  }
 ],
 "metadata": {
  "kernelspec": {
   "display_name": "rlalm",
   "language": "python",
   "name": "rlalm"
  },
  "language_info": {
   "codemirror_mode": {
    "name": "ipython",
    "version": 3
   },
   "file_extension": ".py",
   "mimetype": "text/x-python",
   "name": "python",
   "nbconvert_exporter": "python",
   "pygments_lexer": "ipython3",
   "version": "3.10.9"
  }
 },
 "nbformat": 4,
 "nbformat_minor": 5
}
